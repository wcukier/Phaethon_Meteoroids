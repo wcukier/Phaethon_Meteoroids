{
 "cells": [
  {
   "cell_type": "code",
   "execution_count": 1,
   "metadata": {},
   "outputs": [],
   "source": [
    "import numpy as np\n",
    "import pandas as pd\n",
    "from matplotlib import pyplot as plt\n",
    "from scipy.integrate import odeint\n",
    "from scipy.interpolate import interp1d\n",
    "from tqdm import tqdm\n",
    "import scipy\n",
    "import spiceypy as spice\n",
    "import rebound\n",
    "import reboundx\n",
    "import matplotlib\n",
    "import pandas as pd\n",
    "import matplotlib.dates as mdates\n",
    "import matplotlib.cbook as cbook"
   ]
  },
  {
   "cell_type": "code",
   "execution_count": 2,
   "metadata": {},
   "outputs": [],
   "source": [
    "import sys\n",
    "sys.path.append('..')\n",
    "from geminids.weights import *\n",
    "from geminids.beta2mass import asteroidal as asteroidal\n",
    "from geminids.constants import *"
   ]
  },
  {
   "cell_type": "code",
   "execution_count": 3,
   "metadata": {},
   "outputs": [],
   "source": [
    "# orbit = np.load('orbit_time.npy')\n",
    "# orbit_act = np.load('orbit.npy')\n",
    "# psp = np.load('psp-week_after.npy')\n",
    "# psp2 = np.load('psp-week_both.npy')\n",
    "# t = np.load('t-week_after.npy')\n",
    "# t2 = np.load('t-week_both.npy')\n",
    "# psp_vel = np.load('psp-vel.npy')\n",
    "t_vel = np.load('data/t-vel.npy')\n",
    "\n",
    "# plt.plot(psp2[:,0], psp2[:,1], c = 'r')\n",
    "# plt.plot(psp_vel[:,0], psp_vel[:,1], c = 'r')\n",
    "\n",
    "# psp2 = psp_vel[:,:3]\n",
    "t2 = t_vel\n",
    "\n",
    "# plt.plot(orbit[:,0,0], orbit[:,0,1])\n",
    "# plt.plot(orbit_act[:,0,0], orbit_act[:,0,1])\n",
    "\n",
    "orbit = np.load('data/phaethon.npy')\n",
    "psp2 = np.load('data/psp.npy')\n",
    "t_act = np.load('data/t-3200.npy')\n",
    "earth = spice.convrt(np.load('data/earth.npy'), \"AU\", \"M\")\n"
   ]
  },
  {
   "cell_type": "code",
   "execution_count": null,
   "metadata": {},
   "outputs": [],
   "source": []
  },
  {
   "cell_type": "code",
   "execution_count": 4,
   "metadata": {},
   "outputs": [],
   "source": [
    "spice.furnsh(\"data/meta.tm\")"
   ]
  },
  {
   "cell_type": "code",
   "execution_count": 5,
   "metadata": {},
   "outputs": [
    {
     "name": "stderr",
     "output_type": "stream",
     "text": [
      "  1%|          | 5266/460000 [00:00<00:08, 52656.91it/s]"
     ]
    },
    {
     "name": "stdout",
     "output_type": "stream",
     "text": [
      "Added Jupiter...\n",
      "Added Earth...\n",
      "Added Mars...\n",
      "Added Venus...\n",
      "Added Mercury...\n",
      "adding particles...\n",
      "time arrays...\n",
      "simulating...\n"
     ]
    },
    {
     "name": "stderr",
     "output_type": "stream",
     "text": [
      "100%|██████████| 460000/460000 [00:08<00:00, 55965.65it/s]\n",
      "100%|██████████| 1051200/1051200 [00:44<00:00, 23418.72it/s]\n"
     ]
    }
   ],
   "source": [
    "\n",
    "t_start = spice.str2et('2017-01-01')\n",
    "beg = spice.str2et('2017-01-01')\n",
    "end = spice.str2et('2019-01-01')\n",
    "\n",
    "pts_per_year = 365*24*60\n",
    "n_particles = 1\n",
    "n_years = 2\n",
    "\n",
    "\n",
    "[y0, lt] = spice.spkezr('2003200', t_start, 'J2000', 'NONE', 'SUN')\n",
    "y0 = spice.convrt(y0, \"KM\", \"AU\")\n",
    "\n",
    "\n",
    "n = 1\n",
    "\n",
    "\n",
    "# sim = rebound.Simulation(\"/content/gdrive/MyDrive/Research/Su_2021/J+Inner.bin\")\n",
    "sim = rebound.Simulation()\n",
    "\n",
    "\n",
    "sim.units = ('s', 'AU', 'Msun')\n",
    "sim.dt = -.001\n",
    "sim.add(m=1.)\n",
    "\n",
    "[yj, lt] = spice.spkezr(\"JUPITER BARYCENTER\", t_start, \"J2000\", \"NONE\", \"SUN\")\n",
    "yj = spice.convrt(yj, \"KM\", \"AU\")\n",
    "sim.add(m=0.000954588, x=yj[0], y=yj[1], z=yj[2], vx=yj[3], vy=yj[4], vz=yj[5])\n",
    "print(\"Added Jupiter...\")\n",
    "\n",
    "[e_pos, lt] = spice.spkezr('EARTH', t_start, 'J2000', 'NONE', 'SUN')\n",
    "e_pos = spice.convrt(e_pos, 'KM', 'AU')\n",
    "sim.add(m=MASS_E/MASS_SUN, x=e_pos[0], y=e_pos[1], z=e_pos[2], vx=e_pos[3], vy=e_pos[4], vz=e_pos[5])\n",
    "print(\"Added Earth...\")\n",
    "\n",
    "\n",
    "[mr_pos, lt] = spice.spkezr('4', t_start, 'J2000', 'NONE', 'SUN')\n",
    "mr_pos = spice.convrt(mr_pos, 'KM', 'AU')\n",
    "sim.add(m=MASS_MR/MASS_SUN, x=mr_pos[0], y=mr_pos[1], z=mr_pos[2], vx=mr_pos[3], vy=mr_pos[4], vz=mr_pos[5])\n",
    "print(\"Added Mars...\")\n",
    "\n",
    "\n",
    "\n",
    "[v_pos, lt] = spice.spkezr('VENUS', t_start, 'J2000', 'NONE', 'SUN')\n",
    "v_pos = spice.convrt(v_pos, 'KM', 'AU')\n",
    "sim.add(m=MASS_V/MASS_SUN, x=v_pos[0], y=v_pos[1], z=v_pos[2], vx=v_pos[3], vy=v_pos[4], vz=v_pos[5])\n",
    "print(\"Added Venus...\")\n",
    "\n",
    "\n",
    "\n",
    "[hg_pos, lt] = spice.spkezr('MERCURY', t_start, 'J2000', 'NONE', 'SUN')\n",
    "hg_pos = spice.convrt(hg_pos, 'KM', 'AU')\n",
    "sim.add(m=MASS_HG/MASS_SUN, x=hg_pos[0], y=hg_pos[1], z=hg_pos[2], vx=hg_pos[3], vy=hg_pos[4], vz=hg_pos[5])\n",
    "print(\"Added Mercury...\")\n",
    "\n",
    "\n",
    "n_active = len(sim.particles)\n",
    "\n",
    "\n",
    "\n",
    "\n",
    "sim.n_active = n_active\n",
    "sim.collision = \"none\"\n",
    "\n",
    "\n",
    "\n",
    "sim.move_to_hel()\n",
    "print(\"adding particles...\")\n",
    "\n",
    "sim.add(x = y0[0], y=y0[1], z=y0[2], vx=y0[3], vy = y0[4], vz = y0[5])\n",
    "sim.move_to_com()\n",
    "\n",
    "\n",
    "\n",
    "\n",
    "print(\"time arrays...\")\n",
    "\n",
    "Noutputs = n_years*pts_per_year\n",
    "year = spice.jyear()\n",
    "times = np.linspace(end-t_start, beg-t_start, int(Noutputs))\n",
    "\n",
    "\n",
    "t2 = np.linspace(0, end-t_start, int(1600 + 3000)*100)\n",
    "pos = np.zeros((n,int(Noutputs),3))\n",
    "\n",
    "sim.move_to_com()        \n",
    "ps = sim.particles      \n",
    "\n",
    "\n",
    "\n",
    "xy = np.zeros((int(Noutputs),6))\n",
    "xy2 = np.zeros((int(1600 + 3000)*100,3))\n",
    "d = np.zeros(int(Noutputs))\n",
    "print(\"simulating...\")\n",
    "p = sim.particles[6]\n",
    "\n",
    "for i, time in enumerate(tqdm(t2)):\n",
    "    sim.integrate(time)\n",
    "    xy2[i] = [p.x, p.y, p.z]    \n",
    "for i, time in enumerate(tqdm(times)):\n",
    "    sim.integrate(time)\n",
    "    sim.move_to_hel()\n",
    "    xy[i] = [p.x, p.y, p.z, p.vx, p.vy, p.vz]\n",
    "    d[i] = spice.vnorm(xy[i][0:3])\n",
    "    sim.move_to_com()\n",
    "\n",
    "start_date = t_start"
   ]
  },
  {
   "cell_type": "code",
   "execution_count": 6,
   "metadata": {},
   "outputs": [
    {
     "data": {
      "text/plain": [
       "'2018 JAN 25 08:12:32.0000246763229'"
      ]
     },
     "execution_count": 6,
     "metadata": {},
     "output_type": "execute_result"
    }
   ],
   "source": [
    "idxmin = np.argmin(d)\n",
    "t_start = times[idxmin] + start_date\n",
    "perihelion = xy[idxmin]\n",
    "\n",
    "\n",
    "\n",
    "date_start = spice.et2utc(t_start, \"C\", 14)\n",
    "date_start"
   ]
  },
  {
   "cell_type": "code",
   "execution_count": 7,
   "metadata": {},
   "outputs": [
    {
     "name": "stderr",
     "output_type": "stream",
     "text": [
      "100%|██████████| 730/730 [00:00<00:00, 35720.77it/s]\n"
     ]
    },
    {
     "data": {
      "image/png": "[encoded data removed]",
      "text/plain": [
       "<Figure size 432x288 with 1 Axes>"
      ]
     },
     "metadata": {
      "needs_background": "light"
     },
     "output_type": "display_data"
    },
    {
     "name": "stdout",
     "output_type": "stream",
     "text": [
      "2018 JAN 25 08:12:32\n"
     ]
    }
   ],
   "source": [
    "x = np.array([0,0,0])\n",
    "t = np.linspace(spice.str2et('1600-01-01'), spice.str2et('1602-01-01'), num=365*2)\n",
    "for time in tqdm(t):\n",
    "  [pos, lt] = spice.spkpos(\"2003200\", time, \"J2000\", \"NONE\", \"SUN\")\n",
    "  x = np.vstack((x, pos))\n",
    "\n",
    "x = x[1:]\n",
    "plt.plot(x[:,0]/AU_TO_M*1e3, x[:,1]/AU_TO_M*1e3)\n",
    "plt.scatter(perihelion[0], perihelion[1], c='r')\n",
    "plt.scatter(0, 0, c='y' )\n",
    "plt.show()\n",
    "print(spice.et2utc(t_start, \"C\", 0))"
   ]
  },
  {
   "cell_type": "code",
   "execution_count": 8,
   "metadata": {},
   "outputs": [],
   "source": [
    "perihelion = spice.convrt(perihelion, \"AU\", \"M\")\n",
    "\n",
    "p_vel = np.sqrt(np.sum(perihelion[3:] ** 2))"
   ]
  },
  {
   "cell_type": "code",
   "execution_count": 9,
   "metadata": {},
   "outputs": [
    {
     "data": {
      "text/plain": [
       "109460.94567645801"
      ]
     },
     "execution_count": 9,
     "metadata": {},
     "output_type": "execute_result"
    }
   ],
   "source": [
    "p_vel"
   ]
  },
  {
   "cell_type": "code",
   "execution_count": 10,
   "metadata": {
    "scrolled": true
   },
   "outputs": [
    {
     "name": "stderr",
     "output_type": "stream",
     "text": [
      "  0%|          | 0/100 [00:00<?, ?it/s]../geminids/beta2mass.py:30: RuntimeWarning: divide by zero encountered in double_scalars\n",
      "  return a* x**-b\n",
      "<ipython-input-10-7aaa7bc1c696>:10: RuntimeWarning: invalid value encountered in multiply\n",
      "  mass_nv += np.sum(size[(~np.isnan(size * weight_novel(beta)))] *\n",
      "<ipython-input-10-7aaa7bc1c696>:11: RuntimeWarning: invalid value encountered in multiply\n",
      "  weight_novel(beta[(~np.isnan(size * weight_novel(beta)))]))\n",
      "100%|██████████| 100/100 [02:24<00:00,  1.44s/it]\n"
     ]
    }
   ],
   "source": [
    "points = []\n",
    "n = 100\n",
    "\n",
    "mass_nv = 0\n",
    "for i in tqdm(range(n)):\n",
    "    data = np.load(f'../output/novel/particles{i}.npy')\n",
    "    beta = np.load(f'../output/novel/beta{i}.npy')\n",
    "    size = np.array(asteroidal(beta))\n",
    "    \n",
    "    mass_nv += np.sum(size[(~np.isnan(size * weight_novel(beta)))] * \n",
    "                   weight_novel(beta[(~np.isnan(size * weight_novel(beta)))]))\n",
    "    \n",
    "    data = data.reshape(10000*100*2, 5)\n",
    "    data = data[:,:3]\n",
    "    \n",
    "#     data[:,2] -= offset(data[:,1])\n",
    "    \n",
    "    \n",
    "    points.append(np.hstack((data, np.tile(size,20000).reshape(2000000,1), \n",
    "                              np.tile(weight_novel(beta),20000).reshape(2000000,1))))\n",
    "\n",
    "mass_nv *=20000\n",
    "points = np.array(points)\n",
    "points = points.reshape(2000000*n,5)"
   ]
  },
  {
   "cell_type": "code",
   "execution_count": null,
   "metadata": {},
   "outputs": [],
   "source": []
  },
  {
   "cell_type": "code",
   "execution_count": 11,
   "metadata": {},
   "outputs": [
    {
     "name": "stdout",
     "output_type": "stream",
     "text": [
      "removing at least 160833013 of 200000000 points\n",
      "removed\n"
     ]
    }
   ],
   "source": [
    "print(f\"removing at least {points[points[:,0] > 0.5].shape[0]} of {points.shape[0]} points\")\n",
    "points = points[points[:,0] < 0.1]\n",
    "points = points[points[:,1] < 0.1]\n",
    "\n",
    "print(\"removed\")\n",
    "particles = scipy.spatial.KDTree(points[:,:3])"
   ]
  },
  {
   "cell_type": "code",
   "execution_count": 12,
   "metadata": {},
   "outputs": [
    {
     "name": "stderr",
     "output_type": "stream",
     "text": [
      "100%|██████████| 100/100 [02:19<00:00,  1.39s/it]\n"
     ]
    }
   ],
   "source": [
    "points2 = []\n",
    "n=100\n",
    "mass_v = 0\n",
    "for i in tqdm(range(n)):\n",
    "    data = np.load(f'../output/vel/particles{i}.npy')\n",
    "    beta = np.load(f'../output/vel/beta{i}.npy')\n",
    "    size = asteroidal(beta)\n",
    "    \n",
    "    \n",
    "    data = data.reshape(10000*100*2, 5)\n",
    "    data = data[:,:3]\n",
    "    \n",
    "#     data[:,2] -= offset(data[:,1])\n",
    "    mass_v += np.sum(size[(~np.isnan(size * weight_vel(beta)))] * weight_vel(beta[(~np.isnan(size * weight_vel(beta)))]))\n",
    "\n",
    "    \n",
    "    points2.append(np.hstack((data, np.tile(size,20000).reshape(2000000,1), np.tile(weight_vel(beta),20000).reshape(2000000,1))))\n",
    "    \n",
    "mass_v *=20000\n",
    "points2 = np.array(points2)\n",
    "points2 = points2.reshape(2000000*n,5)\n",
    "\n"
   ]
  },
  {
   "cell_type": "code",
   "execution_count": 13,
   "metadata": {},
   "outputs": [],
   "source": [
    "points2 = points2[points2[:,0] < 0.1]\n",
    "points2 = points2[points2[:,1] < 0.1]\n",
    "particles2 = scipy.spatial.KDTree(points2[:,:3])"
   ]
  },
  {
   "cell_type": "code",
   "execution_count": 14,
   "metadata": {},
   "outputs": [],
   "source": [
    "# points3 = []\n",
    "# n=30\n",
    "# for i in tqdm(range(n)):\n",
    "#     data = np.load(f'Output_distr/particles{i}.npy')\n",
    "#     beta = np.load(f'Output_distr/beta{i}.npy')\n",
    "#     size = np.load(f'Output_distr/mass{i}.npy')\n",
    "    \n",
    "#     data = data.reshape(10000*10*2, 5)\n",
    "#     data = data[:,:3]\n",
    "    \n",
    "# #     data[:,2] -= offset(data[:,1])\n",
    "    \n",
    "    \n",
    "#     points3.append(np.hstack((data, np.tile(size,20000).reshape(200000,1), np.tile(beta,20000).reshape(200000,1))))\n",
    "    \n",
    "# points3 = np.array(points3)\n",
    "# points3 = points3.reshape(200000*n,5)\n",
    "\n",
    "\n"
   ]
  },
  {
   "cell_type": "code",
   "execution_count": 15,
   "metadata": {},
   "outputs": [],
   "source": [
    "# points3 = points3[points3[:,0] < 0.1]\n",
    "# points3 = points3[points3[:,1] < 0.1]\n",
    "# particles3 = scipy.spatial.KDTree(points3[:,:3])"
   ]
  },
  {
   "cell_type": "code",
   "execution_count": 16,
   "metadata": {},
   "outputs": [],
   "source": [
    "norm = 1e15/mass_nv\n",
    "norm2 = 1e15/mass_v\n"
   ]
  },
  {
   "cell_type": "code",
   "execution_count": 17,
   "metadata": {},
   "outputs": [],
   "source": [
    "impact = pd.read_csv('data/psp_imp_rate_orb04.txt', sep = '\\s+')\n",
    "spice.furnsh(\"data/meta.tm\")\n",
    "t3 = spice.str2et(impact[\"Time\"])\n",
    "\n",
    "\n",
    "\n",
    "\n"
   ]
  },
  {
   "cell_type": "code",
   "execution_count": 18,
   "metadata": {},
   "outputs": [
    {
     "ename": "NameError",
     "evalue": "name 'psp_t' is not defined",
     "output_type": "error",
     "traceback": [
      "\u001b[0;31m---------------------------------------------------------------------------\u001b[0m",
      "\u001b[0;31mNameError\u001b[0m                                 Traceback (most recent call last)",
      "\u001b[0;32m<ipython-input-18-609157e3f058>\u001b[0m in \u001b[0;36m<module>\u001b[0;34m\u001b[0m\n\u001b[0;32m----> 1\u001b[0;31m \u001b[0mpsp_t\u001b[0m\u001b[0;34m\u001b[0m\u001b[0;34m\u001b[0m\u001b[0m\n\u001b[0m",
      "\u001b[0;31mNameError\u001b[0m: name 'psp_t' is not defined"
     ]
    }
   ],
   "source": []
  },
  {
   "cell_type": "code",
   "execution_count": 27,
   "metadata": {},
   "outputs": [
    {
     "name": "stderr",
     "output_type": "stream",
     "text": [
      "100%|██████████| 800/800 [00:03<00:00, 229.31it/s] \n"
     ]
    }
   ],
   "source": [
    "psp_vel = psp2\n",
    "n_part_vel = np.zeros((int(psp2.shape[0]/100)))\n",
    "r_vel = np.zeros((int(psp2.shape[0]/100)))\n",
    "\n",
    "\n",
    "n_part_no_vel = np.zeros((int(psp2.shape[0]/100)))\n",
    "r_no_vel = np.zeros((int(psp2.shape[0]/100)))\n",
    "\n",
    "\n",
    "# n_part_distr = np.zeros((int(psp2.shape[0]/100)))\n",
    "# r_distr = np.zeros((int(psp2.shape[0]/100)))\n",
    "\n",
    "r = 0.01\n",
    "psp_t = []\n",
    "\n",
    "\n",
    "for i in tqdm(range(int(psp2.shape[0]/100))):\n",
    "        psp_t.append(t_vel[i*100])\n",
    "        n_part_vel[i] = len(particles2.query_ball_point(psp2[i*100], r))\n",
    "        # n_part_distr[i] = len(particles3.query_ball_point(psp2[i*100], r))\n",
    "        n_part_no_vel[i] = len(particles.query_ball_point(psp2[i*100], r))\n",
    "        V = 4/3 * np.pi * (r*au)**3\n",
    "\n",
    "        r_vel[i] = n_part_vel[i]/V * norm2 * (5) * (np.sqrt(np.sum(psp_vel[i,3:]**2)) + p_vel)\n",
    "        #                      m^-3. n/a.   m^2            m/s                         m/s                                               \n",
    "        \n",
    "        \n",
    "        # r_distr[i] = n_part_distr[i]/V * norm3 * (5) * (np.sqrt(np.sum(psp_vel[i,3:]**2)) + p_vel)\n",
    "        r_no_vel[i] = n_part_no_vel[i]/V * norm * (5) * (np.sqrt(np.sum(psp_vel[i,3:]**2)) + p_vel)"
   ]
  },
  {
   "cell_type": "code",
   "execution_count": 28,
   "metadata": {},
   "outputs": [
    {
     "name": "stderr",
     "output_type": "stream",
     "text": [
      "  0%|          | 0/800 [00:00<?, ?it/s]/Users/wolfcukier/opt/anaconda3/lib/python3.8/site-packages/numpy/core/fromnumeric.py:3334: RuntimeWarning: Mean of empty slice.\n",
      "  return _methods._mean(a, axis=axis, dtype=dtype,\n",
      "/Users/wolfcukier/opt/anaconda3/lib/python3.8/site-packages/numpy/core/_methods.py:161: RuntimeWarning: invalid value encountered in double_scalars\n",
      "  ret = ret.dtype.type(ret / rcount)\n",
      "100%|██████████| 800/800 [00:03<00:00, 225.28it/s] \n"
     ]
    }
   ],
   "source": [
    "n_mass_vel = np.zeros((int(psp2.shape[0]/100)))\n",
    "n_mass_no_vel = np.zeros((int(psp2.shape[0]/100)))\n",
    "# n_mass_distr = np.zeros((int(psp2.shape[0]/100)))\n",
    "\n",
    "\n",
    "\n",
    "for i in tqdm(range(int(psp2.shape[0]/100))):\n",
    "        # n_mass_distr[i] = np.median(points3[:,3][particles3.query_ball_point(psp2[i*100], r)])\n",
    "        n_mass_vel[i] = np.median(points2[:,3][particles2.query_ball_point(psp2[i*100], r)])\n",
    "        n_mass_no_vel[i] = np.median(points[:,3][particles.query_ball_point(psp2[i*100], r)])"
   ]
  },
  {
   "cell_type": "code",
   "execution_count": 29,
   "metadata": {},
   "outputs": [],
   "source": [
    "# fig = plt.figure()\n",
    "# ax = fig.add_subplot(311)\n",
    "\n",
    "# x2 = np.array([t_vel[i*100] for i in range(800)])\n",
    "# x2 = mdates.datestr2num(spice.et2utc(psp_t, \"C\", 3))\n",
    "\n",
    "# l1 = ax.plot(x2, r_no_vel, label = \"rate\")\n",
    "\n",
    "# ax2 = ax.twinx()\n",
    "\n",
    "# l2 = ax2.plot(x2, n_mass_no_vel*1e6, '--r', label = \"mass\")\n",
    "\n",
    "\n",
    "# ax2.set_ylabel(\"Median Mass ($\\mu$g)\")\n",
    "# ax.set_ylabel(\"Impact Rate (s$^{-1}$)\")\n",
    "# ax.set_xlabel(\"Date\")\n",
    "\n",
    "\n",
    "\n",
    "# lns = l1+l2\n",
    "# labs = [l.get_label() for l in lns]\n",
    "# ax.legend(lns, labs, loc=0)\n",
    "\n",
    "\n",
    "# plt.gca().xaxis.set_major_formatter(mdates.DateFormatter('%m/%d'))\n",
    "# plt.gcf().autofmt_xdate()\n",
    "\n",
    "# ax = fig.add_subplot(312)\n",
    "\n",
    "# x2 = np.array([t2[i*100] for i in range(800)])\n",
    "# x2 = mdates.datestr2num(spice.et2utc(x2, \"C\", 3))\n",
    "\n",
    "# l1 = ax.plot(x2, r_vel, label = \"rate\")\n",
    "\n",
    "# ax2 = ax.twinx()\n",
    "\n",
    "# l2 = ax2.plot(x2, n_mass_vel*1e6, '--r', label = \"mass\", )\n",
    "\n",
    "\n",
    "# ax2.set_ylabel(\"Median Mass ($\\mu$g)\")\n",
    "# ax.set_ylabel(\"Impact Rate (s$^{-1}$)\")\n",
    "# ax.set_xlabel(\"Date\")\n",
    "\n",
    "\n",
    "\n",
    "# lns = l1+l2\n",
    "# labs = [l.get_label() for l in lns]\n",
    "# ax.legend(lns, labs, loc=0)\n",
    "\n",
    "\n",
    "# plt.gca().xaxis.set_major_formatter(mdates.DateFormatter('%m/%d'))\n",
    "# plt.gcf().autofmt_xdate()\n",
    "\n",
    "\n",
    "# ax = fig.add_subplot(313)\n",
    "\n",
    "# # x2 = np.array([t2[i*100] for i in range(800)])\n",
    "# # x2 = mdates.datestr2num(spice.et2utc(x2, \"C\", 3))\n",
    "\n",
    "# # # l1 = ax.plot(x2, r_distr, label = \"rate\")\n",
    "\n",
    "# # ax2 = ax.twinx()\n",
    "\n",
    "# # l2 = ax2.plot(x2, n_mass_distr*1e6, '--r', label = \"mass\", )\n",
    "\n",
    "\n",
    "# # ax2.set_ylabel(\"Median Mass ($\\mu$g)\")\n",
    "# # ax.set_ylabel(\"Impact Rate (s$^{-1}$)\")\n",
    "# # ax.set_xlabel(\"Date\")\n",
    "\n",
    "\n",
    "\n",
    "# lns = l1+l2\n",
    "# labs = [l.get_label() for l in lns]\n",
    "# ax.legend(lns, labs, loc=0)\n",
    "\n",
    "\n",
    "# plt.gca().xaxis.set_major_formatter(mdates.DateFormatter('%m/%d'))\n",
    "# plt.gcf().autofmt_xdate()\n",
    "# plt.show()\n",
    "\n",
    "\n",
    "# plt.plot(x2,r_no_vel, label = \"Base Model\")\n",
    "# plt.plot(x2,r_vel, label=\"Violent Creation\")\n",
    "# # plt.plot(x2,r_distr, label=\"Distributed Creation\")\n",
    "# plt.gca().xaxis.set_major_formatter(mdates.DateFormatter('%m/%d'))\n",
    "# plt.gcf().autofmt_xdate()\n",
    "# t2=psp_t"
   ]
  },
  {
   "cell_type": "code",
   "execution_count": 30,
   "metadata": {},
   "outputs": [
    {
     "data": {
      "image/png": "[encoded data removed]",
      "text/plain": [
       "<Figure size 432x288 with 2 Axes>"
      ]
     },
     "metadata": {
      "needs_background": "light"
     },
     "output_type": "display_data"
    }
   ],
   "source": [
    "fig = plt.figure()\n",
    "ax = fig.add_subplot(111)\n",
    "\n",
    "# x2 = np.array([t2[i*100] for i in range(800)])\n",
    "x2 = mdates.datestr2num(spice.et2utc(psp_t, \"C\", 3))\n",
    "\n",
    "l1 = ax.plot(x2, r_vel, label = \"rate\")\n",
    "\n",
    "ax2 = ax.twinx()\n",
    "\n",
    "l2 = ax2.plot(x2, n_mass_vel*1e6, '--r', label = \"mass\", )\n",
    "\n",
    "\n",
    "ax2.set_ylabel(\"Median Mass ($\\mu$g)\")\n",
    "ax.set_ylabel(\"Impact Rate (s$^{-1}$)\")\n",
    "ax.set_xlabel(\"Date\")\n",
    "\n",
    "\n",
    "\n",
    "lns = l1+l2\n",
    "labs = [l.get_label() for l in lns]\n",
    "ax.legend(lns, labs, loc=0)\n",
    "\n",
    "\n",
    "plt.gca().xaxis.set_major_formatter(mdates.DateFormatter('%m/%d'))\n",
    "plt.gcf().autofmt_xdate()\n",
    "\n"
   ]
  },
  {
   "cell_type": "code",
   "execution_count": 31,
   "metadata": {},
   "outputs": [
    {
     "data": {
      "image/png": "[encoded data removed]",
      "text/plain": [
       "<Figure size 432x288 with 1 Axes>"
      ]
     },
     "metadata": {
      "needs_background": "light"
     },
     "output_type": "display_data"
    }
   ],
   "source": [
    "times = mdates.datestr2num(spice.et2utc(t3, \"C\", 3))\n",
    "times_a = mdates.datestr2num(spice.et2utc(t_vel, \"C\", 3))\n",
    "\n",
    "\n",
    "\n",
    "plt.plot(times,times)\n",
    "plt.gca().xaxis.set_major_formatter(mdates.DateFormatter('%m/%d/%y'))\n",
    "plt.gcf().autofmt_xdate()"
   ]
  },
  {
   "cell_type": "markdown",
   "metadata": {},
   "source": [
    "Get the density of the psp data = (rate * 1 day) / (5m^2 * distance covered in that day)"
   ]
  },
  {
   "cell_type": "code",
   "execution_count": 32,
   "metadata": {},
   "outputs": [
    {
     "data": {
      "image/png": "[encoded data removed]",
      "text/plain": [
       "<Figure size 432x288 with 1 Axes>"
      ]
     },
     "metadata": {
      "needs_background": "light"
     },
     "output_type": "display_data"
    }
   ],
   "source": [
    "beg  = 45\n",
    "end = 60\n",
    "\n",
    "plt.plot(x2,r_no_vel, label = \"Base Model\")\n",
    "plt.plot(x2,r_vel, label=\"Violent Creation\")\n",
    "# plt.plot(x2,r_distr, label=\"Distributed Creation\")\n",
    "\n",
    "plt.plot(times, impact[\"Rate\"][:], label = 'observed')\n",
    "\n",
    "plt.xlim(times[beg], times[end])\n",
    "plt.legend()\n",
    "plt.yscale(\"log\")\n",
    "plt.gca().xaxis.set_major_formatter(mdates.DateFormatter('%m/%d/%y'))\n",
    "plt.gcf().autofmt_xdate()\n",
    "plt.xlabel(\"Date\")\n",
    "plt.ylabel(\"Impact rate (s$^{-1}$)\")\n",
    "plt.savefig(\"../figures/psp.png\")\n",
    "plt.show()\n"
   ]
  },
  {
   "cell_type": "code",
   "execution_count": null,
   "metadata": {},
   "outputs": [],
   "source": [
    "times = mdates.datestr2num(spice.et2utc(t3, \"C\", 3))\n",
    "times_a = mdates.datestr2num(spice.et2utc(t_vel, \"C\", 3))\n",
    "\n",
    "\n",
    "\n",
    "plt.plot(times,times)\n",
    "plt.gca().xaxis.set_major_formatter(mdates.DateFormatter('%m/%d/%y'))\n",
    "plt.gcf().autofmt_xdate()"
   ]
  },
  {
   "cell_type": "code",
   "execution_count": null,
   "metadata": {},
   "outputs": [],
   "source": [
    "impact[\"Density\"] = impact[\"Rate\"] * DAY_TO_SEC\n",
    "impact.loc[-1, \"Density\"] = np.NaN\n",
    "for i in range(impact.shape[0] - 2):\n",
    "    dx = np.abs(impact.loc[i, \"x\"] - impact.loc[i+1, \"x\"])\n",
    "    dy = np.abs(impact.loc[i, \"y\"] - impact.loc[i+1, \"y\"])\n",
    "    dz = np.abs(impact.loc[i, \"z\"] - impact.loc[i+1, \"z\"])\n",
    "\n",
    "\n",
    "    impact.loc[i, \"Density\"] /= (np.sqrt(dx**2 + dy**2 + dz**2)* 1000 * 5)\n",
    "    \n"
   ]
  },
  {
   "cell_type": "code",
   "execution_count": null,
   "metadata": {},
   "outputs": [],
   "source": [
    "x = np.arange(800)/800*14 - 7\n",
    "\n",
    "plt.rc_context({'figure.facecolor':'white'})\n",
    "\n",
    "x2 = np.array([t2[i*100] for i in range(800)])\n",
    "\n",
    "V = 4/3 * np.pi * r**3\n",
    "\n",
    "plt.plot(x2, n_part_vel/V*norm/(au**3), label = '~1km/s initial v')\n",
    "\n",
    "plt.plot(t3[41:71], impact[\"Density\"][41:71])\n",
    "plt.plot(x2, n_part_no_vel/V*norm/(au**3), label = 'no initial v')\n",
    "plt.legend()\n",
    "\n"
   ]
  },
  {
   "cell_type": "code",
   "execution_count": null,
   "metadata": {},
   "outputs": [],
   "source": [
    "np.max(n_part_no_vel/V*norm/au**3)"
   ]
  },
  {
   "cell_type": "code",
   "execution_count": null,
   "metadata": {},
   "outputs": [],
   "source": []
  },
  {
   "cell_type": "code",
   "execution_count": null,
   "metadata": {},
   "outputs": [],
   "source": [
    "x = np.arange(800)/800*14 - 7\n",
    "\n",
    "plt.rc_context({'figure.facecolor':'white'})\n",
    "\n",
    "\n",
    "\n",
    "plt.plot(x, n_mass_vel, label = '~1km/s initial v')\n",
    "plt.plot(x, n_mass_no_vel, label = 'no initial v')\n",
    "plt.legend()\n",
    "\n"
   ]
  },
  {
   "cell_type": "code",
   "execution_count": null,
   "metadata": {},
   "outputs": [],
   "source": []
  },
  {
   "cell_type": "code",
   "execution_count": null,
   "metadata": {},
   "outputs": [],
   "source": []
  }
 ],
 "metadata": {
  "kernelspec": {
   "display_name": "Python 3",
   "language": "python",
   "name": "python3"
  },
  "language_info": {
   "codemirror_mode": {
    "name": "ipython",
    "version": 3
   },
   "file_extension": ".py",
   "mimetype": "text/x-python",
   "name": "python",
   "nbconvert_exporter": "python",
   "pygments_lexer": "ipython3",
   "version": "3.8.3"
  }
 },
 "nbformat": 4,
 "nbformat_minor": 4
}
