{
 "cells": [
  {
   "cell_type": "code",
   "execution_count": 1,
   "source": [
    "import numpy as np\n",
    "import pandas as pd\n",
    "from matplotlib import pyplot as plt\n",
    "from scipy.integrate import odeint\n",
    "from scipy.interpolate import interp1d\n",
    "from tqdm import tqdm\n",
    "import scipy\n",
    "import spiceypy as spice\n",
    "import rebound\n",
    "import reboundx\n",
    "import matplotlib\n",
    "import pandas as pd\n",
    "import matplotlib.dates as mdates\n",
    "import matplotlib.cbook as cbook\n",
    "\n",
    "plt.rcParams.update({\n",
    "  \"text.usetex\": True,\n",
    "  \"font.family\": \"Computer Modern Roman\",\n",
    "  \"font.size\":    14.0\n",
    "})"
   ],
   "outputs": [],
   "metadata": {}
  },
  {
   "cell_type": "code",
   "execution_count": 2,
   "source": [
    "import sys\n",
    "sys.path.append('..')\n",
    "from geminids.weights import *\n",
    "from geminids.beta2mass import asteroidal as asteroidal\n",
    "from geminids.constants import *\n",
    "from geminids.cometary_start import init_loc"
   ],
   "outputs": [],
   "metadata": {}
  },
  {
   "cell_type": "code",
   "execution_count": 3,
   "source": [
    "# orbit = np.load('orbit_time.npy')\n",
    "# orbit_act = np.load('orbit.npy')\n",
    "# psp = np.load('psp-week_after.npy')\n",
    "# psp2 = np.load('psp-week_both.npy')\n",
    "# t = np.load('t-week_after.npy')\n",
    "# t2 = np.load('t-week_both.npy')\n",
    "# psp_vel = np.load('psp-vel.npy')\n",
    "t_vel = np.load('data/t-vel.npy')\n",
    "\n",
    "# plt.plot(psp2[:,0], psp2[:,1], c = 'r')\n",
    "# plt.plot(psp_vel[:,0], psp_vel[:,1], c = 'r')\n",
    "\n",
    "# psp2 = psp_vel[:,:3]\n",
    "t2 = t_vel\n",
    "\n",
    "# plt.plot(orbit[:,0,0], orbit[:,0,1])\n",
    "# plt.plot(orbit_act[:,0,0], orbit_act[:,0,1])\n",
    "\n",
    "orbit = np.load('data/phaethon.npy')\n",
    "psp2 = np.load('data/psp.npy')\n",
    "t_act = np.load('data/t-3200.npy')\n",
    "earth = spice.convrt(np.load('data/earth.npy'), \"AU\", \"M\")\n"
   ],
   "outputs": [],
   "metadata": {}
  },
  {
   "cell_type": "code",
   "execution_count": null,
   "source": [],
   "outputs": [],
   "metadata": {}
  },
  {
   "cell_type": "code",
   "execution_count": 4,
   "source": [
    "spice.furnsh(\"data/meta.tm\")"
   ],
   "outputs": [],
   "metadata": {}
  },
  {
   "cell_type": "code",
   "execution_count": 5,
   "source": [
    "\n",
    "t_start = spice.str2et('2017-01-01')\n",
    "beg = spice.str2et('2017-01-01')\n",
    "end = spice.str2et('2019-01-01')\n",
    "\n",
    "pts_per_year = 365*24*60\n",
    "n_particles = 1\n",
    "n_years = 2\n",
    "\n",
    "\n",
    "[y0, lt] = spice.spkezr('2003200', t_start, 'J2000', 'NONE', 'SUN')\n",
    "y0 = spice.convrt(y0, \"KM\", \"AU\")\n",
    "\n",
    "\n",
    "n = 1\n",
    "\n",
    "\n",
    "# sim = rebound.Simulation(\"/content/gdrive/MyDrive/Research/Su_2021/J+Inner.bin\")\n",
    "sim = rebound.Simulation()\n",
    "\n",
    "\n",
    "sim.units = ('s', 'AU', 'Msun')\n",
    "sim.dt = -.001\n",
    "sim.add(m=1.)\n",
    "\n",
    "[yj, lt] = spice.spkezr(\"JUPITER BARYCENTER\", t_start, \"J2000\", \"NONE\", \"SUN\")\n",
    "yj = spice.convrt(yj, \"KM\", \"AU\")\n",
    "sim.add(m=0.000954588, x=yj[0], y=yj[1], z=yj[2], vx=yj[3], vy=yj[4], vz=yj[5])\n",
    "print(\"Added Jupiter...\")\n",
    "\n",
    "[e_pos, lt] = spice.spkezr('EARTH', t_start, 'J2000', 'NONE', 'SUN')\n",
    "e_pos = spice.convrt(e_pos, 'KM', 'AU')\n",
    "sim.add(m=MASS_E/MASS_SUN, x=e_pos[0], y=e_pos[1], z=e_pos[2], vx=e_pos[3], vy=e_pos[4], vz=e_pos[5])\n",
    "print(\"Added Earth...\")\n",
    "\n",
    "\n",
    "[mr_pos, lt] = spice.spkezr('4', t_start, 'J2000', 'NONE', 'SUN')\n",
    "mr_pos = spice.convrt(mr_pos, 'KM', 'AU')\n",
    "sim.add(m=MASS_MR/MASS_SUN, x=mr_pos[0], y=mr_pos[1], z=mr_pos[2], vx=mr_pos[3], vy=mr_pos[4], vz=mr_pos[5])\n",
    "print(\"Added Mars...\")\n",
    "\n",
    "\n",
    "\n",
    "[v_pos, lt] = spice.spkezr('VENUS', t_start, 'J2000', 'NONE', 'SUN')\n",
    "v_pos = spice.convrt(v_pos, 'KM', 'AU')\n",
    "sim.add(m=MASS_V/MASS_SUN, x=v_pos[0], y=v_pos[1], z=v_pos[2], vx=v_pos[3], vy=v_pos[4], vz=v_pos[5])\n",
    "print(\"Added Venus...\")\n",
    "\n",
    "\n",
    "\n",
    "[hg_pos, lt] = spice.spkezr('MERCURY', t_start, 'J2000', 'NONE', 'SUN')\n",
    "hg_pos = spice.convrt(hg_pos, 'KM', 'AU')\n",
    "sim.add(m=MASS_HG/MASS_SUN, x=hg_pos[0], y=hg_pos[1], z=hg_pos[2], vx=hg_pos[3], vy=hg_pos[4], vz=hg_pos[5])\n",
    "print(\"Added Mercury...\")\n",
    "\n",
    "\n",
    "n_active = len(sim.particles)\n",
    "\n",
    "\n",
    "\n",
    "\n",
    "sim.n_active = n_active\n",
    "sim.collision = \"none\"\n",
    "\n",
    "\n",
    "\n",
    "sim.move_to_hel()\n",
    "print(\"adding particles...\")\n",
    "\n",
    "sim.add(x = y0[0], y=y0[1], z=y0[2], vx=y0[3], vy = y0[4], vz = y0[5])\n",
    "sim.move_to_com()\n",
    "\n",
    "\n",
    "\n",
    "\n",
    "print(\"time arrays...\")\n",
    "\n",
    "Noutputs = n_years*pts_per_year\n",
    "year = spice.jyear()\n",
    "times = np.linspace(end-t_start, beg-t_start, int(Noutputs))\n",
    "\n",
    "\n",
    "t2 = np.linspace(0, end-t_start, int(1600 + 3000)*100)\n",
    "pos = np.zeros((n,int(Noutputs),3))\n",
    "\n",
    "sim.move_to_com()        \n",
    "ps = sim.particles      \n",
    "\n",
    "\n",
    "\n",
    "xy = np.zeros((int(Noutputs),6))\n",
    "xy2 = np.zeros((int(1600 + 3000)*100,3))\n",
    "d = np.zeros(int(Noutputs))\n",
    "print(\"simulating...\")\n",
    "p = sim.particles[6]\n",
    "\n",
    "for i, time in enumerate(tqdm(t2)):\n",
    "    sim.integrate(time)\n",
    "    xy2[i] = [p.x, p.y, p.z]    \n",
    "for i, time in enumerate(tqdm(times)):\n",
    "    sim.integrate(time)\n",
    "    sim.move_to_hel()\n",
    "    xy[i] = [p.x, p.y, p.z, p.vx, p.vy, p.vz]\n",
    "    d[i] = spice.vnorm(xy[i][0:3])\n",
    "    sim.move_to_com()\n",
    "\n",
    "start_date = t_start"
   ],
   "outputs": [
    {
     "output_type": "stream",
     "name": "stderr",
     "text": [
      "  1%|          | 4384/460000 [00:00<00:10, 43837.43it/s]"
     ]
    },
    {
     "output_type": "stream",
     "name": "stdout",
     "text": [
      "Added Jupiter...\n",
      "Added Earth...\n",
      "Added Mars...\n",
      "Added Venus...\n",
      "Added Mercury...\n",
      "adding particles...\n",
      "time arrays...\n",
      "simulating...\n"
     ]
    },
    {
     "output_type": "stream",
     "name": "stderr",
     "text": [
      "100%|██████████| 460000/460000 [00:08<00:00, 52976.25it/s]\n",
      "100%|██████████| 1051200/1051200 [00:45<00:00, 23086.97it/s]\n"
     ]
    }
   ],
   "metadata": {}
  },
  {
   "cell_type": "code",
   "execution_count": 6,
   "source": [
    "idxmin = np.argmin(d)\n",
    "t_start = times[idxmin] + start_date\n",
    "perihelion = xy[idxmin]\n",
    "\n",
    "\n",
    "\n",
    "date_start = spice.et2utc(t_start, \"C\", 14)\n",
    "date_start"
   ],
   "outputs": [
    {
     "output_type": "execute_result",
     "data": {
      "text/plain": [
       "'2018 JAN 25 08:12:32.0000246763229'"
      ]
     },
     "metadata": {},
     "execution_count": 6
    }
   ],
   "metadata": {}
  },
  {
   "cell_type": "code",
   "execution_count": 7,
   "source": [
    "x = np.array([0,0,0])\n",
    "t = np.linspace(spice.str2et('1600-01-01'), spice.str2et('1602-01-01'), num=365*2)\n",
    "for time in tqdm(t):\n",
    "  [pos, lt] = spice.spkpos(\"2003200\", time, \"J2000\", \"NONE\", \"SUN\")\n",
    "  x = np.vstack((x, pos))\n",
    "\n",
    "x = x[1:]\n",
    "plt.plot(x[:,0]/AU_TO_M*1e3, x[:,1]/AU_TO_M*1e3)\n",
    "plt.scatter(perihelion[0], perihelion[1], c='r')\n",
    "plt.scatter(0, 0, c='y' )\n",
    "plt.show()\n",
    "print(spice.et2utc(t_start, \"C\", 0))"
   ],
   "outputs": [
    {
     "output_type": "stream",
     "name": "stderr",
     "text": [
      "100%|██████████| 730/730 [00:00<00:00, 34613.51it/s]\n"
     ]
    },
    {
     "output_type": "display_data",
     "data": {
      "image/png": "[encoded data removed]",
      "text/plain": [
       "<Figure size 432x288 with 1 Axes>"
      ]
     },
     "metadata": {
      "needs_background": "light"
     }
    },
    {
     "output_type": "stream",
     "name": "stdout",
     "text": [
      "2018 JAN 25 08:12:32\n"
     ]
    }
   ],
   "metadata": {}
  },
  {
   "cell_type": "code",
   "execution_count": 8,
   "source": [
    "perihelion = spice.convrt(perihelion, \"AU\", \"M\")\n",
    "\n",
    "p_vel = np.sqrt(np.sum(perihelion[3:] ** 2))"
   ],
   "outputs": [],
   "metadata": {}
  },
  {
   "cell_type": "code",
   "execution_count": 9,
   "source": [
    "p_vel"
   ],
   "outputs": [
    {
     "output_type": "execute_result",
     "data": {
      "text/plain": [
       "109460.94567645801"
      ]
     },
     "metadata": {},
     "execution_count": 9
    }
   ],
   "metadata": {}
  },
  {
   "cell_type": "code",
   "execution_count": 10,
   "source": [
    "points = []\n",
    "n = 100\n",
    "\n",
    "mass_nv = 0\n",
    "for i in tqdm(range(n)):\n",
    "    data = np.load(f'../output/novel/particles{i}.npy')\n",
    "    beta = np.load(f'../output/novel/beta{i}.npy')\n",
    "    size = np.array(asteroidal(beta))\n",
    "    \n",
    "    mass_nv += np.sum(size[(~np.isnan(size * weight_novel(beta)))] * \n",
    "                   weight_novel(beta[(~np.isnan(size * weight_novel(beta)))]))\n",
    "    \n",
    "    data = data.reshape(1000*100*2, 5)\n",
    "    data = data[:,:3]\n",
    "    \n",
    "#     data[:,2] -= offset(data[:,1])\n",
    "    \n",
    "    \n",
    "    points.append(np.hstack((data, np.tile(size,2000).reshape(200000,1), \n",
    "                              np.tile(weight_novel(beta),2000).reshape(200000,1))))\n",
    "\n",
    "mass_nv *=20000\n",
    "points = np.array(points)\n",
    "points = points.reshape(200000*n,5)"
   ],
   "outputs": [
    {
     "output_type": "stream",
     "name": "stderr",
     "text": [
      "100%|██████████| 100/100 [01:47<00:00,  1.08s/it]\n"
     ]
    }
   ],
   "metadata": {
    "scrolled": true
   }
  },
  {
   "cell_type": "code",
   "execution_count": 11,
   "source": [
    "transform = spice.pxform(\"J2000\", \"ECLIPJ2000\", 0)\n",
    "\n",
    "print(\"Transforming\")\n",
    "psp2 = psp2[:,:3].copy()\n",
    "\n",
    "# points_novel[:,:3] = np.dot(transform, points_novel[:,:3].T).T\n",
    "# points_vel[:,:3] = np.dot(transform, points_vel[:,:3].T).T\n",
    "# points_distr[:,:3] = np.dot(transform, points_distr[:,:3].T).T\n",
    "psp2 = np.dot(transform, psp2.T).T"
   ],
   "outputs": [
    {
     "output_type": "stream",
     "name": "stdout",
     "text": [
      "Transforming\n"
     ]
    }
   ],
   "metadata": {}
  },
  {
   "cell_type": "code",
   "execution_count": 12,
   "source": [
    "print(f\"removing at least {points[points[:,0] > 0.5].shape[0]} of {points.shape[0]} points\")\n",
    "points = points[points[:,0] < 0.1]\n",
    "points = points[points[:,1] < 0.1]\n",
    "\n",
    "print(\"removed\")\n",
    "particles = scipy.spatial.KDTree(points[:,:3])"
   ],
   "outputs": [
    {
     "output_type": "stream",
     "name": "stdout",
     "text": [
      "removing at least 15909252 of 20000000 points\n",
      "removed\n"
     ]
    }
   ],
   "metadata": {}
  },
  {
   "cell_type": "code",
   "execution_count": 13,
   "source": [
    "points2 = []\n",
    "n=100\n",
    "mass_v = 0\n",
    "for i in tqdm(range(n)):\n",
    "    data = np.load(f'../output/vel/particles{i}.npy')\n",
    "    beta = np.load(f'../output/vel/beta{i}.npy')\n",
    "    size = asteroidal(beta)\n",
    "    \n",
    "    \n",
    "    data = data.reshape(1000*100*2, 5)\n",
    "    data = data[:,:3]\n",
    "    \n",
    "#     data[:,2] -= offset(data[:,1])\n",
    "    mass_v += np.sum(size[(~np.isnan(size * weight_vel(beta)))] * weight_vel(beta[(~np.isnan(size * weight_vel(beta)))]))\n",
    "\n",
    "    \n",
    "    points2.append(np.hstack((data, np.tile(size,2000).reshape(200000,1), np.tile(weight_vel(beta),2000).reshape(200000,1))))\n",
    "    \n",
    "mass_v *=2000\n",
    "points2 = np.array(points2)\n",
    "points2 = points2.reshape(200000*n,5)\n",
    "\n"
   ],
   "outputs": [
    {
     "output_type": "stream",
     "name": "stderr",
     "text": [
      "100%|██████████| 100/100 [01:51<00:00,  1.12s/it]\n"
     ]
    }
   ],
   "metadata": {}
  },
  {
   "cell_type": "code",
   "execution_count": 14,
   "source": [
    "points2 = points2[points2[:,0] < 0.1]\n",
    "points2 = points2[points2[:,1] < 0.1]\n",
    "particles2 = scipy.spatial.KDTree(points2[:,:3])"
   ],
   "outputs": [],
   "metadata": {}
  },
  {
   "cell_type": "code",
   "execution_count": 15,
   "source": [
    "points3 = []\n",
    "pth = \"../output/\"\n",
    "offset = 0\n",
    "mass_d = 0\n",
    "n = 100\n",
    "orbit = np.load(\"../data/orig_orbit.npy\")\n",
    "for i in tqdm(range(n*10)):\n",
    "        # try:\n",
    "            data = np.load(f'{pth}comet/particles{i}.npy')\n",
    "            beta = np.load(f'{pth}comet/beta{i}.npy')\n",
    "            size = np.load(f'{pth}comet/mass{i}.npy')\n",
    "            mask = beta < .5\n",
    "            size[mask] = asteroidal(beta[mask])\n",
    "            size[~mask] = 0\n",
    "            data = data.reshape(10000*10*2, 5)\n",
    "            # try:\n",
    "                \n",
    "            __, r, t = init_loc(int(i/10), orbit)\n",
    "            t = np.tile(t, 100)\n",
    "            r = np.tile(r, 100)\n",
    "            # except Exception as e:\n",
    "                # print(e)\n",
    "            # data[data[:,4] < .2] *= 0\n",
    "            data = data[:,:3]\n",
    "            # beta = np.tile(beta, 20000).reshape(200000,)\n",
    "            # print(beta.shape)\n",
    "            mask = ~np.isnan(size * weight_cometary(beta, r, t))\n",
    "            mass_d += np.sum(size[mask] * \n",
    "                             weight_cometary(beta[mask],\n",
    "                                                  r[mask],\n",
    "                                                  t[mask]))\n",
    "\n",
    "            # w = weight_cometary(beta, r, t)\n",
    "            # print(w.shape)\n",
    "            # print(r)\n",
    "\n",
    "            points3.append(np.hstack((data, np.tile(size,2000).reshape(200000,1), \n",
    "                                   np.tile(weight_cometary(beta, r, t),2000).reshape(200000,1),\n",
    "                                   np.tile(r,2000).reshape(200000,1))))\n",
    "        # except Exception as e: \n",
    "        #     print(e)\n",
    "        #     offset +=1\n",
    "\n",
    "points3 = np.array(points3)\n",
    "points3 = points3.reshape(200000*(n*10 - offset),6)\n",
    "\n",
    "\n"
   ],
   "outputs": [
    {
     "output_type": "stream",
     "name": "stderr",
     "text": [
      " 11%|█         | 108/1000 [01:56<15:06,  1.02s/it]../geminids/weights.py:40: RuntimeWarning: invalid value encountered in greater\n",
      "  arr[mask][asteroidal(b[mask]) > 10] = 0\n",
      "../geminids/weights.py:41: RuntimeWarning: invalid value encountered in less\n",
      "  arr[mask][asteroidal(b[mask]) < 1e-16] = 0\n",
      "100%|██████████| 1000/1000 [17:52<00:00,  1.07s/it]\n"
     ]
    }
   ],
   "metadata": {}
  },
  {
   "cell_type": "code",
   "execution_count": null,
   "source": [],
   "outputs": [],
   "metadata": {}
  },
  {
   "cell_type": "code",
   "execution_count": 16,
   "source": [
    "points3 = points3[points3[:,0] < 0.1]\n",
    "points3 = points3[points3[:,1] < 0.1]\n",
    "particles3 = scipy.spatial.KDTree(points3[:,:3])"
   ],
   "outputs": [],
   "metadata": {}
  },
  {
   "cell_type": "code",
   "execution_count": 17,
   "source": [
    "norm = 1e15/mass_nv\n",
    "norm2 = 1e15/mass_v\n",
    "norm3 = 1e15/mass_d"
   ],
   "outputs": [],
   "metadata": {}
  },
  {
   "cell_type": "code",
   "execution_count": 18,
   "source": [
    "impact = pd.read_csv('data/psp_imp_rate_orb04.txt', sep = '\\s+')\n",
    "spice.furnsh(\"data/meta.tm\")\n",
    "t3 = spice.str2et(impact[\"Time\"])\n",
    "\n",
    "\n",
    "\n",
    "\n"
   ],
   "outputs": [],
   "metadata": {}
  },
  {
   "cell_type": "code",
   "execution_count": null,
   "source": [],
   "outputs": [],
   "metadata": {}
  },
  {
   "cell_type": "code",
   "execution_count": 19,
   "source": [
    "psp_vel = psp2\n",
    "n_part_vel = np.zeros((int(psp2.shape[0]/100)))\n",
    "r_vel = np.zeros((int(psp2.shape[0]/100)))\n",
    "\n",
    "\n",
    "n_part_no_vel = np.zeros((int(psp2.shape[0]/100)))\n",
    "r_no_vel = np.zeros((int(psp2.shape[0]/100)))\n",
    "\n",
    "\n",
    "n_part_distr = np.zeros((int(psp2.shape[0]/100)))\n",
    "r_distr = np.zeros((int(psp2.shape[0]/100)))\n",
    "\n",
    "r = 0.05\n",
    "psp_t = []\n",
    "\n",
    "\n",
    "for i in tqdm(range(int(psp2.shape[0]/100))):\n",
    "        psp_t.append(t_vel[i*100])\n",
    "\n",
    "        n_part_vel[i] = np.sum(points2[particles2.query_ball_point(psp2[i*100], r), 4])\n",
    "        n_part_distr[i] = np.sum(points3[particles3.query_ball_point(psp2[i*100], r), 4])\n",
    "        n_part_no_vel[i] = np.sum(points[particles.query_ball_point(psp2[i*100], r), 4])\n",
    "        \n",
    "\n",
    "        V = 4/3 * np.pi * (r*au)**3\n",
    "\n",
    "        r_vel[i] = n_part_vel[i]/V * norm2 * (5) * (np.sqrt(np.sum(psp_vel[i,3:]**2)) + p_vel)\n",
    "        #                      m^-3. n/a.   m^2            m/s                         m/s                                               \n",
    "        \n",
    "        \n",
    "        r_distr[i] = n_part_distr[i]/V * norm3 * (5) * (np.sqrt(np.sum(psp_vel[i,3:]**2)) + p_vel)\n",
    "        r_no_vel[i] = n_part_no_vel[i]/V * norm * (5) * (np.sqrt(np.sum(psp_vel[i,3:]**2)) + p_vel)"
   ],
   "outputs": [
    {
     "output_type": "stream",
     "name": "stderr",
     "text": [
      "100%|██████████| 800/800 [00:53<00:00, 14.86it/s]\n"
     ]
    }
   ],
   "metadata": {}
  },
  {
   "cell_type": "code",
   "execution_count": 20,
   "source": [
    "n_mass_vel = np.zeros((int(psp2.shape[0]/100)))\n",
    "n_mass_no_vel = np.zeros((int(psp2.shape[0]/100)))\n",
    "n_mass_distr = np.zeros((int(psp2.shape[0]/100)))\n",
    "\n",
    "\n",
    "\n",
    "for i in tqdm(range(int(psp2.shape[0]/100))):\n",
    "        n_mass_distr[i] = np.median(points3[:,3][particles3.query_ball_point(psp2[i*100], r)])\n",
    "        n_mass_vel[i] = np.median(points2[:,3][particles2.query_ball_point(psp2[i*100], r)])\n",
    "        n_mass_no_vel[i] = np.median(points[:,3][particles.query_ball_point(psp2[i*100], r)])"
   ],
   "outputs": [
    {
     "output_type": "stream",
     "name": "stderr",
     "text": [
      "  0%|          | 0/800 [00:00<?, ?it/s]/Users/wolfcukier/opt/anaconda3/lib/python3.8/site-packages/numpy/core/fromnumeric.py:3334: RuntimeWarning: Mean of empty slice.\n",
      "  return _methods._mean(a, axis=axis, dtype=dtype,\n",
      "/Users/wolfcukier/opt/anaconda3/lib/python3.8/site-packages/numpy/core/_methods.py:161: RuntimeWarning: invalid value encountered in double_scalars\n",
      "  ret = ret.dtype.type(ret / rcount)\n",
      "100%|██████████| 800/800 [00:52<00:00, 15.26it/s]\n"
     ]
    }
   ],
   "metadata": {}
  },
  {
   "cell_type": "code",
   "execution_count": 21,
   "source": [
    "# fig = plt.figure()\n",
    "# ax = fig.add_subplot(311)\n",
    "\n",
    "# x2 = np.array([t_vel[i*100] for i in range(800)])\n",
    "# x2 = mdates.datestr2num(spice.et2utc(psp_t, \"C\", 3))\n",
    "\n",
    "# l1 = ax.plot(x2, r_no_vel, label = \"rate\")\n",
    "\n",
    "# ax2 = ax.twinx()\n",
    "\n",
    "# l2 = ax2.plot(x2, n_mass_no_vel*1e6, '--r', label = \"mass\")\n",
    "\n",
    "\n",
    "# ax2.set_ylabel(\"Median Mass ($\\mu$g)\")\n",
    "# ax.set_ylabel(\"Impact Rate (s$^{-1}$)\")\n",
    "# ax.set_xlabel(\"Date\")\n",
    "\n",
    "\n",
    "\n",
    "# lns = l1+l2\n",
    "# labs = [l.get_label() for l in lns]\n",
    "# ax.legend(lns, labs, loc=0)\n",
    "\n",
    "\n",
    "# plt.gca().xaxis.set_major_formatter(mdates.DateFormatter('%m/%d'))\n",
    "# plt.gcf().autofmt_xdate()\n",
    "\n",
    "# ax = fig.add_subplot(312)\n",
    "\n",
    "# x2 = np.array([t2[i*100] for i in range(800)])\n",
    "# x2 = mdates.datestr2num(spice.et2utc(x2, \"C\", 3))\n",
    "\n",
    "# l1 = ax.plot(x2, r_vel, label = \"rate\")\n",
    "\n",
    "# ax2 = ax.twinx()\n",
    "\n",
    "# l2 = ax2.plot(x2, n_mass_vel*1e6, '--r', label = \"mass\", )\n",
    "\n",
    "\n",
    "# ax2.set_ylabel(\"Median Mass ($\\mu$g)\")\n",
    "# ax.set_ylabel(\"Impact Rate (s$^{-1}$)\")\n",
    "# ax.set_xlabel(\"Date\")\n",
    "\n",
    "\n",
    "\n",
    "# lns = l1+l2\n",
    "# labs = [l.get_label() for l in lns]\n",
    "# ax.legend(lns, labs, loc=0)\n",
    "\n",
    "\n",
    "# plt.gca().xaxis.set_major_formatter(mdates.DateFormatter('%m/%d'))\n",
    "# plt.gcf().autofmt_xdate()\n",
    "\n",
    "\n",
    "# ax = fig.add_subplot(313)\n",
    "\n",
    "# # x2 = np.array([t2[i*100] for i in range(800)])\n",
    "# # x2 = mdates.datestr2num(spice.et2utc(x2, \"C\", 3))\n",
    "\n",
    "# # # l1 = ax.plot(x2, r_distr, label = \"rate\")\n",
    "\n",
    "# # ax2 = ax.twinx()\n",
    "\n",
    "# # l2 = ax2.plot(x2, n_mass_distr*1e6, '--r', label = \"mass\", )\n",
    "\n",
    "\n",
    "# # ax2.set_ylabel(\"Median Mass ($\\mu$g)\")\n",
    "# # ax.set_ylabel(\"Impact Rate (s$^{-1}$)\")\n",
    "# # ax.set_xlabel(\"Date\")\n",
    "\n",
    "\n",
    "\n",
    "# lns = l1+l2\n",
    "# labs = [l.get_label() for l in lns]\n",
    "# ax.legend(lns, labs, loc=0)\n",
    "\n",
    "\n",
    "# plt.gca().xaxis.set_major_formatter(mdates.DateFormatter('%m/%d'))\n",
    "# plt.gcf().autofmt_xdate()\n",
    "# plt.show()\n",
    "\n",
    "\n",
    "# plt.plot(x2,r_no_vel, label = \"Base Model\")\n",
    "# plt.plot(x2,r_vel, label=\"Violent Creation\")\n",
    "# # plt.plot(x2,r_distr, label=\"Distributed Creation\")\n",
    "# plt.gca().xaxis.set_major_formatter(mdates.DateFormatter('%m/%d'))\n",
    "# plt.gcf().autofmt_xdate()\n",
    "# t2=psp_t"
   ],
   "outputs": [],
   "metadata": {}
  },
  {
   "cell_type": "code",
   "execution_count": 22,
   "source": [
    "fig = plt.figure()\n",
    "ax = fig.add_subplot(111)\n",
    "\n",
    "# x2 = np.array([t2[i*100] for i in range(800)])\n",
    "x2 = mdates.datestr2num(spice.et2utc(psp_t, \"C\", 3))\n",
    "\n",
    "l1 = ax.plot(x2, r_vel, label = \"rate\")\n",
    "\n",
    "ax2 = ax.twinx()\n",
    "\n",
    "l2 = ax2.plot(x2, n_mass_vel*1e6, '--r', label = \"mass\", )\n",
    "\n",
    "\n",
    "ax2.set_ylabel(\"Median Mass ($\\mu$g)\")\n",
    "ax.set_ylabel(\"Impact Rate (s$^{-1}$)\")\n",
    "ax.set_xlabel(\"Date\")\n",
    "\n",
    "\n",
    "\n",
    "lns = l1+l2\n",
    "labs = [l.get_label() for l in lns]\n",
    "ax.legend(lns, labs, loc=0)\n",
    "\n",
    "\n",
    "plt.gca().xaxis.set_major_formatter(mdates.DateFormatter('%m/%d'))\n",
    "plt.gcf().autofmt_xdate()\n",
    "\n"
   ],
   "outputs": [
    {
     "output_type": "display_data",
     "data": {
      "image/png": "[encoded data removed]",
      "text/plain": [
       "<Figure size 432x288 with 2 Axes>"
      ]
     },
     "metadata": {
      "needs_background": "light"
     }
    }
   ],
   "metadata": {}
  },
  {
   "cell_type": "code",
   "execution_count": 23,
   "source": [
    "times = mdates.datestr2num(spice.et2utc(t3, \"C\", 3))\n",
    "times_a = mdates.datestr2num(spice.et2utc(t_vel, \"C\", 3))\n",
    "\n",
    "\n",
    "\n",
    "plt.plot(times,times)\n",
    "plt.gca().xaxis.set_major_formatter(mdates.DateFormatter('%m/%d/%y'))\n",
    "plt.gcf().autofmt_xdate()"
   ],
   "outputs": [
    {
     "output_type": "display_data",
     "data": {
      "image/png": "[encoded data removed]",
      "text/plain": [
       "<Figure size 432x288 with 1 Axes>"
      ]
     },
     "metadata": {
      "needs_background": "light"
     }
    }
   ],
   "metadata": {}
  },
  {
   "cell_type": "markdown",
   "source": [
    "Get the density of the psp data = (rate * 1 day) / (5m^2 * distance covered in that day)"
   ],
   "metadata": {}
  },
  {
   "cell_type": "code",
   "execution_count": 30,
   "source": [
    "beg  = 45\n",
    "end = 60\n",
    "\n",
    "plt.plot(x2,r_no_vel, label = \"Base\")\n",
    "plt.plot(x2,r_vel, label=\"Violent\")\n",
    "plt.plot(x2,r_distr, label=\"Distributed\")\n",
    "\n",
    "plt.plot(times, impact[\"Rate\"][:], label = 'Observed')\n",
    "\n",
    "plt.xlim(times[beg], times[end])\n",
    "plt.legend(loc=1)\n",
    "plt.yscale(\"log\")\n",
    "plt.gca().xaxis.set_major_formatter(mdates.DateFormatter('%m/%d/%y'))\n",
    "plt.gcf().autofmt_xdate()\n",
    "plt.xlabel(\"Date\")\n",
    "plt.ylabel(\"Impact rate (s$^{-1}$)\")\n",
    "plt.savefig(\"../figures/psp.png\")\n",
    "plt.show()\n"
   ],
   "outputs": [
    {
     "output_type": "display_data",
     "data": {
      "image/png": "[encoded data removed]",
      "text/plain": [
       "<Figure size 432x288 with 1 Axes>"
      ]
     },
     "metadata": {
      "needs_background": "light"
     }
    }
   ],
   "metadata": {}
  },
  {
   "cell_type": "code",
   "execution_count": 25,
   "source": [
    "times = mdates.datestr2num(spice.et2utc(t3, \"C\", 3))\n",
    "times_a = mdates.datestr2num(spice.et2utc(t_vel, \"C\", 3))\n",
    "\n",
    "\n",
    "\n",
    "plt.plot(times,times)\n",
    "plt.gca().xaxis.set_major_formatter(mdates.DateFormatter('%m/%d/%y'))\n",
    "plt.gcf().autofmt_xdate()"
   ],
   "outputs": [
    {
     "output_type": "display_data",
     "data": {
      "image/png": "[encoded data removed]",
      "text/plain": [
       "<Figure size 432x288 with 1 Axes>"
      ]
     },
     "metadata": {
      "needs_background": "light"
     }
    }
   ],
   "metadata": {}
  },
  {
   "cell_type": "code",
   "execution_count": 26,
   "source": [
    "impact[\"Density\"] = impact[\"Rate\"] * DAY_TO_SEC\n",
    "impact.loc[-1, \"Density\"] = np.NaN\n",
    "for i in range(impact.shape[0] - 2):\n",
    "    dx = np.abs(impact.loc[i, \"x\"] - impact.loc[i+1, \"x\"])\n",
    "    dy = np.abs(impact.loc[i, \"y\"] - impact.loc[i+1, \"y\"])\n",
    "    dz = np.abs(impact.loc[i, \"z\"] - impact.loc[i+1, \"z\"])\n",
    "\n",
    "\n",
    "    impact.loc[i, \"Density\"] /= (np.sqrt(dx**2 + dy**2 + dz**2)* 1000 * 5)\n",
    "    \n"
   ],
   "outputs": [],
   "metadata": {}
  },
  {
   "cell_type": "code",
   "execution_count": 27,
   "source": [
    "x = np.arange(800)/800*14 - 7\n",
    "\n",
    "plt.rc_context({'figure.facecolor':'white'})\n",
    "\n",
    "x2 = np.array([t2[i*100] for i in range(800)])\n",
    "\n",
    "V = 4/3 * np.pi * r**3\n",
    "\n",
    "plt.plot(x2, n_part_vel/V*norm/(au**3), label = '~1km/s initial v')\n",
    "\n",
    "plt.plot(t3[41:71], impact[\"Density\"][41:71])\n",
    "plt.plot(x2, n_part_no_vel/V*norm/(au**3), label = 'no initial v')\n",
    "plt.legend()\n",
    "\n"
   ],
   "outputs": [
    {
     "output_type": "execute_result",
     "data": {
      "text/plain": [
       "<matplotlib.legend.Legend at 0x7fdf6c2448b0>"
      ]
     },
     "metadata": {},
     "execution_count": 27
    },
    {
     "output_type": "display_data",
     "data": {
      "image/png": "[encoded data removed]",
      "text/plain": [
       "<Figure size 432x288 with 1 Axes>"
      ]
     },
     "metadata": {
      "needs_background": "light"
     }
    }
   ],
   "metadata": {}
  },
  {
   "cell_type": "code",
   "execution_count": 28,
   "source": [
    "np.max(n_part_no_vel/V*norm/au**3)"
   ],
   "outputs": [
    {
     "output_type": "execute_result",
     "data": {
      "text/plain": [
       "9.98104918451068e-16"
      ]
     },
     "metadata": {},
     "execution_count": 28
    }
   ],
   "metadata": {}
  },
  {
   "cell_type": "code",
   "execution_count": null,
   "source": [],
   "outputs": [],
   "metadata": {}
  },
  {
   "cell_type": "code",
   "execution_count": 29,
   "source": [
    "x = np.arange(800)/800*14 - 7\n",
    "\n",
    "plt.rc_context({'figure.facecolor':'white'})\n",
    "\n",
    "\n",
    "\n",
    "plt.plot(x, n_mass_vel, label = '~1km/s initial v')\n",
    "plt.plot(x, n_mass_no_vel, label = 'no initial v')\n",
    "plt.legend()\n",
    "\n"
   ],
   "outputs": [
    {
     "output_type": "execute_result",
     "data": {
      "text/plain": [
       "<matplotlib.legend.Legend at 0x7fdf6c1e2580>"
      ]
     },
     "metadata": {},
     "execution_count": 29
    },
    {
     "output_type": "display_data",
     "data": {
      "image/png": "[encoded data removed]",
      "text/plain": [
       "<Figure size 432x288 with 1 Axes>"
      ]
     },
     "metadata": {
      "needs_background": "light"
     }
    }
   ],
   "metadata": {}
  },
  {
   "cell_type": "code",
   "execution_count": null,
   "source": [],
   "outputs": [],
   "metadata": {}
  },
  {
   "cell_type": "code",
   "execution_count": null,
   "source": [],
   "outputs": [],
   "metadata": {}
  }
 ],
 "metadata": {
  "kernelspec": {
   "name": "python3",
   "display_name": "Python 3.8.3 64-bit ('base': conda)"
  },
  "language_info": {
   "codemirror_mode": {
    "name": "ipython",
    "version": 3
   },
   "file_extension": ".py",
   "mimetype": "text/x-python",
   "name": "python",
   "nbconvert_exporter": "python",
   "pygments_lexer": "ipython3",
   "version": "3.8.3"
  },
  "interpreter": {
   "hash": "f2bf16c920055a65bc6f4f6ae352b18f434d115ca8463b3c20448d68127a0e57"
  }
 },
 "nbformat": 4,
 "nbformat_minor": 4
}