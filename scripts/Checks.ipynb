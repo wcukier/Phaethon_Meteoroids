{
 "cells": [
  {
   "cell_type": "code",
   "execution_count": 1,
   "metadata": {},
   "outputs": [],
   "source": [
    "import numpy as np\n",
    "import pandas as pd\n",
    "from matplotlib import pyplot as plt\n",
    "from scipy.integrate import odeint\n",
    "from scipy.interpolate import interp1d\n",
    "from tqdm import tqdm\n",
    "import scipy\n",
    "import spiceypy as spice\n",
    "import rebound\n",
    "import reboundx\n",
    "import matplotlib\n",
    "import pandas as pd\n",
    "import matplotlib.dates as mdates\n",
    "import matplotlib.cbook as cbook\n",
    "\n",
    "plt.rc_context({'figure.facecolor':'white'})\n",
    "\n",
    "import sys\n",
    "sys.path.append('..')\n",
    "from geminids.constants import *\n",
    "from geminids.weights import *\n",
    "\n"
   ]
  },
  {
   "cell_type": "code",
   "execution_count": null,
   "metadata": {},
   "outputs": [],
   "source": []
  },
  {
   "cell_type": "code",
   "execution_count": 2,
   "metadata": {},
   "outputs": [],
   "source": [
    "orbit = np.load('data/phaethon.npy')\n",
    "psp2 = np.load('data/psp.npy')\n",
    "t_act = np.load('data/t-3200.npy')\n",
    "earth = spice.convrt(np.load('data/earth.npy'), \"AU\", \"M\")"
   ]
  },
  {
   "cell_type": "code",
   "execution_count": 3,
   "metadata": {},
   "outputs": [],
   "source": [
    "spice.furnsh(\"data/meta.tm\")"
   ]
  },
  {
   "cell_type": "code",
   "execution_count": 4,
   "metadata": {
    "scrolled": true
   },
   "outputs": [
    {
     "name": "stderr",
     "output_type": "stream",
     "text": [
      "  0%|          | 0/100 [00:00<?, ?it/s]../geminids/beta2mass.py:30: RuntimeWarning: divide by zero encountered in double_scalars\n",
      "  return a* x**-b\n",
      "<ipython-input-4-8857da933a6b>:10: RuntimeWarning: invalid value encountered in multiply\n",
      "  mass += np.sum(size[(~np.isnan(size * weight_novel(beta)))] *\n",
      "<ipython-input-4-8857da933a6b>:11: RuntimeWarning: invalid value encountered in multiply\n",
      "  weight_novel(beta[(~np.isnan(size * weight_novel(beta)))]))\n",
      "100%|██████████| 100/100 [02:20<00:00,  1.40s/it]\n"
     ]
    }
   ],
   "source": [
    "points1 = []\n",
    "n = 100\n",
    "mass = 0\n",
    "\n",
    "for i in tqdm(range(n)):\n",
    "    data = np.load(f'../output/novel/particles{i}.npy')\n",
    "    beta = np.load(f'../output/novel/beta{i}.npy')\n",
    "    size = np.load(f'../output/novel/mass{i}.npy')\n",
    "    size = np.array(asteroidal(beta))\n",
    "    mass += np.sum(size[(~np.isnan(size * weight_novel(beta)))] * \n",
    "                   weight_novel(beta[(~np.isnan(size * weight_novel(beta)))]))\n",
    "    \n",
    "    data = data.reshape(10000*100*2, 5)\n",
    "    data = data[:,:3]\n",
    "    \n",
    "    \n",
    "    \n",
    "    points1.append(np.hstack((data, np.tile(size,20000).reshape(2000000,1), \n",
    "                              np.tile(weight_novel(beta),20000).reshape(2000000,1))))\n",
    "\n",
    "mass = mass * 20000    \n",
    "points1 = np.array(points1)\n",
    "points1 = points1.reshape(2000000*n,5)\n",
    "points1 = points1[~np.isnan(points1).any(axis=1)]\n",
    "norm1 = 1e14/mass\n"
   ]
  },
  {
   "cell_type": "code",
   "execution_count": 5,
   "metadata": {},
   "outputs": [],
   "source": [
    "# CUTOFF = 1.8e-4\n",
    "CUTOFF = 1e-5"
   ]
  },
  {
   "cell_type": "code",
   "execution_count": 7,
   "metadata": {},
   "outputs": [],
   "source": [
    "d = np.sqrt(points1[:,0]**2 + points1[:,1]**2 + points1[:,2]**2)\n",
    "\n",
    "points1 = points1[np.logical_not(np.logical_or(d > 1.1, d < 0.9))]\n",
    "\n",
    "points_m4 = points1[:,:][points1[:,3] > CUTOFF]\n",
    "points_m7 = points1[:,:][points1[:,3] > 1e-7]\n",
    "\n",
    "particles_m4_nv = scipy.spatial.KDTree(points_m4[~np.isnan(points_m4).any(axis=1)][:,:3])\n",
    "particles_m7_nv = scipy.spatial.KDTree(points_m7[~np.isnan(points_m7).any(axis=1)][:,:3])"
   ]
  },
  {
   "cell_type": "code",
   "execution_count": 8,
   "metadata": {},
   "outputs": [
    {
     "name": "stderr",
     "output_type": "stream",
     "text": [
      "100%|██████████| 100/100 [01:29<00:00,  1.11it/s]\n"
     ]
    }
   ],
   "source": [
    "points1c = []\n",
    "n = 100\n",
    "massc = 0\n",
    "\n",
    "for i in tqdm(range(n)):\n",
    "    data = np.load(f'../output/novel_comet/particles{i}.npy')\n",
    "    beta = np.load(f'../output/novel_comet/beta{i}.npy')\n",
    "    size = np.load(f'../output/novel_comet/mass{i}.npy')\n",
    "    size = np.array(young_comet(beta))\n",
    "    massc += np.sum(size[(~np.isnan(size * weight_novelc(beta)))] * \n",
    "                    weight_novelc(beta[(~np.isnan(size * weight_novelc(beta)))]))\n",
    "    \n",
    "    data = data.reshape(10000*100*2, 5)\n",
    "    data = data[:,:3]\n",
    "    \n",
    "#     data[:,2] -= offset(data[:,1])\n",
    "    \n",
    "    \n",
    "    points1c.append(np.hstack((data, np.tile(size,20000).reshape(2000000,1), \n",
    "                               np.tile(weight_novelc(beta),20000).reshape(2000000,1))))\n",
    "\n",
    "massc = massc * 20000    \n",
    "points1c = np.array(points1c)\n",
    "points1c = points1c.reshape(2000000*n,5)\n",
    "points1c = points1c[~np.isnan(points1c).any(axis=1)]\n",
    "norm1c = 1e14/mass\n",
    "# norm = 2.5e27/20000000"
   ]
  },
  {
   "cell_type": "code",
   "execution_count": 9,
   "metadata": {},
   "outputs": [],
   "source": [
    "d = np.sqrt(points1c[:,0]**2 + points1c[:,1]**2 + points1c[:,2]**2)\n",
    "\n",
    "points1c = points1c[np.logical_not(np.logical_or(d > 1.1, d < 0.9))]\n",
    "\n",
    "points_m4c = points1c[:,:][points1c[:,3] > CUTOFF]\n",
    "points_m7c = points1c[:,:][points1c[:,3] > 1e-7]\n",
    "\n",
    "particles_m4_nvc = scipy.spatial.KDTree(points_m4c[~np.isnan(points_m4c).any(axis=1)][:,:3])\n",
    "particles_m7_nvc = scipy.spatial.KDTree(points_m7c[~np.isnan(points_m7c).any(axis=1)][:,:3])"
   ]
  },
  {
   "cell_type": "code",
   "execution_count": 10,
   "metadata": {},
   "outputs": [
    {
     "name": "stderr",
     "output_type": "stream",
     "text": [
      " 22%|██▏       | 22/100 [00:28<01:43,  1.33s/it]"
     ]
    },
    {
     "name": "stdout",
     "output_type": "stream",
     "text": [
      "[Errno 2] No such file or directory: '../output/novel_old/particles22.npy'\n"
     ]
    },
    {
     "name": "stderr",
     "output_type": "stream",
     "text": [
      "100%|██████████| 100/100 [02:09<00:00,  1.30s/it]\n"
     ]
    }
   ],
   "source": [
    "points1o = []\n",
    "n = 100\n",
    "masso = 0\n",
    "offset = 0\n",
    "for i in tqdm(range(n)):\n",
    "    try :\n",
    "        data = np.load(f'../output/novel_old/particles{i}.npy')\n",
    "        beta = np.load(f'../output/novel_old/beta{i}.npy')\n",
    "        size = np.load(f'../output/novel_old/mass{i}.npy')\n",
    "        masso += np.sum(size[(~np.isnan(size * weight_novel(beta)))] * \n",
    "                        weight_novel(beta[(~np.isnan(size * weight_novel(beta)))]))\n",
    "\n",
    "        data = data.reshape(10000*100*2, 5)\n",
    "        data = data[:,:3]\n",
    "\n",
    " \n",
    "\n",
    "        points1o.append(np.hstack((data, np.tile(size,20000).reshape(2000000,1), \n",
    "                                   np.tile(weight_novel(beta),20000).reshape(2000000,1))))\n",
    "    except Exception as e: \n",
    "        print(e)\n",
    "        offset += 1\n",
    "        \n",
    "masso = masso * 20000    \n",
    "points1o = np.array(points1o)\n",
    "points1o = points1o.reshape(2000000*(n-offset),5)\n",
    "points1o = points1o[~np.isnan(points1o).any(axis=1)]\n",
    "norm1o = 1e14/masso\n"
   ]
  },
  {
   "cell_type": "code",
   "execution_count": 11,
   "metadata": {},
   "outputs": [],
   "source": [
    "d = np.sqrt(points1o[:,0]**2 + points1o[:,1]**2 + points1o[:,2]**2)\n",
    "\n",
    "points1o = points1o[np.logical_not(np.logical_or(d > 1.1, d < 0.9))]\n",
    "\n",
    "points_m4o = points1o[:,:][points1o[:,3] > CUTOFF]\n",
    "points_m7o = points1o[:,:][points1o[:,3] > 1e-7]\n",
    "\n",
    "particles_m4_nvo = scipy.spatial.KDTree(points_m4o[~np.isnan(points_m4o).any(axis=1)][:,:3])\n",
    "particles_m7_nvo = scipy.spatial.KDTree(points_m7o[~np.isnan(points_m7o).any(axis=1)][:,:3])"
   ]
  },
  {
   "cell_type": "code",
   "execution_count": 12,
   "metadata": {},
   "outputs": [
    {
     "name": "stderr",
     "output_type": "stream",
     "text": [
      "100%|██████████| 100/100 [02:09<00:00,  1.29s/it]\n"
     ]
    }
   ],
   "source": [
    "points2 = []\n",
    "n=100\n",
    "mass_v = 0\n",
    "for i in tqdm(range(n)):\n",
    "    data = np.load(f'../output/vel/particles{i}.npy')\n",
    "    beta = np.load(f'../output/vel/beta{i}.npy')\n",
    "    size = np.load(f'../output/vel/mass{i}.npy')\n",
    "    \n",
    "    data = data.reshape(10000*100*2, 5)\n",
    "    data = data[:,:3]\n",
    "    mass_v += np.sum(size[(~np.isnan(size * weight_vel(beta)))] * weight_vel(beta[(~np.isnan(size * weight_vel(beta)))]))\n",
    "\n",
    "    \n",
    "    points2.append(np.hstack((data, np.tile(size,20000).reshape(2000000,1), np.tile(weight_vel(beta),20000).reshape(2000000,1))))\n",
    "    \n",
    "mass_v *= 20000\n",
    "points2 = np.array(points2)\n",
    "points2 = points2.reshape(2000000*n,5)\n",
    "\n",
    "\n"
   ]
  },
  {
   "cell_type": "code",
   "execution_count": 13,
   "metadata": {},
   "outputs": [
    {
     "name": "stderr",
     "output_type": "stream",
     "text": [
      "<ipython-input-13-4e81eac076a1>:4: RuntimeWarning: invalid value encountered in greater\n",
      "  points2 = points2[np.logical_not(np.logical_or(d > 1.1, d < 0.9))]\n",
      "<ipython-input-13-4e81eac076a1>:4: RuntimeWarning: invalid value encountered in less\n",
      "  points2 = points2[np.logical_not(np.logical_or(d > 1.1, d < 0.9))]\n"
     ]
    }
   ],
   "source": [
    "d = np.sqrt(points2[:,0]**2 + points2[:,1]**2 + points2[:,2]**2)\n",
    "\n",
    "\n",
    "points2 = points2[np.logical_not(np.logical_or(d > 1.1, d < 0.9))]\n",
    "\n",
    "points_m4v = points2[points2[:,3] > CUTOFF]\n",
    "points_m7v = points2[points2[:,3] > 1e-7]\n",
    "\n",
    "particles_m4_v = scipy.spatial.KDTree(points_m4v[:,:3])\n",
    "particles_m7_v = scipy.spatial.KDTree(points_m7v[:,:3])"
   ]
  },
  {
   "cell_type": "code",
   "execution_count": 14,
   "metadata": {},
   "outputs": [],
   "source": [
    "# points3 = []\n",
    "# n=600\n",
    "# a = np.array(range(n))\n",
    "# # a = np.delete(a, (431, 578))\n",
    "# # n -= 2\n",
    "# offset = 0\n",
    "# for i in tqdm(range(n)):\n",
    "#         try:\n",
    "#             data = np.load(f'../output/distr/particles{i}.npy')\n",
    "#             beta = np.load(f'../output/distr/beta{i}.npy')\n",
    "#             size = np.load(f'../output/distr/mass{i}.npy')\n",
    "\n",
    "#             data = data.reshape(10000*10*2, 5)\n",
    "#             data[data[:,4] < .2] *= 0\n",
    "#             data = data[:,:3]\n",
    "\n",
    "#         #     data[:,2] -= offset(data[:,1])\n",
    "\n",
    "\n",
    "#             points3.append(np.hstack((data, np.tile(size,20000).reshape(200000,1), np.tile(beta,20000).reshape(200000,1))))\n",
    "#         except: offset +=1\n",
    "        \n",
    "# points3 = np.array(points3)\n",
    "# points3 = points3.reshape(200000*(n - offset),5)\n",
    "# points3 = points3[~np.isnan(points3).any(axis=1)]\n",
    "\n",
    "# mass_d = np.sum(points3[:,3])\n",
    "\n"
   ]
  },
  {
   "cell_type": "code",
   "execution_count": 15,
   "metadata": {},
   "outputs": [],
   "source": [
    "# np.min(points3[:,3])"
   ]
  },
  {
   "cell_type": "code",
   "execution_count": null,
   "metadata": {},
   "outputs": [],
   "source": [
    "# d = np.sqrt(points3[:,0]**2 + points3[:,1]**2 + points3[:,2]**2)\n",
    "\n",
    "\n",
    "# points3 = points3[np.logical_not(np.logical_or(d > 1.1, d < 0.9))]\n",
    "\n",
    "# particles_m4_d = scipy.spatial.KDTree(points3[:,:3][points3[:,3] > 1e-5])\n",
    "# particles_m7_d = scipy.spatial.KDTree(points3[:,:3][points3[:,3] > 1e-7])"
   ]
  },
  {
   "cell_type": "code",
   "execution_count": 20,
   "metadata": {},
   "outputs": [
    {
     "name": "stderr",
     "output_type": "stream",
     "text": [
      "100%|██████████| 8000/8000 [00:31<00:00, 251.51it/s] \n"
     ]
    }
   ],
   "source": [
    "RADIUS_EARTH = 384.4e6 #m\n",
    "a = 800\n",
    "m = 10\n",
    "n=a*m\n",
    "pos_arr = np.zeros((n,3))\n",
    "\n",
    "n_part_m4_v = np.zeros(n)\n",
    "r_m4_v = np.zeros(n)\n",
    "\n",
    "n_part_m7_v = np.zeros(n)\n",
    "r_m7_v = np.zeros(n)\n",
    "\n",
    "n_part_m4_nv = np.zeros(n)\n",
    "r_m4_nv = np.zeros(n)\n",
    "\n",
    "n_part_m7_nv = np.zeros(n)\n",
    "r_m7_nv = np.zeros(n)\n",
    "\n",
    "# n_part_m4_d = np.zeros(n)\n",
    "# r_m4_d = np.zeros(n)\n",
    "\n",
    "# n_part_m7_d = np.zeros(n)\n",
    "# r_m7_d = np.zeros(n)\n",
    "\n",
    "n_part_m4_nvc = np.zeros(n)\n",
    "r_m4_nvc = np.zeros(n)\n",
    "\n",
    "n_part_m7_nvc = np.zeros(n)\n",
    "r_m7_nvc = np.zeros(n)\n",
    "\n",
    "n_part_m4_nvo = np.zeros(n)\n",
    "r_m4_nvo = np.zeros(n)\n",
    "\n",
    "n_part_m7_nvo = np.zeros(n)\n",
    "r_m7_nvo = np.zeros(n)\n",
    "\n",
    "\n",
    "\n",
    "\n",
    "n_part_distr = np.zeros(n)\n",
    "r_distr = np.zeros(n)\n",
    "\n",
    "r = .01\n",
    "\n",
    "t = t_act[np.linspace(0,19999, n, dtype=int)]\n",
    "long = np.zeros(t.shape[0])\n",
    "\n",
    "for i,j in enumerate(tqdm(np.linspace(0,19999, n, dtype=int))):\n",
    "    [pos, lt] = spice.spkezr(\"EARTH\", t_act[j], \"J2000\", \"NONE\", \"SUN\")\n",
    "\n",
    "    \n",
    "    pos = spice.convrt(pos, \"KM\", \"AU\")\n",
    "    pos_arr[i] = pos[:3]\n",
    "\n",
    "\n",
    "#     n_part_m4_v[i] = len(particles_m4_v.query_ball_point(pos[:3], r))\n",
    "#     n_part_m7_v[i] = len(particles_m7_v.query_ball_point(pos[:3], r))\n",
    "\n",
    "#     idxes1 = particles_m7_nv.query_ball_point(pos[:3], r)\n",
    "#     if idxes1: n_part_m7_nv[i] = np.sum(pts1[idxes1][:,3] > 1e-5)\n",
    "        \n",
    "        \n",
    "#     n_part_distr[i] = len(particles3.query_ball_point(pos[:3], r))\n",
    "\n",
    "    n_part_m4_nv[i] = np.sum(points_m4[particles_m4_nv.query_ball_point(pos[:3], r), 4])\n",
    "    n_part_m7_nv[i] = np.sum(points_m7[particles_m7_nv.query_ball_point(pos[:3], r),4])\n",
    "\n",
    "    n_part_m4_v[i] = np.sum(points_m4v[particles_m4_v.query_ball_point(pos[:3], r), 4])\n",
    "    n_part_m7_v[i] = np.sum(points_m7v[particles_m7_v.query_ball_point(pos[:3], r),4])\n",
    "    \n",
    "    n_part_m4_nvc[i] = np.sum(points_m4c[particles_m4_nvc.query_ball_point(pos[:3], r), 4])\n",
    "    n_part_m7_nvc[i] = np.sum(points_m7c[particles_m7_nvc.query_ball_point(pos[:3], r),4])\n",
    "    \n",
    "    n_part_m4_nvo[i] = np.sum(points_m4o[particles_m4_nvo.query_ball_point(pos[:3], r), 4])\n",
    "    n_part_m7_nvo[i] = np.sum(points_m7o[particles_m7_nvo.query_ball_point(pos[:3], r),4])\n",
    "#     n_part_m4_nvc[i] = len(particles_m4_nvc.query_ball_point(pos[:3], r))\n",
    "#     n_part_m7_nvc[i] = len(particles_m7_nvc.query_ball_point(pos[:3], r))\n",
    "\n",
    "#     n_part_m4_nvo[i] = len(particles_m4_nvo.query_ball_point(pos[:3], r))\n",
    "#     n_part_m7_nvo[i] = len(particles_m7_nvo.query_ball_point(pos[:3], r))\n",
    "    \n",
    "#     n_part_m4_d[i] = len(particles_m4_d.query_ball_point(pos[:3], r))\n",
    "#     n_part_m7_d[i] = len(particles_m7_d.query_ball_point(pos[:3], r))\n",
    "    \n",
    "#     n_part_a_nv[i] = len(particles_a_nv.query_ball_point(pos[:3], r))\n",
    "\n",
    "    pos = spice.convrt(pos, \"AU\", \"M\")\n",
    "\n",
    "\n",
    "    V = 4/3 * np.pi * ((r*au)**3)\n",
    "    \n",
    "    \n",
    "    \n",
    "\n",
    "    r_m4_v[i] = n_part_m4_v[i]/V *35e3\n",
    "    r_m7_v[i] = n_part_m7_v[i]/V *35e3\n",
    "\n",
    "    \n",
    "    r_m4_nvc[i] = n_part_m4_nvc[i]/V *35e3\n",
    "    r_m7_nvc[i] = n_part_m7_nvc[i]/V *35e3\n",
    "\n",
    "    \n",
    "    r_m4_nvo[i] = n_part_m4_nvo[i]/V *35e3\n",
    "    r_m7_nvo[i] = n_part_m7_nvo[i]/V *35e3\n",
    "\n",
    "# # #                     #n/a     #m^-3 #na.         #m^2                                 #m/s\n",
    "# #     r_distr[i] = n_part_distr[i]/V * norm3 * (np.pi*RADIUS_EARTH**2/au**2) * np.sqrt(np.sum((pos[3:]-earth)**2))\n",
    "    r_m4_nv[i] = n_part_m4_nv[i]/V *35e3\n",
    "\n",
    "    r_m7_nv[i] = n_part_m7_nv[i]/V *35e3\n",
    "    \n",
    "#     r_m4_d[i] = n_part_m4_d[i]/V *35e3\n",
    "#     r_m7_d[i] = n_part_m7_d[i]/V *35e3\n",
    "    \n",
    "#     r_a_nv[i] = n_part_a_nv[i]/V * norm * (np.pi*RADIUS_EARTH**2) * np.sqrt(np.sum((pos[3:]-earth)**2))\n",
    "\n",
    "\n",
    "    [pos_eclip, lt] = spice.spkezr(\"EARTH\", t_act[j], \"ECLIPJ2000\", \"NONE\", \"SUN\")\n",
    "    rad, long[i], lat = spice.reclat(pos_eclip[:3])\n",
    "    \n",
    "    \n",
    "    "
   ]
  },
  {
   "cell_type": "code",
   "execution_count": 17,
   "metadata": {},
   "outputs": [
    {
     "data": {
      "text/plain": [
       "(914805,)"
      ]
     },
     "execution_count": 17,
     "metadata": {},
     "output_type": "execute_result"
    }
   ],
   "source": [
    "points_m4o[:,3].shape"
   ]
  },
  {
   "cell_type": "code",
   "execution_count": 21,
   "metadata": {},
   "outputs": [
    {
     "name": "stdout",
     "output_type": "stream",
     "text": [
      "inf\n",
      "5.80e+12\n",
      "inf\n",
      "inf\n"
     ]
    },
    {
     "name": "stderr",
     "output_type": "stream",
     "text": [
      "<ipython-input-21-68ae0faba7fb>:5: RuntimeWarning: divide by zero encountered in double_scalars\n",
      "  norm_nv = PEAK_DENSITY/np.max(r_m4_nv)\n",
      "<ipython-input-21-68ae0faba7fb>:8: RuntimeWarning: divide by zero encountered in double_scalars\n",
      "  norm_nvc = PEAK_DENSITY/np.max(r_m4_nvc)\n",
      "<ipython-input-21-68ae0faba7fb>:9: RuntimeWarning: divide by zero encountered in double_scalars\n",
      "  norm_nvo = PEAK_DENSITY/np.max(r_m4_nvo)\n"
     ]
    }
   ],
   "source": [
    "# PEAK_DENSITY = 6e-12 #m^-2 s^-1\n",
    "# PEAK_DENSITY = 2.3e-2 /35 / 1e3**3 /3600\n",
    "PEAK_FLUX = 2.3e-2 /1e3**2/3600\n",
    "PEAK_DENSITY = PEAK_FLUX\n",
    "norm_nv = PEAK_DENSITY/np.max(r_m4_nv)\n",
    "norm_v = PEAK_DENSITY/np.max(r_m4_v)\n",
    "# norm_d = PEAK_DENSITY/np.max(r_m4_d)\n",
    "norm_nvc = PEAK_DENSITY/np.max(r_m4_nvc)\n",
    "norm_nvo = PEAK_DENSITY/np.max(r_m4_nvo)\n",
    "\n",
    "\n",
    "\n",
    "mass_normed_v = mass_v * norm_v\n",
    "mass_normed_nv = mass*norm_nv\n",
    "mass_normed_nvc = massc*norm_nvc\n",
    "# mass_normed_d = mass_d*norm_d\n",
    "mass_normed_nvo = masso*norm_nvo\n",
    "\n",
    "\n",
    "print(\"{:.2e}\".format(mass_normed_nv))\n",
    "print(\"{:.2e}\".format(mass_normed_v))\n",
    "# print(\"{:.2e}\".format(mass_normed_d))\n",
    "print(\"{:.2e}\".format(mass_normed_nvc))\n",
    "print(\"{:.2e}\".format(mass_normed_nvo))\n",
    "\n",
    "\n",
    "\n",
    "# masses = np.array([mass_normed_nv, mass_normed_v, mass_normed_d, mass_normed_nvc, mass_normed_nvo])\n",
    "# np.save(\"cache/masses.npy\", masses)"
   ]
  },
  {
   "cell_type": "code",
   "execution_count": null,
   "metadata": {},
   "outputs": [],
   "source": []
  },
  {
   "cell_type": "code",
   "execution_count": 22,
   "metadata": {},
   "outputs": [
    {
     "name": "stderr",
     "output_type": "stream",
     "text": [
      "<ipython-input-22-e624f2262e5a>:16: RuntimeWarning: invalid value encountered in true_divide\n",
      "  plt.plot(long[order]/2/np.pi*360 + 180, r_m4_nv[order]/np.max(r_m4_nv), label = \"base model\", c = 'b')\n",
      "<ipython-input-22-e624f2262e5a>:19: RuntimeWarning: invalid value encountered in true_divide\n",
      "  plt.plot(long[order]/2/np.pi*360 + 180, r_m4_nvc[order]/np.max(r_m4_nvc), label = \"base model (comet)\", c = 'purple')\n",
      "<ipython-input-22-e624f2262e5a>:20: RuntimeWarning: invalid value encountered in true_divide\n",
      "  plt.plot(long[order]/2/np.pi*360 + 180, r_m4_nvo[order]/np.max(r_m4_nvo), label = \"base model (age = 3000)\", c = 'r')\n"
     ]
    },
    {
     "data": {
      "image/png": "[encoded data removed]",
      "text/plain": [
       "<Figure size 432x288 with 1 Axes>"
      ]
     },
     "metadata": {},
     "output_type": "display_data"
    },
    {
     "name": "stdout",
     "output_type": "stream",
     "text": [
      "296.913118191854\n"
     ]
    }
   ],
   "source": [
    "cmor = np.genfromtxt(\"data/cmor.txt\", delimiter = ',')\n",
    "# t2 = t_act\n",
    "\n",
    "fig = plt.figure()\n",
    "ax = fig.add_subplot(111)\n",
    "\n",
    "# x2 = np.array([t2[i*100] for i in range(800)])\n",
    "x2 = mdates.datestr2num(spice.et2utc(t, \"C\", 3))\n",
    "\n",
    "order = np.argsort(long)\n",
    "\n",
    "peak = np.argmax(cmor[:,1])\n",
    "d = 1\n",
    "mean = np.mean(cmor[peak-d:peak+d,1])\n",
    "\n",
    "plt.plot(long[order]/2/np.pi*360 + 180, r_m4_nv[order]/np.max(r_m4_nv), label = \"base model\", c = 'b')\n",
    "plt.plot(long[order]/2/np.pi*360 + 180, r_m4_v[order]/np.max(r_m4_v), label = \"violent creation\", c = 'orange')\n",
    "# plt.plot(long[order]/2/np.pi*360 + 180, r_m4_d[order]/np.max(r_m4_d), label = \"distributed creation\", c = 'g')\n",
    "plt.plot(long[order]/2/np.pi*360 + 180, r_m4_nvc[order]/np.max(r_m4_nvc), label = \"base model (comet)\", c = 'purple')\n",
    "plt.plot(long[order]/2/np.pi*360 + 180, r_m4_nvo[order]/np.max(r_m4_nvo), label = \"base model (age = 3000)\", c = 'r')\n",
    "\n",
    "\n",
    "# plt.plot([262.15, 262.15], [0,1], \"r--\", label=\"peak\")\n",
    "\n",
    "\n",
    "# plt.plot(long[order]/2/np.pi*360 +180, r_m4_nv[order]/np.max(r_m4_nv), label = \"1e-4 g min mass\")\n",
    "plt.plot(cmor[:,0], cmor[:,1]/mean, label = 'cmor', c = 'brown')\n",
    "plt.xlim(255,265)\n",
    "\n",
    "\n",
    "# lns = l1+l2\n",
    "# labs = [l.get_label() for l in lns]\n",
    "# ax.legend(lns, labs, loc=0)\n",
    "\n",
    "# x = mdates.datestr2num(\"Dec 14, 2018, 11:30 AM\")\n",
    "\n",
    "\n",
    "# plt.plot([x,x], [0, 3e-4], \"r--\")\n",
    "# plt.gca().xaxis.set_major_formatter(mdates.DateFormatter('%m/%d/%y %H:%M'))\n",
    "# plt.gcf().autofmt_xdate()\n",
    "plt.legend()\n",
    "plt.savefig(\"../Figures/Earth-1.earth-moon.png\")\n",
    "plt.show()\n",
    "print(long[np.argmax(r_m4_nv)]/2/np.pi*360 + 180)"
   ]
  },
  {
   "cell_type": "code",
   "execution_count": 19,
   "metadata": {},
   "outputs": [
    {
     "ename": "OSError",
     "evalue": "21_wolf/geminids_zhr/cmor/cmor.txt not found.",
     "output_type": "error",
     "traceback": [
      "\u001b[0;31m---------------------------------------------------------------------------\u001b[0m",
      "\u001b[0;31mOSError\u001b[0m                                   Traceback (most recent call last)",
      "\u001b[0;32m<ipython-input-19-7d607d012c8e>\u001b[0m in \u001b[0;36m<module>\u001b[0;34m\u001b[0m\n\u001b[0;32m----> 1\u001b[0;31m \u001b[0mcmor\u001b[0m \u001b[0;34m=\u001b[0m \u001b[0mnp\u001b[0m\u001b[0;34m.\u001b[0m\u001b[0mgenfromtxt\u001b[0m\u001b[0;34m(\u001b[0m\u001b[0;34m\"21_wolf/geminids_zhr/cmor/cmor.txt\"\u001b[0m\u001b[0;34m,\u001b[0m \u001b[0mdelimiter\u001b[0m \u001b[0;34m=\u001b[0m \u001b[0;34m','\u001b[0m\u001b[0;34m)\u001b[0m\u001b[0;34m\u001b[0m\u001b[0;34m\u001b[0m\u001b[0m\n\u001b[0m\u001b[1;32m      2\u001b[0m \u001b[0;34m\u001b[0m\u001b[0m\n\u001b[1;32m      3\u001b[0m \u001b[0mfig\u001b[0m \u001b[0;34m=\u001b[0m \u001b[0mplt\u001b[0m\u001b[0;34m.\u001b[0m\u001b[0mfigure\u001b[0m\u001b[0;34m(\u001b[0m\u001b[0;34m)\u001b[0m\u001b[0;34m\u001b[0m\u001b[0;34m\u001b[0m\u001b[0m\n\u001b[1;32m      4\u001b[0m \u001b[0max\u001b[0m \u001b[0;34m=\u001b[0m \u001b[0mfig\u001b[0m\u001b[0;34m.\u001b[0m\u001b[0madd_subplot\u001b[0m\u001b[0;34m(\u001b[0m\u001b[0;36m111\u001b[0m\u001b[0;34m)\u001b[0m\u001b[0;34m\u001b[0m\u001b[0;34m\u001b[0m\u001b[0m\n\u001b[1;32m      5\u001b[0m \u001b[0;34m\u001b[0m\u001b[0m\n",
      "\u001b[0;32m~/opt/anaconda3/lib/python3.8/site-packages/numpy/lib/npyio.py\u001b[0m in \u001b[0;36mgenfromtxt\u001b[0;34m(fname, dtype, comments, delimiter, skip_header, skip_footer, converters, missing_values, filling_values, usecols, names, excludelist, deletechars, replace_space, autostrip, case_sensitive, defaultfmt, unpack, usemask, loose, invalid_raise, max_rows, encoding)\u001b[0m\n\u001b[1;32m   1770\u001b[0m             \u001b[0mfname\u001b[0m \u001b[0;34m=\u001b[0m \u001b[0mos_fspath\u001b[0m\u001b[0;34m(\u001b[0m\u001b[0mfname\u001b[0m\u001b[0;34m)\u001b[0m\u001b[0;34m\u001b[0m\u001b[0;34m\u001b[0m\u001b[0m\n\u001b[1;32m   1771\u001b[0m         \u001b[0;32mif\u001b[0m \u001b[0misinstance\u001b[0m\u001b[0;34m(\u001b[0m\u001b[0mfname\u001b[0m\u001b[0;34m,\u001b[0m \u001b[0mbasestring\u001b[0m\u001b[0;34m)\u001b[0m\u001b[0;34m:\u001b[0m\u001b[0;34m\u001b[0m\u001b[0;34m\u001b[0m\u001b[0m\n\u001b[0;32m-> 1772\u001b[0;31m             \u001b[0mfid\u001b[0m \u001b[0;34m=\u001b[0m \u001b[0mnp\u001b[0m\u001b[0;34m.\u001b[0m\u001b[0mlib\u001b[0m\u001b[0;34m.\u001b[0m\u001b[0m_datasource\u001b[0m\u001b[0;34m.\u001b[0m\u001b[0mopen\u001b[0m\u001b[0;34m(\u001b[0m\u001b[0mfname\u001b[0m\u001b[0;34m,\u001b[0m \u001b[0;34m'rt'\u001b[0m\u001b[0;34m,\u001b[0m \u001b[0mencoding\u001b[0m\u001b[0;34m=\u001b[0m\u001b[0mencoding\u001b[0m\u001b[0;34m)\u001b[0m\u001b[0;34m\u001b[0m\u001b[0;34m\u001b[0m\u001b[0m\n\u001b[0m\u001b[1;32m   1773\u001b[0m             \u001b[0mfid_ctx\u001b[0m \u001b[0;34m=\u001b[0m \u001b[0mcontextlib\u001b[0m\u001b[0;34m.\u001b[0m\u001b[0mclosing\u001b[0m\u001b[0;34m(\u001b[0m\u001b[0mfid\u001b[0m\u001b[0;34m)\u001b[0m\u001b[0;34m\u001b[0m\u001b[0;34m\u001b[0m\u001b[0m\n\u001b[1;32m   1774\u001b[0m         \u001b[0;32melse\u001b[0m\u001b[0;34m:\u001b[0m\u001b[0;34m\u001b[0m\u001b[0;34m\u001b[0m\u001b[0m\n",
      "\u001b[0;32m~/opt/anaconda3/lib/python3.8/site-packages/numpy/lib/_datasource.py\u001b[0m in \u001b[0;36mopen\u001b[0;34m(path, mode, destpath, encoding, newline)\u001b[0m\n\u001b[1;32m    267\u001b[0m \u001b[0;34m\u001b[0m\u001b[0m\n\u001b[1;32m    268\u001b[0m     \u001b[0mds\u001b[0m \u001b[0;34m=\u001b[0m \u001b[0mDataSource\u001b[0m\u001b[0;34m(\u001b[0m\u001b[0mdestpath\u001b[0m\u001b[0;34m)\u001b[0m\u001b[0;34m\u001b[0m\u001b[0;34m\u001b[0m\u001b[0m\n\u001b[0;32m--> 269\u001b[0;31m     \u001b[0;32mreturn\u001b[0m \u001b[0mds\u001b[0m\u001b[0;34m.\u001b[0m\u001b[0mopen\u001b[0m\u001b[0;34m(\u001b[0m\u001b[0mpath\u001b[0m\u001b[0;34m,\u001b[0m \u001b[0mmode\u001b[0m\u001b[0;34m,\u001b[0m \u001b[0mencoding\u001b[0m\u001b[0;34m=\u001b[0m\u001b[0mencoding\u001b[0m\u001b[0;34m,\u001b[0m \u001b[0mnewline\u001b[0m\u001b[0;34m=\u001b[0m\u001b[0mnewline\u001b[0m\u001b[0;34m)\u001b[0m\u001b[0;34m\u001b[0m\u001b[0;34m\u001b[0m\u001b[0m\n\u001b[0m\u001b[1;32m    270\u001b[0m \u001b[0;34m\u001b[0m\u001b[0m\n\u001b[1;32m    271\u001b[0m \u001b[0;34m\u001b[0m\u001b[0m\n",
      "\u001b[0;32m~/opt/anaconda3/lib/python3.8/site-packages/numpy/lib/_datasource.py\u001b[0m in \u001b[0;36mopen\u001b[0;34m(self, path, mode, encoding, newline)\u001b[0m\n\u001b[1;32m    621\u001b[0m                                       encoding=encoding, newline=newline)\n\u001b[1;32m    622\u001b[0m         \u001b[0;32melse\u001b[0m\u001b[0;34m:\u001b[0m\u001b[0;34m\u001b[0m\u001b[0;34m\u001b[0m\u001b[0m\n\u001b[0;32m--> 623\u001b[0;31m             \u001b[0;32mraise\u001b[0m \u001b[0mIOError\u001b[0m\u001b[0;34m(\u001b[0m\u001b[0;34m\"%s not found.\"\u001b[0m \u001b[0;34m%\u001b[0m \u001b[0mpath\u001b[0m\u001b[0;34m)\u001b[0m\u001b[0;34m\u001b[0m\u001b[0;34m\u001b[0m\u001b[0m\n\u001b[0m\u001b[1;32m    624\u001b[0m \u001b[0;34m\u001b[0m\u001b[0m\n\u001b[1;32m    625\u001b[0m \u001b[0;34m\u001b[0m\u001b[0m\n",
      "\u001b[0;31mOSError\u001b[0m: 21_wolf/geminids_zhr/cmor/cmor.txt not found."
     ]
    }
   ],
   "source": [
    "cmor = np.genfromtxt(\"21_wolf/geminids_zhr/cmor/cmor.txt\", delimiter = ',')\n",
    "\n",
    "fig = plt.figure()\n",
    "ax = fig.add_subplot(111)\n",
    "\n",
    "x2 = np.array([t2[i*100] for i in range(800)])\n",
    "x2 = mdates.datestr2num(spice.et2utc(t, \"C\", 3))\n",
    "\n",
    "order = np.argsort(long)\n",
    "\n",
    "peak = np.argmax(cmor[:,1])\n",
    "d = 1\n",
    "mean = np.mean(cmor[peak-d:peak+d,1])\n",
    "\n",
    "plt.plot(long[order]/2/np.pi*360 + 180, r_m4_nv[order]/np.max(r_m4_nv), label = \"base model\", c = 'b')\n",
    "# plt.plot(long[order]/2/np.pi*360 + 180, r_m4_v[order]/np.max(r_m4_v), label = \"violent creation\", c = 'orange')\n",
    "# plt.plot(long[order]/2/np.pi*360 + 180, r_m4_d[order]/np.max(r_m4_d), label = \"distributed creation\", c = 'g')\n",
    "plt.plot(long[order]/2/np.pi*360 + 180, r_m4_nvc[order]/np.max(r_m4_nvc), label = \"base model (comet)\", c = 'purple')\n",
    "plt.plot(long[order]/2/np.pi*360 + 180, r_m4_nvo[order]/np.max(r_m4_nvo), label = \"base model (age = 3000)\", c = 'r')\n",
    "\n",
    "\n",
    "# plt.plot([262.15, 262.15], [0,1], \"r--\", label=\"peak\")\n",
    "\n",
    "\n",
    "# plt.plot(long[order]/2/np.pi*360 +180, r_m4_nv[order]/np.max(r_m4_nv), label = \"1e-4 g min mass\")\n",
    "plt.plot(cmor[:,0], cmor[:,1]/mean, label = 'cmor', c = 'brown')\n",
    "plt.xlim(255,265)\n",
    "\n",
    "\n",
    "# lns = l1+l2\n",
    "# labs = [l.get_label() for l in lns]\n",
    "# ax.legend(lns, labs, loc=0)\n",
    "\n",
    "# x = mdates.datestr2num(\"Dec 14, 2018, 11:30 AM\")\n",
    "\n",
    "\n",
    "# plt.plot([x,x], [0, 3e-4], \"r--\")\n",
    "# plt.gca().xaxis.set_major_formatter(mdates.DateFormatter('%m/%d/%y %H:%M'))\n",
    "# plt.gcf().autofmt_xdate()\n",
    "plt.legend()\n",
    "plt.savefig(\"../Figures/Earth-2.png\")\n",
    "plt.show()\n",
    "print(long[np.argmax(r_m4_nv)]/2/np.pi*360 + 180)"
   ]
  },
  {
   "cell_type": "code",
   "execution_count": null,
   "metadata": {},
   "outputs": [],
   "source": []
  },
  {
   "cell_type": "code",
   "execution_count": null,
   "metadata": {},
   "outputs": [],
   "source": [
    "cmor = np.genfromtxt(\"21_wolf/geminids_zhr/cmor/cmor.txt\", delimiter = ',')\n",
    "\n",
    "fig = plt.figure()\n",
    "ax = fig.add_subplot(111)\n",
    "\n",
    "x2 = np.array([t2[i*100] for i in range(800)])\n",
    "x2 = mdates.datestr2num(spice.et2utc(t, \"C\", 3))\n",
    "\n",
    "order = np.argsort(long)\n",
    "\n",
    "peak = np.argmax(cmor[:,1])\n",
    "d = 1\n",
    "mean = np.mean(cmor[peak-d:peak+d,1])\n",
    "\n",
    "plt.plot(long[order]/2/np.pi*360 + 180, r_m4_nv[order]/np.max(r_m4_nv), label = \"base model\")\n",
    "plt.plot(long[order]/2/np.pi*360 + 180, r_m4_v[order]/np.max(r_m4_v), label = \"violent creation\")\n",
    "# plt.plot(long[order]/2/np.pi*360 + 180, r_m4_d[order]/np.max(r_m4_d), label = \"distributed creation\")\n",
    "# plt.plot(long[order]/2/np.pi*360 + 180, r_m4_nvc[order]/np.max(r_m4_nvc), label = \"base model (comet)\")\n",
    "# plt.plot(long[order]/2/np.pi*360 + 180, r_m4_nvo[order]/np.max(r_m4_nvo), label = \"base model (age = 3000)\")\n",
    "\n",
    "\n",
    "# plt.plot([262.15, 262.15], [0,1], \"r--\", label=\"peak\")\n",
    "\n",
    "\n",
    "# plt.plot(long[order]/2/np.pi*360 +180, r_m4_nv[order]/np.max(r_m4_nv), label = \"1e-4 g min mass\")\n",
    "plt.plot(cmor[:,0], cmor[:,1]/mean, label = 'cmor')\n",
    "plt.xlim(255,265)\n",
    "\n",
    "\n",
    "# lns = l1+l2\n",
    "# labs = [l.get_label() for l in lns]\n",
    "# ax.legend(lns, labs, loc=0)\n",
    "\n",
    "# x = mdates.datestr2num(\"Dec 14, 2018, 11:30 AM\")\n",
    "\n",
    "\n",
    "# plt.plot([x,x], [0, 3e-4], \"r--\")\n",
    "# plt.gca().xaxis.set_major_formatter(mdates.DateFormatter('%m/%d/%y %H:%M'))\n",
    "# plt.gcf().autofmt_xdate()\n",
    "plt.legend()\n",
    "plt.savefig(\"Figures/Earth-2.png\")\n",
    "plt.show()\n",
    "print(long[np.argmax(r_m4_nv)]/2/np.pi*360 + 180)"
   ]
  },
  {
   "cell_type": "code",
   "execution_count": null,
   "metadata": {},
   "outputs": [],
   "source": [
    "a = 800\n",
    "m = 10\n",
    "n=a*m\n",
    "\n",
    "nm = 200\n",
    "pos_arr = np.zeros((n,3))\n",
    "\n",
    "n_part_m4_v = np.zeros(n)\n",
    "r_m4_v = np.zeros(n)\n",
    "\n",
    "n_part_m7_v = np.zeros((n,nm))\n",
    "r_m7_v = np.zeros(n)\n",
    "\n",
    "n_part_m4_nv = np.zeros(n)\n",
    "r_m4_nv = np.zeros(n)\n",
    "\n",
    "n_part_m7_nv = np.zeros((n,nm))\n",
    "r_m7_nv = np.zeros(n)\n",
    "\n",
    "n_part_m4_d = np.zeros(n)\n",
    "r_m4_d = np.zeros(n)\n",
    "\n",
    "n_part_m7_d = np.zeros((n,nm))\n",
    "r_m7_d = np.zeros(n)\n",
    "\n",
    "\n",
    "\n",
    "\n",
    "\n",
    "\n",
    "\n",
    "n_part_distr = np.zeros(n)\n",
    "r_distr = np.zeros(n)\n",
    "\n",
    "r = RADIUS_EARTH/au\n",
    "\n",
    "t = t_act[np.linspace(0,19999, n, dtype=int)]\n",
    "long = np.zeros(t.shape[0])\n",
    "pts1 = points1[points1[:,3] > 1e-7]\n",
    "pts2 = points2[points2[:,3] > 1e-7]\n",
    "pts3 = points3[points3[:,3] > 1e-7]\n",
    "vals = np.linspace(-7,-4,nm)\n",
    "\n",
    "\n",
    "for i,j in enumerate(tqdm(np.linspace(0,19999, n, dtype=int))):\n",
    "    [pos, lt] = spice.spkezr(\"EARTH\", t_act[j], \"J2000\", \"NONE\", \"SUN\")\n",
    "\n",
    "    \n",
    "    pos = spice.convrt(pos, \"KM\", \"AU\")\n",
    "    pos_arr[i] = pos[:3]\n",
    "\n",
    "\n",
    "#     n_part_m4_v[i] = len(particles_m4_v.query_ball_point(pos[:3], r))\n",
    "\n",
    "    idxes1 = particles_m7_nv.query_ball_point(pos[:3], r)\n",
    "    if idxes1: n_part_m7_nv[i] = [np.sum(pts1[idxes1][:,3] > 10**k) for k in vals]\n",
    "\n",
    "    idxes2 = particles_m7_v.query_ball_point(pos[:3], r)\n",
    "    if idxes2: n_part_m7_v[i] = [np.sum(pts2[idxes2][:,3] > 10**k) for k in vals]\n",
    "\n",
    "    idxes3 = particles_m7_d.query_ball_point(pos[:3], r)\n",
    "    if idxes3: n_part_m7_d[i] = [np.sum(pts3[idxes3][:,3] > 10**k) for k in vals]        \n",
    "\n",
    "# #     n_part_distr[i] = len(particles3.query_ball_point(pos[:3], r))\n",
    "\n",
    "# #     n_part_m4_nv[i] = len(particles_m4_nv.query_ball_point(pos[:3], r))\n",
    "#     n_part_m7_nv[i] = particles_m7_nv.query_ball_point(pos[:3], r)\n",
    "    \n",
    "# #     n_part_m4_d[i] = len(particles_m4_d.query_ball_point(pos[:3], r))\n",
    "#     n_part_m7_d[i] = particles_m7_d.query_ball_point(pos[:3], r)\n",
    "    \n",
    "# #     n_part_a_nv[i] = len(particles_a_nv.query_ball_point(pos[:3], r))\n",
    "\n",
    "    pos = spice.convrt(pos, \"AU\", \"M\")\n",
    "\n",
    "\n",
    "    V = 4/3 * np.pi * ((r*au)**3)\n",
    "    \n",
    "    \n",
    "    \n",
    "\n",
    "#     r_m4_v[i] = n_part_m4_v[i]/V *35e3\n",
    "#     r_m7_v[i] = n_part_m7_v[i]/V *35e3\n",
    "\n",
    "\n",
    "# # #                     #n/a     #m^-3 #na.         #m^2                                 #m/s\n",
    "# #     r_distr[i] = n_part_distr[i]/V * norm3 * (np.pi*RADIUS_EARTH**2/au**2) * np.sqrt(np.sum((pos[3:]-earth)**2))\n",
    "#     r_m4_nv[i] = n_part_m4_nv[i]/V *35e3\n",
    "\n",
    "#     r_m7_nv[i] = n_part_m7_nv[i]/V *35e3\n",
    "    \n",
    "#     r_m4_d[i] = n_part_m4_d[i]/V *35e3\n",
    "#     r_m7_d[i] = n_part_m7_d[i]/V *35e3\n",
    "    \n",
    "#     r_a_nv[i] = n_part_a_nv[i]/V * norm * (np.pi*RADIUS_EARTH**2) * np.sqrt(np.sum((pos[3:]-earth)**2))\n",
    "\n",
    "\n",
    "    [pos_eclip, lt] = spice.spkezr(\"EARTH\", t_act[j], \"ECLIPJ2000\", \"NONE\", \"SUN\")\n",
    "    rad, long[i], lat = spice.reclat(pos_eclip[:3])\n",
    "    \n",
    "    \n",
    "    "
   ]
  },
  {
   "cell_type": "code",
   "execution_count": null,
   "metadata": {},
   "outputs": [],
   "source": [
    "maxes_v = np.zeros(vals.size)\n",
    "maxes_nv = np.zeros(vals.size)\n",
    "maxes_d = np.zeros(vals.size)\n",
    "\n",
    "\n",
    "for i in tqdm(range(vals.size)):\n",
    "#     x2 = np.array([t2[i*100] for i in range(800)])\n",
    "#     x2 = mdates.datestr2num(spice.et2utc(t, \"C\", 3))\n",
    "\n",
    "#     order = np.argsort(long)\n",
    "#     plt.plot(long[order]/2/np.pi*360 + 180, n_part_m7_v[:,i][order]/np.max(n_part_m7_v[:,i]), label = f\"{i}\")\n",
    "#     plt.legend()\n",
    "#     plt.xlim(255,265)\n",
    "\n",
    "    maxes_v[i] = long[np.argmax(n_part_m7_v[:,i])]/2/np.pi*360 + 180\n",
    "    maxes_nv[i] = long[np.argmax(n_part_m7_nv[:,i])]/2/np.pi*360 + 180\n",
    "    maxes_d[i] = long[np.argmax(n_part_m7_d[:,i])]/2/np.pi*360 + 180\n",
    "\n",
    "\n",
    "plt.plot(vals, maxes_nv, label = \"Base Model\")\n",
    "plt.plot(vals, maxes_v, label = \"Violent Creation\")\n",
    "plt.plot(vals, maxes_d, label = \"Distributed Creation\")\n",
    "plt.xlabel(\"$\\log_{10}$ (Limiting Mass (g))\")\n",
    "plt.ylabel(\"Solar Longitude ($^\\circ$)\")\n",
    "plt.legend()\n",
    "plt.savefig(\"Figures/lim_mass_peak_time.png\")\n",
    "\n",
    "\n"
   ]
  },
  {
   "cell_type": "code",
   "execution_count": null,
   "metadata": {},
   "outputs": [],
   "source": [
    "vals"
   ]
  },
  {
   "cell_type": "code",
   "execution_count": null,
   "metadata": {},
   "outputs": [],
   "source": [
    "10**vals"
   ]
  },
  {
   "cell_type": "code",
   "execution_count": null,
   "metadata": {},
   "outputs": [],
   "source": [
    "points_m7.shape"
   ]
  },
  {
   "cell_type": "code",
   "execution_count": null,
   "metadata": {},
   "outputs": [],
   "source": [
    "n_part_m7_v"
   ]
  },
  {
   "cell_type": "code",
   "execution_count": null,
   "metadata": {},
   "outputs": [],
   "source": [
    "points2.shape()"
   ]
  },
  {
   "cell_type": "code",
   "execution_count": null,
   "metadata": {},
   "outputs": [],
   "source": [
    "n_part_m7_v[n_part_m7_v[:,0]>0]"
   ]
  },
  {
   "cell_type": "code",
   "execution_count": null,
   "metadata": {},
   "outputs": [],
   "source": [
    "plt.hexbin(points1o[:,0], points1o[:,1])\n",
    "points1o.shape"
   ]
  },
  {
   "cell_type": "code",
   "execution_count": null,
   "metadata": {},
   "outputs": [],
   "source": [
    "plt.hexbin(points3[:,0], points3[:,1])\n",
    "points1.shape"
   ]
  },
  {
   "cell_type": "code",
   "execution_count": null,
   "metadata": {},
   "outputs": [],
   "source": []
  }
 ],
 "metadata": {
  "kernelspec": {
   "display_name": "Python 3",
   "language": "python",
   "name": "python3"
  },
  "language_info": {
   "codemirror_mode": {
    "name": "ipython",
    "version": 3
   },
   "file_extension": ".py",
   "mimetype": "text/x-python",
   "name": "python",
   "nbconvert_exporter": "python",
   "pygments_lexer": "ipython3",
   "version": "3.8.3"
  }
 },
 "nbformat": 4,
 "nbformat_minor": 4
}
