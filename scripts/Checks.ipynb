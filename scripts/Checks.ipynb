{
 "cells": [
  {
   "cell_type": "code",
   "execution_count": 1,
   "source": [
    "import numpy as np\n",
    "import pandas as pd\n",
    "from matplotlib import pyplot as plt\n",
    "from scipy.integrate import odeint\n",
    "from scipy.interpolate import interp1d\n",
    "from tqdm import tqdm\n",
    "import scipy\n",
    "import spiceypy as spice\n",
    "import rebound\n",
    "import reboundx\n",
    "import matplotlib\n",
    "import pandas as pd\n",
    "import matplotlib.dates as mdates\n",
    "import matplotlib.cbook as cbook\n",
    "\n",
    "plt.rc_context({'figure.facecolor':'white'})\n",
    "\n",
    "import sys\n",
    "sys.path.append('..')\n",
    "from geminids.constants import *\n",
    "from geminids.weights import *\n",
    "from geminids.cometary_start import init_loc    \n"
   ],
   "outputs": [],
   "metadata": {}
  },
  {
   "cell_type": "code",
   "execution_count": null,
   "source": [],
   "outputs": [],
   "metadata": {}
  },
  {
   "cell_type": "code",
   "execution_count": 2,
   "source": [
    "orbit = np.load('data/phaethon.npy')\n",
    "psp2 = np.load('data/psp.npy')\n",
    "t_act = np.load('data/t-3200.npy')\n",
    "earth = spice.convrt(np.load('data/earth.npy'), \"AU\", \"M\")"
   ],
   "outputs": [],
   "metadata": {}
  },
  {
   "cell_type": "code",
   "execution_count": 3,
   "source": [
    "spice.furnsh(\"data/meta.tm\")"
   ],
   "outputs": [],
   "metadata": {}
  },
  {
   "cell_type": "code",
   "execution_count": 4,
   "source": [
    "points1 = []\n",
    "n = 100\n",
    "mass = 0\n",
    "\n",
    "for i in tqdm(range(n)):\n",
    "    data = np.load(f'../output/novel/particles{i}.npy')\n",
    "    beta = np.load(f'../output/novel/beta{i}.npy')\n",
    "    size = np.load(f'../output/novel/mass{i}.npy')\n",
    "    size = np.array(asteroidal(beta))\n",
    "    mass += np.sum(size[(~np.isnan(size * weight_novel(beta)))] * \n",
    "                   weight_novel(beta[(~np.isnan(size * weight_novel(beta)))]))\n",
    "    \n",
    "    data = data.reshape(1000*100*2, 5)\n",
    "    data = data[:,:3]\n",
    "    \n",
    "    \n",
    "    \n",
    "    points1.append(np.hstack((data, np.tile(size,2000).reshape(200000,1), \n",
    "                              np.tile(weight_novel(beta),2000).reshape(200000,1))))\n",
    "\n",
    "mass = mass * 20000    \n",
    "points1 = np.array(points1)\n",
    "points1 = points1.reshape(200000*n,5)\n",
    "points1 = points1[~np.isnan(points1).any(axis=1)]\n",
    "norm1 = 1e14/mass\n"
   ],
   "outputs": [
    {
     "output_type": "stream",
     "name": "stderr",
     "text": [
      "100%|██████████| 100/100 [01:48<00:00,  1.08s/it]\n"
     ]
    }
   ],
   "metadata": {
    "scrolled": true
   }
  },
  {
   "cell_type": "code",
   "execution_count": 5,
   "source": [
    "# CUTOFF = 1.8e-4\n",
    "CUTOFF = 1e-5 \n",
    "# points2[:,3][~np.isnan(points2[:,3])].max()"
   ],
   "outputs": [],
   "metadata": {}
  },
  {
   "cell_type": "code",
   "execution_count": 6,
   "source": [
    "d = np.sqrt(points1[:,0]**2 + points1[:,1]**2 + points1[:,2]**2)\n",
    "\n",
    "points1 = points1[np.logical_not(np.logical_or(d > 1.1, d < 0.9))]\n",
    "\n",
    "points_m4 = points1[:,:][points1[:,3] > CUTOFF]\n",
    "points_m7 = points1[:,:][points1[:,3] > 1e-7]\n",
    "\n",
    "particles_m4_nv = scipy.spatial.KDTree(points_m4[~np.isnan(points_m4).any(axis=1)][:,:3])\n",
    "particles_m7_nv = scipy.spatial.KDTree(points_m7[~np.isnan(points_m7).any(axis=1)][:,:3])"
   ],
   "outputs": [],
   "metadata": {}
  },
  {
   "cell_type": "code",
   "execution_count": 7,
   "source": [
    "# points1c = []\n",
    "# n = 100\n",
    "# massc = 0\n",
    "\n",
    "# for i in tqdm(range(n)):\n",
    "#     data = np.load(f'../output/comet/particles{i}.npy')\n",
    "#     beta = np.load(f'../output/comet/beta{i}.npy')\n",
    "#     size = np.load(f'../output/comet/mass{i}.npy')\n",
    "#     size = np.array(aster(beta))\n",
    "#     massc += np.sum(size[(~np.isnan(size * weight_novelc(beta)))] * \n",
    "#                     weight_novelc(beta[(~np.isnan(size * weight_novelc(beta)))]))\n",
    "    \n",
    "#     data = data.reshape(10000*100*2, 5)\n",
    "#     data = data[:,:3]\n",
    "    \n",
    "# #     data[:,2] -= offset(data[:,1])\n",
    "    \n",
    "    \n",
    "#     points1c.append(np.hstack((data, np.tile(size,20000).reshape(2000000,1), \n",
    "#                                np.tile(weight_novelc(beta),20000).reshape(2000000,1))))\n",
    "\n",
    "# massc = massc * 20000    \n",
    "# points1c = np.array(points1c)\n",
    "# points1c = points1c.reshape(2000000*n,5)\n",
    "# points1c = points1c[~np.isnan(points1c).any(axis=1)]\n",
    "# norm1c = 1e14/mass\n",
    "# # norm = 2.5e27/20000000"
   ],
   "outputs": [],
   "metadata": {}
  },
  {
   "cell_type": "code",
   "execution_count": 8,
   "source": [
    "# d = np.sqrt(points1c[:,0]**2 + points1c[:,1]**2 + points1c[:,2]**2)\n",
    "\n",
    "# points1c = points1c[np.logical_not(np.logical_or(d > 1.1, d < 0.9))]\n",
    "\n",
    "# points_m4c = points1c[:,:][points1c[:,3] > CUTOFF]\n",
    "# points_m7c = points1c[:,:][points1c[:,3] > 1e-7]\n",
    "\n",
    "# particles_m4_nvc = scipy.spatial.KDTree(points_m4c[~np.isnan(points_m4c).any(axis=1)][:,:3])\n",
    "# particles_m7_nvc = scipy.spatial.KDTree(points_m7c[~np.isnan(points_m7c).any(axis=1)][:,:3])"
   ],
   "outputs": [],
   "metadata": {}
  },
  {
   "cell_type": "code",
   "execution_count": 9,
   "source": [
    "# points1o = []\n",
    "# n = 1\n",
    "# masso = 0\n",
    "# offset = 0\n",
    "# for i in tqdm(range(n)):\n",
    "#     try :\n",
    "#         data = np.load(f'../output/novel_old/particles{i}.npy')\n",
    "#         beta = np.load(f'../output/novel_old/beta{i}.npy')\n",
    "#         size = np.load(f'../output/novel_old/mass{i}.npy')\n",
    "#         masso += np.sum(size[(~np.isnan(size * weight_novel(beta)))] * \n",
    "#                         weight_novel(beta[(~np.isnan(size * weight_novel(beta)))]))\n",
    "\n",
    "#         data = data.reshape(10000*100*2, 5)\n",
    "#         data = data[:,:3]\n",
    "\n",
    " \n",
    "\n",
    "#         points1o.append(np.hstack((data, np.tile(size,20000).reshape(2000000,1), \n",
    "#                                    np.tile(weight_novel(beta),20000).reshape(2000000,1))))\n",
    "#     except Exception as e: \n",
    "#         print(e)\n",
    "#         offset += 1\n",
    "        \n",
    "# masso = masso * 20000    \n",
    "# points1o = np.array(points1o)\n",
    "# points1o = points1o.reshape(2000000*(n-offset),5)\n",
    "# points1o = points1o[~np.isnan(points1o).any(axis=1)]\n",
    "# norm1o = 1e14/masso\n"
   ],
   "outputs": [],
   "metadata": {}
  },
  {
   "cell_type": "code",
   "execution_count": 10,
   "source": [
    "# d = np.sqrt(points1o[:,0]**2 + points1o[:,1]**2 + points1o[:,2]**2)\n",
    "\n",
    "# points1o = points1o[np.logical_not(np.logical_or(d > 1.1, d < 0.9))]\n",
    "\n",
    "# points_m4o = points1o[:,:][points1o[:,3] > CUTOFF]\n",
    "# points_m7o = points1o[:,:][points1o[:,3] > 1e-7]\n",
    "\n",
    "# particles_m4_nvo = scipy.spatial.KDTree(points_m4o[~np.isnan(points_m4o).any(axis=1)][:,:3])\n",
    "# particles_m7_nvo = scipy.spatial.KDTree(points_m7o[~np.isnan(points_m7o).any(axis=1)][:,:3])"
   ],
   "outputs": [],
   "metadata": {}
  },
  {
   "cell_type": "code",
   "execution_count": 11,
   "source": [
    "points2 = []\n",
    "n=100\n",
    "mass_v = 0\n",
    "for i in tqdm(range(n)):\n",
    "    data = np.load(f'../output/vel/particles{i}.npy')\n",
    "    beta = np.load(f'../output/vel/beta{i}.npy')\n",
    "    size = np.load(f'../output/vel/mass{i}.npy')\n",
    "    size = asteroidal(beta)\n",
    "    \n",
    "    data = data.reshape(1000*100*2, 5)\n",
    "    data = data[:,:3]\n",
    "    mass_v += np.sum(size[(~np.isnan(size * weight_vel(beta)))] * weight_vel(beta[(~np.isnan(size * weight_vel(beta)))]))\n",
    "\n",
    "    \n",
    "    points2.append(np.hstack((data, np.tile(size,2000).reshape(200000,1), np.tile(weight_vel(beta),2000).reshape(200000,1))))\n",
    "    \n",
    "mass_v *= 2000\n",
    "points2 = np.array(points2)\n",
    "points2 = points2.reshape(200000*n,5)\n",
    "\n",
    "\n"
   ],
   "outputs": [
    {
     "output_type": "stream",
     "name": "stderr",
     "text": [
      "100%|██████████| 100/100 [1:39:08<00:00, 59.48s/it]\n"
     ]
    }
   ],
   "metadata": {}
  },
  {
   "cell_type": "code",
   "execution_count": 12,
   "source": [
    "d = np.sqrt(points2[:,0]**2 + points2[:,1]**2 + points2[:,2]**2)\n",
    "\n",
    "\n",
    "points2 = points2[np.logical_not(np.logical_or(d > 1.1, d < 0.9))]\n",
    "\n",
    "points_m4v = points2[points2[:,3] > CUTOFF]\n",
    "points_m7v = points2[points2[:,3] > 1e-7]\n",
    "\n",
    "particles_m4_v = scipy.spatial.KDTree(points_m4v[:,:3])\n",
    "particles_m7_v = scipy.spatial.KDTree(points_m7v[:,:3])"
   ],
   "outputs": [
    {
     "output_type": "stream",
     "name": "stderr",
     "text": [
      "<ipython-input-12-4e81eac076a1>:4: RuntimeWarning: invalid value encountered in greater\n",
      "  points2 = points2[np.logical_not(np.logical_or(d > 1.1, d < 0.9))]\n",
      "<ipython-input-12-4e81eac076a1>:4: RuntimeWarning: invalid value encountered in less\n",
      "  points2 = points2[np.logical_not(np.logical_or(d > 1.1, d < 0.9))]\n"
     ]
    }
   ],
   "metadata": {}
  },
  {
   "cell_type": "code",
   "execution_count": 13,
   "source": [
    "points3 = []\n",
    "pth = \"../output/\"\n",
    "orbit = np.load(\"../data/orig_orbit.npy\")\n",
    "\n",
    "for i in tqdm(range(n*10)):\n",
    "        # try:\n",
    "            data = np.load(f'{pth}comet/particles{i}.npy')\n",
    "            beta = np.load(f'{pth}comet/beta{i}.npy')\n",
    "            size = np.load(f'{pth}comet/mass{i}.npy')\n",
    "            mask = beta < .5\n",
    "            size[mask] = asteroidal(beta[mask])\n",
    "            size[~mask] = 0\n",
    "            data = data.reshape(10000*10*2, 5)\n",
    "            # try:\n",
    "                \n",
    "            __, r, t = init_loc(int(i/10), orbit)\n",
    "            t = np.tile(t, 100)\n",
    "            r = np.tile(r, 100)\n",
    "            # except Exception as e:\n",
    "                # print(e)\n",
    "            # data[data[:,4] < .2] *= 0\n",
    "            data = data[:,:3]\n",
    "            # beta = np.tile(beta, 20000).reshape(200000,)\n",
    "            # print(beta.shape)\n",
    "            \n",
    "            # w = weight_cometary(beta, r, t)\n",
    "            # print(w.shape)\n",
    "            # print(r)\n",
    "\n",
    "            points3.append(np.hstack((data, np.tile(size,2000).reshape(200000,1), \n",
    "                                   np.tile(weight_cometary(beta, r, t),2000).reshape(200000,1),\n",
    "                                   np.tile(r,2000).reshape(200000,1))))\n",
    "        # except Exception as e: \n",
    "        #     print(e)\n",
    "        #     offset +=1\n",
    "\n",
    "points3 = np.array(points3)\n",
    "points3 = points3.reshape(200000*(n*10),6)\n",
    "mass_d = np.sum(points3[:,3])"
   ],
   "outputs": [
    {
     "output_type": "stream",
     "name": "stderr",
     "text": [
      " 11%|█         | 108/1000 [00:53<07:21,  2.02it/s]../geminids/weights.py:40: RuntimeWarning: invalid value encountered in greater\n",
      "  arr[mask][asteroidal(b[mask]) > 10] = 0\n",
      "../geminids/weights.py:41: RuntimeWarning: invalid value encountered in less\n",
      "  arr[mask][asteroidal(b[mask]) < 1e-16] = 0\n",
      "100%|██████████| 1000/1000 [09:18<00:00,  1.79it/s]\n"
     ]
    }
   ],
   "metadata": {}
  },
  {
   "cell_type": "code",
   "execution_count": 14,
   "source": [
    "# points3 = []\n",
    "# n=600\n",
    "# a = np.array(range(n))\n",
    "# # a = np.delete(a, (431, 578))\n",
    "# # n -= 2\n",
    "# offset = 0\n",
    "# for i in tqdm(range(n)):\n",
    "#         try:\n",
    "#             data = np.load(f'../output/distr/particles{i}.npy')\n",
    "#             beta = np.load(f'../output/distr/beta{i}.npy')\n",
    "#             size = np.load(f'../output/distr/mass{i}.npy')\n",
    "\n",
    "#             data = data.reshape(10000*10*2, 5)\n",
    "#             data[data[:,4] < .2] *= 0\n",
    "#             data = data[:,:3]\n",
    "\n",
    "#         #     data[:,2] -= offset(data[:,1])\n",
    "\n",
    "\n",
    "#             points3.append(np.hstack((data, np.tile(size,20000).reshape(200000,1), np.tile(beta,20000).reshape(200000,1))))\n",
    "#         except: offset +=1\n",
    "        \n",
    "# points3 = np.array(points3)\n",
    "# points3 = points3.reshape(200000*(n - offset),5)\n",
    "# points3 = points3[~np.isnan(points3).any(axis=1)]\n",
    "\n",
    "# mass_d = np.sum(points3[:,3])\n",
    "\n"
   ],
   "outputs": [],
   "metadata": {}
  },
  {
   "cell_type": "code",
   "execution_count": 15,
   "source": [
    "# np.min(points3[:,3])"
   ],
   "outputs": [],
   "metadata": {}
  },
  {
   "cell_type": "code",
   "execution_count": 16,
   "source": [
    "points3 = points3[~np.isnan(points3).any(axis=1)]\n",
    "\n",
    "d = np.sqrt(points3[:,0]**2 + points3[:,1]**2 + points3[:,2]**2)\n",
    "\n",
    "\n",
    "points3 = points3[np.logical_not(np.logical_or(d > 1.1, d < 0.9))]\n",
    "\n",
    "points_m4d = points3[points3[:,3] > CUTOFF]\n",
    "points_m7d = points3[points3[:,3] > 1e-7]\n",
    "\n",
    "particles_m4_d = scipy.spatial.KDTree(points_m4d[:,:3])\n",
    "particles_m7_d = scipy.spatial.KDTree(points_m7d[:,:3])"
   ],
   "outputs": [],
   "metadata": {}
  },
  {
   "cell_type": "code",
   "execution_count": 17,
   "source": [
    "RADIUS_EARTH = 384.4e6 #m\n",
    "a = 800\n",
    "m = 10\n",
    "n=a*m\n",
    "pos_arr = np.zeros((n,3))\n",
    "\n",
    "n_part_m4_v = np.zeros(n)\n",
    "r_m4_v = np.zeros(n)\n",
    "\n",
    "n_part_m7_v = np.zeros(n)\n",
    "r_m7_v = np.zeros(n)\n",
    "\n",
    "n_part_m4_nv = np.zeros(n)\n",
    "r_m4_nv = np.zeros(n)\n",
    "\n",
    "n_part_m7_nv = np.zeros(n)\n",
    "r_m7_nv = np.zeros(n)\n",
    "\n",
    "n_part_m4_d = np.zeros(n)\n",
    "r_m4_d = np.zeros(n)\n",
    "\n",
    "n_part_m7_d = np.zeros(n)\n",
    "r_m7_d = np.zeros(n)\n",
    "\n",
    "# n_part_m4_nvc = np.zeros(n)\n",
    "# r_m4_nvc = np.zeros(n)\n",
    "\n",
    "# n_part_m7_nvc = np.zeros(n)\n",
    "# r_m7_nvc = np.zeros(n)\n",
    "\n",
    "# n_part_m4_nvo = np.zeros(n)\n",
    "# r_m4_nvo = np.zeros(n)\n",
    "\n",
    "# n_part_m7_nvo = np.zeros(n)\n",
    "# r_m7_nvo = np.zeros(n)\n",
    "\n",
    "\n",
    "\n",
    "\n",
    "n_part_distr = np.zeros(n)\n",
    "r_distr = np.zeros(n)\n",
    "\n",
    "r = .05\n",
    "\n",
    "t = t_act[np.linspace(0,19999, n, dtype=int)]\n",
    "long = np.zeros(t.shape[0])\n",
    "\n",
    "for i,j in enumerate(tqdm(np.linspace(0,19999, n, dtype=int))):\n",
    "    [pos, lt] = spice.spkezr(\"EARTH\", t_act[j], \"ECLIPJ2000\", \"NONE\", \"SUN\")\n",
    "\n",
    "    \n",
    "    pos = spice.convrt(pos, \"KM\", \"AU\")\n",
    "    pos_arr[i] = pos[:3]\n",
    "\n",
    "\n",
    "#     n_part_m4_v[i] = len(particles_m4_v.query_ball_point(pos[:3], r))\n",
    "#     n_part_m7_v[i] = len(particles_m7_v.query_ball_point(pos[:3], r))\n",
    "\n",
    "#     idxes1 = particles_m7_nv.query_ball_point(pos[:3], r)\n",
    "#     if idxes1: n_part_m7_nv[i] = np.sum(pts1[idxes1][:,3] > 1e-5)\n",
    "        \n",
    "        \n",
    "#     n_part_distr[i] = len(particles3.query_ball_point(pos[:3], r))\n",
    "\n",
    "    n_part_m4_nv[i] = np.sum(points_m4[particles_m4_nv.query_ball_point(pos[:3], r), 4])\n",
    "    n_part_m7_nv[i] = np.sum(points_m7[particles_m7_nv.query_ball_point(pos[:3], r),4])\n",
    "\n",
    "    n_part_m4_v[i] = np.sum(points_m4v[particles_m4_v.query_ball_point(pos[:3], r), 4])\n",
    "    n_part_m7_v[i] = np.sum(points_m7v[particles_m7_v.query_ball_point(pos[:3], r),4])\n",
    "    \n",
    "    n_part_m4_d[i] = np.sum(points_m4d[particles_m4_d.query_ball_point(pos[:3], r), 4])\n",
    "    n_part_m7_d[i] = np.sum(points_m7d[particles_m7_d.query_ball_point(pos[:3], r),4])\n",
    "    \n",
    "    # n_part_m4_nvc[i] = np.sum(points_m4c[particles_m4_nvc.query_ball_point(pos[:3], r), 4])\n",
    "    # n_part_m7_nvc[i] = np.sum(points_m7c[particles_m7_nvc.query_ball_point(pos[:3], r),4])\n",
    "    \n",
    "    # n_part_m4_nvo[i] = np.sum(points_m4o[particles_m4_nvo.query_ball_point(pos[:3], r), 4])\n",
    "    # n_part_m7_nvo[i] = np.sum(points_m7o[particles_m7_nvo.query_ball_point(pos[:3], r),4])\n",
    "#     n_part_m4_nvc[i] = len(particles_m4_nvc.query_ball_point(pos[:3], r))\n",
    "#     n_part_m7_nvc[i] = len(particles_m7_nvc.query_ball_point(pos[:3], r))\n",
    "\n",
    "#     n_part_m4_nvo[i] = len(particles_m4_nvo.query_ball_point(pos[:3], r))\n",
    "#     n_part_m7_nvo[i] = len(particles_m7_nvo.query_ball_point(pos[:3], r))\n",
    "    \n",
    "#     n_part_m4_d[i] = len(particles_m4_d.query_ball_point(pos[:3], r))\n",
    "#     n_part_m7_d[i] = len(particles_m7_d.query_ball_point(pos[:3], r))\n",
    "    \n",
    "#     n_part_a_nv[i] = len(particles_a_nv.query_ball_point(pos[:3], r))\n",
    "\n",
    "    pos = spice.convrt(pos, \"AU\", \"M\")\n",
    "\n",
    "\n",
    "    V = 4/3 * np.pi * ((r*au)**3)\n",
    "    \n",
    "    \n",
    "    \n",
    "\n",
    "    r_m4_v[i] = n_part_m4_v[i]/V *35e3\n",
    "    r_m7_v[i] = n_part_m7_v[i]/V *35e3\n",
    "\n",
    "    \n",
    "    # r_m4_nvc[i] = n_part_m4_nvc[i]/V *35e3\n",
    "    # r_m7_nvc[i] = n_part_m7_nvc[i]/V *35e3\n",
    "\n",
    "    \n",
    "    # r_m4_nvo[i] = n_part_m4_nvo[i]/V *35e3\n",
    "    # r_m7_nvo[i] = n_part_m7_nvo[i]/V *35e3\n",
    "\n",
    "# # #                     #n/a     #m^-3 #na.         #m^2                                 #m/s\n",
    "# #     r_distr[i] = n_part_distr[i]/V * norm3 * (np.pi*RADIUS_EARTH**2/au**2) * np.sqrt(np.sum((pos[3:]-earth)**2))\n",
    "    r_m4_nv[i] = n_part_m4_nv[i]/V *35e3\n",
    "\n",
    "    r_m7_nv[i] = n_part_m7_nv[i]/V *35e3\n",
    "    \n",
    "    r_m4_d[i] = n_part_m4_d[i]/V *35e3\n",
    "    r_m7_d[i] = n_part_m7_d[i]/V *35e3\n",
    "    \n",
    "#     r_a_nv[i] = n_part_a_nv[i]/V * norm * (np.pi*RADIUS_EARTH**2) * np.sqrt(np.sum((pos[3:]-earth)**2))\n",
    "\n",
    "\n",
    "    [pos_eclip, lt] = spice.spkezr(\"EARTH\", t_act[j], \"ECLIPJ2000\", \"NONE\", \"SUN\")\n",
    "    rad, long[i], lat = spice.reclat(pos_eclip[:3])\n",
    "    \n",
    "    \n",
    "    "
   ],
   "outputs": [
    {
     "output_type": "stream",
     "name": "stderr",
     "text": [
      "100%|██████████| 8000/8000 [00:45<00:00, 175.06it/s]\n"
     ]
    }
   ],
   "metadata": {}
  },
  {
   "cell_type": "code",
   "execution_count": 18,
   "source": [
    "mass_v * norm_v"
   ],
   "outputs": [
    {
     "output_type": "error",
     "ename": "NameError",
     "evalue": "name 'norm_v' is not defined",
     "traceback": [
      "\u001b[0;31m---------------------------------------------------------------------------\u001b[0m",
      "\u001b[0;31mNameError\u001b[0m                                 Traceback (most recent call last)",
      "\u001b[0;32m<ipython-input-18-45c45fe0064d>\u001b[0m in \u001b[0;36m<module>\u001b[0;34m\u001b[0m\n\u001b[0;32m----> 1\u001b[0;31m \u001b[0mmass_v\u001b[0m \u001b[0;34m*\u001b[0m \u001b[0mnorm_v\u001b[0m\u001b[0;34m\u001b[0m\u001b[0;34m\u001b[0m\u001b[0m\n\u001b[0m",
      "\u001b[0;31mNameError\u001b[0m: name 'norm_v' is not defined"
     ]
    }
   ],
   "metadata": {}
  },
  {
   "cell_type": "code",
   "execution_count": 19,
   "source": [
    "# PEAK_DENSITY = 6e-12 #m^-2 s^-1\n",
    "# PEAK_DENSITY = 2.3e-2 /35 / 1e3**3 /3600\n",
    "PEAK_FLUX = 128/60 * 2.3e-2 /1e3**2/3600\n",
    "PEAK_DENSITY = PEAK_FLUX\n",
    "norm_nv = PEAK_DENSITY/np.max(r_m4_nv)\n",
    "norm_v = PEAK_DENSITY/np.max(r_m4_v)\n",
    "norm_d = PEAK_DENSITY/np.max(r_m4_d)\n",
    "# norm_nvc = PEAK_DENSITY/np.max(r_m4_nvc)\n",
    "# norm_nvo = PEAK_DENSITY/np.max(r_m4_nvo)\n",
    "\n",
    "\n",
    "\n",
    "mass_normed_v = mass_v * norm_v\n",
    "mass_normed_nv = mass*norm_nv\n",
    "# mass_normed_nvc = massc*norm_nvc\n",
    "mass_normed_d = mass_d*norm_d\n",
    "# mass_normed_nvo = masso*norm_nvo\n",
    "\n",
    "\n",
    "print(\"{:.2e}\".format(mass_normed_nv))\n",
    "print(\"{:.2e}\".format(mass_normed_v))\n",
    "print(\"{:.2e}\".format(mass_normed_d))\n",
    "# print(\"{:.2e}\".format(mass_normed_nvc))\n",
    "# print(\"{:.2e}\".format(mass_normed_nvo))\n",
    "\n",
    "\n",
    "\n",
    "# masses = np.array([mass_normed_nv, mass_normed_v, mass_normed_d, mass_normed_nvc, mass_normed_nvo])\n",
    "# np.save(\"cache/masses.npy\", masses)"
   ],
   "outputs": [
    {
     "output_type": "stream",
     "name": "stdout",
     "text": [
      "1.02e+15\n",
      "2.88e+13\n",
      "6.96e+16\n"
     ]
    }
   ],
   "metadata": {}
  },
  {
   "cell_type": "code",
   "execution_count": 20,
   "source": [
    "order = np.argsort(long)\n",
    "print((long[order]/2/np.pi*360 + 180)[np.argmax(r_m4_nv[order])])\n",
    "print((long[order]/2/np.pi*360 + 180)[np.argmax(r_m4_v[order])])\n",
    "print((long[order]/2/np.pi*360 + 180)[np.argmax(r_m4_d[order])])\n",
    "# print((long[order]/2/np.pi*360 + 180)[np.argmax(r_m4_nvc[order])])\n",
    "# print((long[order]/2/np.pi*360 + 180)[np.argmax(r_m4_nvo[order])])\n",
    "\n",
    "\n",
    "\n"
   ],
   "outputs": [
    {
     "output_type": "stream",
     "name": "stdout",
     "text": [
      "262.24936899211883\n",
      "262.4351692383381\n",
      "262.07641806526084\n"
     ]
    }
   ],
   "metadata": {}
  },
  {
   "cell_type": "code",
   "execution_count": 21,
   "source": [
    "cmor = np.genfromtxt(\"data/cmor.txt\", delimiter = ',')\n",
    "# t2 = t_act\n",
    "\n",
    "fig = plt.figure()\n",
    "ax = fig.add_subplot(111)\n",
    "\n",
    "# x2 = np.array([t2[i*100] for i in range(800)])\n",
    "x2 = mdates.datestr2num(spice.et2utc(t, \"C\", 3))\n",
    "\n",
    "order = np.argsort(long)\n",
    "\n",
    "peak = np.argmax(cmor[:,1])\n",
    "d = 1\n",
    "mean = np.mean(cmor[peak-d:peak+d,1])\n",
    "\n",
    "plt.plot(long[order]/2/np.pi*360 + 180, r_m4_nv[order]/np.max(r_m4_nv), \n",
    "         label = \"Base Model\", c = 'b')\n",
    "plt.plot(long[order]/2/np.pi*360 + 180, r_m4_v[order]/np.max(r_m4_v), \n",
    "         label = \"Violent Creation\", c = 'orange', linestyle = \"dashed\")\n",
    "plt.plot(long[order]/2/np.pi*360 + 180, r_m4_d[order]/np.max(r_m4_d), \n",
    "         label = \"distributed creation\", c = 'g')\n",
    "# plt.plot(long[order]/2/np.pi*360 + 180, r_m4_nvc[order]/np.max(r_m4_nvc), \n",
    "#          label = \"Cometary Model\", c = 'purple', linestyle = \"dotted\")\n",
    "# plt.plot(long[order]/2/np.pi*360 + 180, r_m4_nvo[order]/np.max(r_m4_nvo), \n",
    "#          label = \"Old model\", c = 'r', linestyle = \"dashdot\")\n",
    "\n",
    "\n",
    "# plt.plot([262.15, 262.15], [0,1], \"r--\", label=\"peak\")\n",
    "\n",
    "\n",
    "# plt.plot(long[order]/2/np.pi*360 +180, r_m4_nv[order]/np.max(r_m4_nv), label = \"1e-4 g min mass\")\n",
    "plt.plot(cmor[:,0], cmor[:,1]/mean, label = 'CMOR (observed)', c = 'brown')\n",
    "plt.xlim(255,267)\n",
    "\n",
    "\n",
    "# lns = l1+l2\n",
    "# labs = [l.get_label() for l in lns]\n",
    "# ax.legend(lns, labs, loc=0)\n",
    "\n",
    "# x = mdates.datestr2num(\"Dec 14, 2018, 11:30 AM\")\n",
    "\n",
    "\n",
    "# plt.plot([x,x], [0, 3e-4], \"r--\")\n",
    "# plt.plot([262.2, 262.2], [0,1.1], c = \"m\")\n",
    "# plt.gca().xaxis.set_major_formatter(mdates.DateFormatter('%m/%d/%y %H:%M'))\n",
    "# plt.gcf().autofmt_xdate()\n",
    "plt.xlabel(\"Solar Longitude ($\\lambda$˚)\")\n",
    "plt.ylabel(\"Relative Flux\")\n",
    "plt.legend()\n",
    "plt.savefig(\"../Figures/Earth-m5r05.png\")\n",
    "plt.show()\n",
    "print(long[np.argmax(r_m4_nv)]/2/np.pi*360 + 180)\n",
    "print(long[np.argmax(r_m4_v)]/2/np.pi*360 + 180)\n",
    "print(long[np.argmax(r_m4_d)]/2/np.pi*360 + 180)"
   ],
   "outputs": [
    {
     "output_type": "display_data",
     "data": {
      "image/png": "[encoded data removed]",
      "text/plain": [
       "<Figure size 432x288 with 1 Axes>"
      ]
     },
     "metadata": {
      "needs_background": "light"
     }
    },
    {
     "output_type": "stream",
     "name": "stdout",
     "text": [
      "262.24936899211883\n",
      "262.4351692383381\n",
      "262.07641806526084\n"
     ]
    }
   ],
   "metadata": {}
  },
  {
   "cell_type": "code",
   "execution_count": 24,
   "source": [
    "cl_nv = np.inf\n",
    "cl_v = np.inf\n",
    "cl_d = np.inf\n",
    "# cl_nvc = np.inf\n",
    "\n",
    "for i,j in enumerate(tqdm(np.linspace(0,19999, n, dtype=int))):\n",
    "    [pos, lt] = spice.spkezr(\"EARTH\", t_act[j], \"ECLIPJ2000\", \"NONE\", \"SUN\")\n",
    "\n",
    "    \n",
    "    pos = spice.convrt(pos, \"KM\", \"AU\")\n",
    "    pos_arr[i] = pos[:3]\n",
    "    \n",
    "    d = particles_m4_nv.query(pos[:3])[0]\n",
    "    cl_nv = np.min([d, cl_nv])\n",
    "    \n",
    "    d = particles_m4_v.query(pos[:3])[0]\n",
    "    cl_v = np.min([d, cl_v])\n",
    "    \n",
    "    d = particles_m4_d.query(pos[:3])[0]\n",
    "    cl_d= np.min([d, cl_d])\n",
    "    \n",
    "    # d = particles_m4_nvc.query(pos[:3])[0]\n",
    "    # cl_nvc = np.min([d, cl_nvc])\n",
    "\n",
    "    \n",
    "print(cl_nv)\n",
    "print(cl_v)\n",
    "print(cl_d)\n",
    "# print(cl_nvc)"
   ],
   "outputs": [
    {
     "output_type": "stream",
     "name": "stderr",
     "text": [
      "100%|██████████| 8000/8000 [00:17<00:00, 449.08it/s]"
     ]
    },
    {
     "output_type": "stream",
     "name": "stdout",
     "text": [
      "0.0193451714566416\n",
      "0.0024494709190872837\n",
      "0.023768494195402574\n"
     ]
    },
    {
     "output_type": "stream",
     "name": "stderr",
     "text": [
      "\n"
     ]
    }
   ],
   "metadata": {}
  },
  {
   "cell_type": "code",
   "execution_count": null,
   "source": [
    "cmor = np.genfromtxt(\"21_wolf/geminids_zhr/cmor/cmor.txt\", delimiter = ',')\n",
    "\n",
    "fig = plt.figure()\n",
    "ax = fig.add_subplot(111)\n",
    "\n",
    "x2 = np.array([t2[i*100] for i in range(800)])\n",
    "x2 = mdates.datestr2num(spice.et2utc(t, \"C\", 3))\n",
    "\n",
    "order = np.argsort(long)\n",
    "\n",
    "peak = np.argmax(cmor[:,1])\n",
    "d = 1\n",
    "mean = np.mean(cmor[peak-d:peak+d,1])\n",
    "\n",
    "plt.plot(long[order]/2/np.pi*360 + 180, r_m4_nv[order]/np.max(r_m4_nv), label = \"base model\", c = 'b')\n",
    "# plt.plot(long[order]/2/np.pi*360 + 180, r_m4_v[order]/np.max(r_m4_v), label = \"violent creation\", c = 'orange')\n",
    "# plt.plot(long[order]/2/np.pi*360 + 180, r_m4_d[order]/np.max(r_m4_d), label = \"distributed creation\", c = 'g')\n",
    "plt.plot(long[order]/2/np.pi*360 + 180, r_m4_nvc[order]/np.max(r_m4_nvc), label = \"base model (comet)\", c = 'purple')\n",
    "plt.plot(long[order]/2/np.pi*360 + 180, r_m4_nvo[order]/np.max(r_m4_nvo), label = \"base model (age = 3000)\", c = 'r')\n",
    "\n",
    "\n",
    "# plt.plot([262.15, 262.15], [0,1], \"r--\", label=\"peak\")\n",
    "\n",
    "\n",
    "# plt.plot(long[order]/2/np.pi*360 +180, r_m4_nv[order]/np.max(r_m4_nv), label = \"1e-4 g min mass\")\n",
    "plt.plot(cmor[:,0], cmor[:,1]/mean, label = 'cmor', c = 'brown')\n",
    "plt.xlim(255,265)\n",
    "\n",
    "\n",
    "# lns = l1+l2\n",
    "# labs = [l.get_label() for l in lns]\n",
    "# ax.legend(lns, labs, loc=0)\n",
    "\n",
    "# x = mdates.datestr2num(\"Dec 14, 2018, 11:30 AM\")\n",
    "\n",
    "\n",
    "# plt.plot([x,x], [0, 3e-4], \"r--\")\n",
    "# plt.gca().xaxis.set_major_formatter(mdates.DateFormatter('%m/%d/%y %H:%M'))\n",
    "# plt.gcf().autofmt_xdate()\n",
    "plt.legend()\n",
    "plt.savefig(\"../Figures/Earth-2.png\")\n",
    "plt.show()\n",
    "print(long[np.argmax(r_m4_nv)]/2/np.pi*360 + 180)"
   ],
   "outputs": [],
   "metadata": {}
  },
  {
   "cell_type": "code",
   "execution_count": null,
   "source": [],
   "outputs": [],
   "metadata": {}
  },
  {
   "cell_type": "code",
   "execution_count": null,
   "source": [
    "cmor = np.genfromtxt(\"21_wolf/geminids_zhr/cmor/cmor.txt\", delimiter = ',')\n",
    "\n",
    "fig = plt.figure()\n",
    "ax = fig.add_subplot(111)\n",
    "\n",
    "x2 = np.array([t2[i*100] for i in range(800)])\n",
    "x2 = mdates.datestr2num(spice.et2utc(t, \"C\", 3))\n",
    "\n",
    "order = np.argsort(long)\n",
    "\n",
    "peak = np.argmax(cmor[:,1])\n",
    "d = 1\n",
    "mean = np.mean(cmor[peak-d:peak+d,1])\n",
    "\n",
    "plt.plot(long[order]/2/np.pi*360 + 180, r_m4_nv[order]/np.max(r_m4_nv), label = \"base model\")\n",
    "plt.plot(long[order]/2/np.pi*360 + 180, r_m4_v[order]/np.max(r_m4_v), label = \"violent creation\")\n",
    "# plt.plot(long[order]/2/np.pi*360 + 180, r_m4_d[order]/np.max(r_m4_d), label = \"distributed creation\")\n",
    "# plt.plot(long[order]/2/np.pi*360 + 180, r_m4_nvc[order]/np.max(r_m4_nvc), label = \"base model (comet)\")\n",
    "# plt.plot(long[order]/2/np.pi*360 + 180, r_m4_nvo[order]/np.max(r_m4_nvo), label = \"base model (age = 3000)\")\n",
    "\n",
    "\n",
    "# plt.plot([262.15, 262.15], [0,1], \"r--\", label=\"peak\")\n",
    "\n",
    "\n",
    "# plt.plot(long[order]/2/np.pi*360 +180, r_m4_nv[order]/np.max(r_m4_nv), label = \"1e-4 g min mass\")\n",
    "plt.plot(cmor[:,0], cmor[:,1]/mean, label = 'cmor')\n",
    "plt.xlim(255,265)\n",
    "\n",
    "\n",
    "# lns = l1+l2\n",
    "# labs = [l.get_label() for l in lns]\n",
    "# ax.legend(lns, labs, loc=0)\n",
    "\n",
    "# x = mdates.datestr2num(\"Dec 14, 2018, 11:30 AM\")\n",
    "\n",
    "\n",
    "# plt.plot([x,x], [0, 3e-4], \"r--\")\n",
    "# plt.gca().xaxis.set_major_formatter(mdates.DateFormatter('%m/%d/%y %H:%M'))\n",
    "# plt.gcf().autofmt_xdate()\n",
    "plt.legend()\n",
    "plt.savefig(\"Figures/Earth-2.png\")\n",
    "plt.show()\n",
    "print(long[np.argmax(r_m4_nv)]/2/np.pi*360 + 180)"
   ],
   "outputs": [],
   "metadata": {}
  },
  {
   "cell_type": "code",
   "execution_count": null,
   "source": [
    "a = 800\n",
    "m = 10\n",
    "n=a*m\n",
    "\n",
    "nm = 200\n",
    "pos_arr = np.zeros((n,3))\n",
    "\n",
    "n_part_m4_v = np.zeros(n)\n",
    "r_m4_v = np.zeros(n)\n",
    "\n",
    "n_part_m7_v = np.zeros((n,nm))\n",
    "r_m7_v = np.zeros(n)\n",
    "\n",
    "n_part_m4_nv = np.zeros(n)\n",
    "r_m4_nv = np.zeros(n)\n",
    "\n",
    "n_part_m7_nv = np.zeros((n,nm))\n",
    "r_m7_nv = np.zeros(n)\n",
    "\n",
    "n_part_m4_d = np.zeros(n)\n",
    "r_m4_d = np.zeros(n)\n",
    "\n",
    "n_part_m7_d = np.zeros((n,nm))\n",
    "r_m7_d = np.zeros(n)\n",
    "\n",
    "\n",
    "\n",
    "\n",
    "\n",
    "\n",
    "\n",
    "n_part_distr = np.zeros(n)\n",
    "r_distr = np.zeros(n)\n",
    "\n",
    "r = RADIUS_EARTH/au\n",
    "\n",
    "t = t_act[np.linspace(0,19999, n, dtype=int)]\n",
    "long = np.zeros(t.shape[0])\n",
    "pts1 = points1[points1[:,3] > 1e-7]\n",
    "pts2 = points2[points2[:,3] > 1e-7]\n",
    "pts3 = points3[points3[:,3] > 1e-7]\n",
    "vals = np.linspace(-7,-4,nm)\n",
    "\n",
    "\n",
    "for i,j in enumerate(tqdm(np.linspace(0,19999, n, dtype=int))):\n",
    "    [pos, lt] = spice.spkezr(\"EARTH\", t_act[j], \"J2000\", \"NONE\", \"SUN\")\n",
    "\n",
    "    \n",
    "    pos = spice.convrt(pos, \"KM\", \"AU\")\n",
    "    pos_arr[i] = pos[:3]\n",
    "\n",
    "\n",
    "#     n_part_m4_v[i] = len(particles_m4_v.query_ball_point(pos[:3], r))\n",
    "\n",
    "    idxes1 = particles_m7_nv.query_ball_point(pos[:3], r)\n",
    "    if idxes1: n_part_m7_nv[i] = [np.sum(pts1[idxes1][:,3] > 10**k) for k in vals]\n",
    "\n",
    "    idxes2 = particles_m7_v.query_ball_point(pos[:3], r)\n",
    "    if idxes2: n_part_m7_v[i] = [np.sum(pts2[idxes2][:,3] > 10**k) for k in vals]\n",
    "\n",
    "    idxes3 = particles_m7_d.query_ball_point(pos[:3], r)\n",
    "    if idxes3: n_part_m7_d[i] = [np.sum(pts3[idxes3][:,3] > 10**k) for k in vals]        \n",
    "\n",
    "# #     n_part_distr[i] = len(particles3.query_ball_point(pos[:3], r))\n",
    "\n",
    "# #     n_part_m4_nv[i] = len(particles_m4_nv.query_ball_point(pos[:3], r))\n",
    "#     n_part_m7_nv[i] = particles_m7_nv.query_ball_point(pos[:3], r)\n",
    "    \n",
    "# #     n_part_m4_d[i] = len(particles_m4_d.query_ball_point(pos[:3], r))\n",
    "#     n_part_m7_d[i] = particles_m7_d.query_ball_point(pos[:3], r)\n",
    "    \n",
    "# #     n_part_a_nv[i] = len(particles_a_nv.query_ball_point(pos[:3], r))\n",
    "\n",
    "    pos = spice.convrt(pos, \"AU\", \"M\")\n",
    "\n",
    "\n",
    "    V = 4/3 * np.pi * ((r*au)**3)\n",
    "    \n",
    "    \n",
    "    \n",
    "\n",
    "#     r_m4_v[i] = n_part_m4_v[i]/V *35e3\n",
    "#     r_m7_v[i] = n_part_m7_v[i]/V *35e3\n",
    "\n",
    "\n",
    "# # #                     #n/a     #m^-3 #na.         #m^2                                 #m/s\n",
    "# #     r_distr[i] = n_part_distr[i]/V * norm3 * (np.pi*RADIUS_EARTH**2/au**2) * np.sqrt(np.sum((pos[3:]-earth)**2))\n",
    "#     r_m4_nv[i] = n_part_m4_nv[i]/V *35e3\n",
    "\n",
    "#     r_m7_nv[i] = n_part_m7_nv[i]/V *35e3\n",
    "    \n",
    "#     r_m4_d[i] = n_part_m4_d[i]/V *35e3\n",
    "#     r_m7_d[i] = n_part_m7_d[i]/V *35e3\n",
    "    \n",
    "#     r_a_nv[i] = n_part_a_nv[i]/V * norm * (np.pi*RADIUS_EARTH**2) * np.sqrt(np.sum((pos[3:]-earth)**2))\n",
    "\n",
    "\n",
    "    [pos_eclip, lt] = spice.spkezr(\"EARTH\", t_act[j], \"ECLIPJ2000\", \"NONE\", \"SUN\")\n",
    "    rad, long[i], lat = spice.reclat(pos_eclip[:3])\n",
    "    \n",
    "    \n",
    "    "
   ],
   "outputs": [],
   "metadata": {}
  },
  {
   "cell_type": "code",
   "execution_count": null,
   "source": [
    "maxes_v = np.zeros(vals.size)\n",
    "maxes_nv = np.zeros(vals.size)\n",
    "maxes_d = np.zeros(vals.size)\n",
    "\n",
    "\n",
    "for i in tqdm(range(vals.size)):\n",
    "#     x2 = np.array([t2[i*100] for i in range(800)])\n",
    "#     x2 = mdates.datestr2num(spice.et2utc(t, \"C\", 3))\n",
    "\n",
    "#     order = np.argsort(long)\n",
    "#     plt.plot(long[order]/2/np.pi*360 + 180, n_part_m7_v[:,i][order]/np.max(n_part_m7_v[:,i]), label = f\"{i}\")\n",
    "#     plt.legend()\n",
    "#     plt.xlim(255,265)\n",
    "\n",
    "    maxes_v[i] = long[np.argmax(n_part_m7_v[:,i])]/2/np.pi*360 + 180\n",
    "    maxes_nv[i] = long[np.argmax(n_part_m7_nv[:,i])]/2/np.pi*360 + 180\n",
    "    maxes_d[i] = long[np.argmax(n_part_m7_d[:,i])]/2/np.pi*360 + 180\n",
    "\n",
    "\n",
    "plt.plot(vals, maxes_nv, label = \"Base Model\")\n",
    "plt.plot(vals, maxes_v, label = \"Violent Creation\")\n",
    "plt.plot(vals, maxes_d, label = \"Distributed Creation\")\n",
    "plt.xlabel(\"$\\log_{10}$ (Limiting Mass (g))\")\n",
    "plt.ylabel(\"Solar Longitude ($^\\circ$)\")\n",
    "plt.legend()\n",
    "plt.savefig(\"Figures/lim_mass_peak_time.png\")\n",
    "\n",
    "\n"
   ],
   "outputs": [],
   "metadata": {}
  },
  {
   "cell_type": "code",
   "execution_count": null,
   "source": [
    "vals"
   ],
   "outputs": [],
   "metadata": {}
  },
  {
   "cell_type": "code",
   "execution_count": null,
   "source": [
    "10**vals"
   ],
   "outputs": [],
   "metadata": {}
  },
  {
   "cell_type": "code",
   "execution_count": null,
   "source": [
    "points_m7.shape"
   ],
   "outputs": [],
   "metadata": {}
  },
  {
   "cell_type": "code",
   "execution_count": null,
   "source": [
    "n_part_m7_v"
   ],
   "outputs": [],
   "metadata": {}
  },
  {
   "cell_type": "code",
   "execution_count": null,
   "source": [
    "points2.shape()"
   ],
   "outputs": [],
   "metadata": {}
  },
  {
   "cell_type": "code",
   "execution_count": null,
   "source": [
    "n_part_m7_v[n_part_m7_v[:,0]>0]"
   ],
   "outputs": [],
   "metadata": {}
  },
  {
   "cell_type": "code",
   "execution_count": null,
   "source": [
    "plt.hexbin(points1o[:,0], points1o[:,1])\n",
    "points1o.shape"
   ],
   "outputs": [],
   "metadata": {}
  },
  {
   "cell_type": "code",
   "execution_count": null,
   "source": [
    "plt.hexbin(points3[:,0], points3[:,1])\n",
    "points1.shape"
   ],
   "outputs": [],
   "metadata": {}
  },
  {
   "cell_type": "code",
   "execution_count": null,
   "source": [],
   "outputs": [],
   "metadata": {}
  }
 ],
 "metadata": {
  "kernelspec": {
   "name": "python3",
   "display_name": "Python 3.8.3 64-bit ('base': conda)"
  },
  "language_info": {
   "codemirror_mode": {
    "name": "ipython",
    "version": 3
   },
   "file_extension": ".py",
   "mimetype": "text/x-python",
   "name": "python",
   "nbconvert_exporter": "python",
   "pygments_lexer": "ipython3",
   "version": "3.8.3"
  },
  "interpreter": {
   "hash": "f2bf16c920055a65bc6f4f6ae352b18f434d115ca8463b3c20448d68127a0e57"
  }
 },
 "nbformat": 4,
 "nbformat_minor": 4
}