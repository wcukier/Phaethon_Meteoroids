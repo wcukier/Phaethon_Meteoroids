{
 "cells": [
  {
   "cell_type": "code",
   "execution_count": 3,
   "metadata": {},
   "outputs": [
    {
     "name": "stderr",
     "output_type": "stream",
     "text": [
      "  0%|          | 2140/460000 [00:00<00:21, 21395.53it/s]"
     ]
    },
    {
     "name": "stdout",
     "output_type": "stream",
     "text": [
      "Added Jupiter...\n",
      "Added Earth...\n",
      "Added Mars...\n",
      "Added Venus...\n",
      "Added Mercury...\n",
      "adding particles...\n",
      "time arrays...\n",
      "simulating...\n"
     ]
    },
    {
     "name": "stderr",
     "output_type": "stream",
     "text": [
      "100%|██████████| 460000/460000 [00:19<00:00, 23409.55it/s]\n",
      "100%|██████████| 17520/17520 [00:03<00:00, 4993.13it/s]\n"
     ]
    }
   ],
   "source": [
    "\n",
    "import numpy as np\n",
    "import pandas as pd\n",
    "import rebound\n",
    "import spiceypy as spice\n",
    "from tqdm import tqdm\n",
    "\n",
    "import sys\n",
    "sys.path.append('..')\n",
    "from geminids.constants import *\n",
    "\n",
    "def perihelion(age=400):\n",
    "    spice.furnsh( 'data/meta.tm' )\n",
    "    # t_start = spice.str2et('1600-01-01')\n",
    "    beg = spice.str2et('2018 A.D. Jan 1')\n",
    "    t_start = beg\n",
    "    year = spice.jyear()\n",
    "    beg -= age*year\n",
    "    end = 2*year\n",
    "\n",
    "    pts_per_year = 365*24\n",
    "    n_particles = 1\n",
    "    n_years = 2\n",
    "\n",
    "\n",
    "    [y0, lt] = spice.spkezr('2003200', t_start, 'ECLIPJ2000', 'NONE', 'SUN')\n",
    "    y0 = spice.convrt(y0, \"KM\", \"AU\")\n",
    "\n",
    "\n",
    "    n = 1\n",
    "\n",
    "\n",
    "\n",
    "    sim = rebound.Simulation()\n",
    "\n",
    "\n",
    "    sim.units = ('s', 'AU', 'Msun')\n",
    "    sim.dt = -.001\n",
    "    sim.add(m=1.)\n",
    "\n",
    "    [yj, lt] = spice.spkezr(\"JUPITER BARYCENTER\", t_start, \n",
    "                            \"ECLIPJ2000\", \"NONE\", \"SUN\")\n",
    "    yj = spice.convrt(yj, \"KM\", \"AU\")\n",
    "    sim.add(m=0.000954588, x=yj[0], y=yj[1], z=yj[2], \n",
    "            vx=yj[3], vy=yj[4], vz=yj[5])\n",
    "    print(\"Added Jupiter...\")\n",
    "\n",
    "    [e_pos, lt] = spice.spkezr('EARTH', t_start, 'ECLIPJ2000', 'NONE', 'SUN')\n",
    "    e_pos = spice.convrt(e_pos, 'KM', 'AU')\n",
    "    sim.add(m=MASS_E/MASS_SUN, x=e_pos[0], y=e_pos[1], z=e_pos[2],\n",
    "            vx=e_pos[3], vy=e_pos[4], vz=e_pos[5])\n",
    "    print(\"Added Earth...\")\n",
    "\n",
    "\n",
    "    [mr_pos, lt] = spice.spkezr('4', t_start, 'ECLIPJ2000', 'NONE', 'SUN')\n",
    "    mr_pos = spice.convrt(mr_pos, 'KM', 'AU')\n",
    "    sim.add(m=MASS_MR/MASS_SUN, x=mr_pos[0], y=mr_pos[1], z=mr_pos[2], \n",
    "            vx=mr_pos[3], vy=mr_pos[4], vz=mr_pos[5])\n",
    "    print(\"Added Mars...\")\n",
    "\n",
    "\n",
    "\n",
    "    [v_pos, lt] = spice.spkezr('VENUS', t_start, 'ECLIPJ2000', 'NONE', 'SUN')\n",
    "    v_pos = spice.convrt(v_pos, 'KM', 'AU')\n",
    "    sim.add(m=MASS_V/MASS_SUN, x=v_pos[0], y=v_pos[1], z=v_pos[2], \n",
    "            vx=v_pos[3], vy=v_pos[4], vz=v_pos[5])\n",
    "    print(\"Added Venus...\")\n",
    "\n",
    "\n",
    "\n",
    "    [hg_pos, lt] = spice.spkezr('MERCURY', t_start, 'ECLIPJ2000', 'NONE', 'SUN')\n",
    "    hg_pos = spice.convrt(hg_pos, 'KM', 'AU')\n",
    "    sim.add(m=MASS_HG/MASS_SUN, x=hg_pos[0], y=hg_pos[1], z=hg_pos[2], \n",
    "            vx=hg_pos[3], vy=hg_pos[4], vz=hg_pos[5])\n",
    "    print(\"Added Mercury...\")\n",
    "\n",
    "\n",
    "    n_active = len(sim.particles)\n",
    "\n",
    "\n",
    "\n",
    "\n",
    "    sim.n_active = n_active\n",
    "    sim.collision = \"none\"\n",
    "\n",
    "\n",
    "\n",
    "    sim.move_to_hel()\n",
    "    print(\"adding particles...\")\n",
    "\n",
    "    sim.add(x = y0[0], y=y0[1], z=y0[2], vx=y0[3], vy = y0[4], vz = y0[5])\n",
    "    sim.move_to_com()\n",
    "\n",
    "\n",
    "\n",
    "\n",
    "    print(\"time arrays...\")\n",
    "\n",
    "    Noutputs = n_years*pts_per_year\n",
    "    year = spice.jyear()\n",
    "    times = np.linspace(end-t_start, beg-t_start, int(Noutputs))\n",
    "\n",
    "\n",
    "    t2 = np.linspace(0, end-t_start, int(1600 + 3000)*100)\n",
    "    pos = np.zeros((n,int(Noutputs),3))\n",
    "\n",
    "    sim.move_to_com()        \n",
    "    ps = sim.particles      \n",
    "\n",
    "\n",
    "\n",
    "    xy = np.zeros((int(Noutputs),6))\n",
    "    xy2 = np.zeros((int(1600 + 3000)*100,3))\n",
    "    d = np.zeros(int(Noutputs))\n",
    "    print(\"simulating...\")\n",
    "    p = sim.particles[6]\n",
    "\n",
    "    for i, time in enumerate(tqdm(t2)):\n",
    "        sim.integrate(time)\n",
    "        xy2[i] = [p.x, p.y, p.z]    \n",
    "    for i, time in enumerate(tqdm(times)):\n",
    "        sim.integrate(time)\n",
    "        sim.move_to_hel()\n",
    "        xy[i] = [p.x, p.y, p.z, p.vx, p.vy, p.vz]\n",
    "        d[i] = spice.vnorm(xy[i][0:3])\n",
    "        sim.move_to_com()\n",
    "\n",
    "    start_date = t_start\n",
    "\n",
    "    idxmin = np.argmin(d)\n",
    "    t_start = times[idxmin] + start_date\n",
    "    perihelion = xy[idxmin]\n",
    "\n",
    "    return sim\n",
    "\n",
    "\n",
    "sim_old = perihelion()"
   ]
  },
  {
   "cell_type": "code",
   "execution_count": 5,
   "metadata": {},
   "outputs": [
    {
     "name": "stdout",
     "output_type": "stream",
     "text": [
      "---------------------------------\n",
      "REBOUND version:     \t3.17.3\n",
      "REBOUND built on:    \tJun 23 2021 16:00:24\n",
      "Number of particles: \t7\n",
      "Selected integrator: \tias15\n",
      "Simulation time:     \t-1.2623040000000000e+10\n",
      "Current timestep:    \t-163983.554869\n",
      "---------------------------------\n",
      "<rebound.particle.Particle object at 0x7fd74d7b13c0, m=1.0 x=-0.0033760055349325814 y=0.0034571175640373693 z=6.117555589302634e-05 vx=-5.947272227977178e-11 vy=-6.165949431047271e-11 vz=1.5952293538287665e-12>\n",
      "<rebound.particle.Particle object at 0x7fd74d7b1440, m=0.000954588 x=3.538527731603294 y=-3.6172867224059404 z=-0.06415445385802916 vx=6.137017010172056e-08 vy=6.522831857065303e-08 vz=-1.6440972848742294e-09>\n",
      "<rebound.particle.Particle object at 0x7fd74d7b13c0, m=3.003500178529221e-06 x=-0.1658718474819258 y=-0.9973145926663122 z=-0.0008120431118652975 vx=1.9347232350325574e-07 vy=-3.267143358995608e-08 vz=-7.031701282432449e-12>\n",
      "<rebound.particle.Particle object at 0x7fd74d7b1440, m=3.2271545459574447e-07 x=0.9956986450513345 y=-0.958790231388851 z=-0.04527036238806827 vx=1.1882217571790303e-07 vy=1.3023520650315327e-07 vz=-3.033493396298112e-10>\n",
      "<rebound.particle.Particle object at 0x7fd74d7b13c0, m=2.447861923991813e-06 x=-0.658008577254069 y=-0.2988352668174655 z=0.03421629919382124 vx=9.643749924252645e-08 vy=-2.137060366016674e-07 vz=-8.290312793642395e-09>\n",
      "<rebound.particle.Particle object at 0x7fd74d7b1440, m=1.6601205952315097e-07 x=-0.25897153917845134 y=-0.37773048422439537 z=-0.007182926159956829 vx=2.0473663017049357e-07 vy=-1.6536897774216468e-07 vz=-3.241486557703037e-08>\n",
      "<rebound.particle.Particle object at 0x7fd74d7b13c0, m=0.0 x=1.6005353050471625 y=1.3629815229212545 z=0.5921301073885452 vx=1.2985177221520432e-08 vy=7.009260364719505e-08 vz=5.513378058196029e-09>\n",
      "---------------------------------\n"
     ]
    }
   ],
   "source": [
    "sim_old.status()\n",
    "\n",
    "o_old = sim_old.particles[-1].calculate_orbit()"
   ]
  },
  {
   "cell_type": "code",
   "execution_count": 6,
   "metadata": {},
   "outputs": [
    {
     "name": "stdout",
     "output_type": "stream",
     "text": [
      "Added Jupiter...\n",
      "Added Earth...\n",
      "Added Mars...\n",
      "Added Venus...\n",
      "Added Mercury...\n",
      "adding particles...\n"
     ]
    }
   ],
   "source": [
    "age = 400\n",
    "beg = spice.str2et('1617 A.D. Dec 29')\n",
    "t_start = beg\n",
    "year = spice.jyear()\n",
    "beg -= age*year\n",
    "end = 2*year\n",
    "\n",
    "pts_per_year = 365*24*600\n",
    "n_particles = 1\n",
    "n_years = 2\n",
    "    \n",
    "[y0, lt] = spice.spkezr('2003200', t_start, 'ECLIPJ2000', 'NONE', 'SUN')\n",
    "y0 = spice.convrt(y0, \"KM\", \"AU\")\n",
    "\n",
    "\n",
    "n = 1\n",
    "\n",
    "\n",
    "\n",
    "sim = rebound.Simulation()\n",
    "\n",
    "\n",
    "sim.units = ('s', 'AU', 'Msun')\n",
    "sim.dt = -.001\n",
    "sim.add(m=1.)\n",
    "\n",
    "[yj, lt] = spice.spkezr(\"JUPITER BARYCENTER\", t_start, \n",
    "                        \"ECLIPJ2000\", \"NONE\", \"SUN\")\n",
    "yj = spice.convrt(yj, \"KM\", \"AU\")\n",
    "sim.add(m=0.000954588, x=yj[0], y=yj[1], z=yj[2], \n",
    "        vx=yj[3], vy=yj[4], vz=yj[5])\n",
    "print(\"Added Jupiter...\")\n",
    "\n",
    "[e_pos, lt] = spice.spkezr('EARTH', t_start, 'ECLIPJ2000', 'NONE', 'SUN')\n",
    "e_pos = spice.convrt(e_pos, 'KM', 'AU')\n",
    "sim.add(m=MASS_E/MASS_SUN, x=e_pos[0], y=e_pos[1], z=e_pos[2],\n",
    "        vx=e_pos[3], vy=e_pos[4], vz=e_pos[5])\n",
    "print(\"Added Earth...\")\n",
    "\n",
    "\n",
    "[mr_pos, lt] = spice.spkezr('4', t_start, 'ECLIPJ2000', 'NONE', 'SUN')\n",
    "mr_pos = spice.convrt(mr_pos, 'KM', 'AU')\n",
    "sim.add(m=MASS_MR/MASS_SUN, x=mr_pos[0], y=mr_pos[1], z=mr_pos[2], \n",
    "        vx=mr_pos[3], vy=mr_pos[4], vz=mr_pos[5])\n",
    "print(\"Added Mars...\")\n",
    "\n",
    "\n",
    "\n",
    "[v_pos, lt] = spice.spkezr('VENUS', t_start, 'ECLIPJ2000', 'NONE', 'SUN')\n",
    "v_pos = spice.convrt(v_pos, 'KM', 'AU')\n",
    "sim.add(m=MASS_V/MASS_SUN, x=v_pos[0], y=v_pos[1], z=v_pos[2], \n",
    "        vx=v_pos[3], vy=v_pos[4], vz=v_pos[5])\n",
    "print(\"Added Venus...\")\n",
    "\n",
    "\n",
    "\n",
    "[hg_pos, lt] = spice.spkezr('MERCURY', t_start, 'ECLIPJ2000', 'NONE', 'SUN')\n",
    "hg_pos = spice.convrt(hg_pos, 'KM', 'AU')\n",
    "sim.add(m=MASS_HG/MASS_SUN, x=hg_pos[0], y=hg_pos[1], z=hg_pos[2], \n",
    "        vx=hg_pos[3], vy=hg_pos[4], vz=hg_pos[5])\n",
    "print(\"Added Mercury...\")\n",
    "\n",
    "\n",
    "n_active = len(sim.particles)\n",
    "\n",
    "\n",
    "\n",
    "\n",
    "sim.n_active = n_active\n",
    "sim.collision = \"none\"\n",
    "\n",
    "\n",
    "\n",
    "sim.move_to_hel()\n",
    "print(\"adding particles...\")\n",
    "\n",
    "sim.add(x = y0[0], y=y0[1], z=y0[2], vx=y0[3], vy = y0[4], vz = y0[5])\n",
    "sim.move_to_com()"
   ]
  },
  {
   "cell_type": "code",
   "execution_count": 7,
   "metadata": {},
   "outputs": [],
   "source": [
    "o = sim.particles[-1].calculate_orbit()"
   ]
  },
  {
   "cell_type": "code",
   "execution_count": 14,
   "metadata": {},
   "outputs": [
    {
     "name": "stdout",
     "output_type": "stream",
     "text": [
      "a:-1.11e-03, e:4.18e-04, inc:1.24e-03, omega:-9.27e-04, Omega:-2.30e-03,\n"
     ]
    }
   ],
   "source": [
    "a_err = (o.a - o_old.a)/o.a\n",
    "e_err = (o.e - o_old.e)/o.e\n",
    "inc_err = (o.inc - o_old.inc)/o.inc\n",
    "omega_err = (o.omega - o_old.omega)/o.omega\n",
    "Omega_err = (o.Omega - o_old.Omega)/o.Omega\n",
    "\n",
    "print(f\"a:{a_err:.2e}, e:{e_err:.2e}, inc:{inc_err:.2e}, omega:{omega_err:.2e}, Omega:{Omega_err:.2e},\")"
   ]
  },
  {
   "cell_type": "code",
   "execution_count": 22,
   "metadata": {},
   "outputs": [
    {
     "name": "stdout",
     "output_type": "stream",
     "text": [
      "-2.984341084293514e-05\n",
      "[-7.44371327e-03  6.98709896e-02 -3.84910754e-05]\n"
     ]
    }
   ],
   "source": [
    "print((sim_old.calculate_energy() - sim.calculate_energy()) / sim.calculate_energy())\n",
    "print((np.array(sim_old.calculate_angular_momentum()) - np.array(sim.calculate_angular_momentum())) / sim.calculate_angular_momentum())\n"
   ]
  },
  {
   "cell_type": "code",
   "execution_count": null,
   "metadata": {},
   "outputs": [],
   "source": []
  }
 ],
 "metadata": {
  "kernelspec": {
   "display_name": "Python 3.8.3 ('base')",
   "language": "python",
   "name": "python3"
  },
  "language_info": {
   "codemirror_mode": {
    "name": "ipython",
    "version": 3
   },
   "file_extension": ".py",
   "mimetype": "text/x-python",
   "name": "python",
   "nbconvert_exporter": "python",
   "pygments_lexer": "ipython3",
   "version": "3.8.3"
  },
  "orig_nbformat": 4,
  "vscode": {
   "interpreter": {
    "hash": "aaead61585ffbfa77ad988ca8cedcffcb67b4f54f12412d1ad3b769248fed130"
   }
  }
 },
 "nbformat": 4,
 "nbformat_minor": 2
}
