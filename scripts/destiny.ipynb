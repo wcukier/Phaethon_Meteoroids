{
 "cells": [
  {
   "cell_type": "code",
   "execution_count": 1,
   "metadata": {},
   "outputs": [],
   "source": [
    "from matplotlib import pyplot as plt\n",
    "plt.rcParams.update({\n",
    "  \"text.usetex\": True,\n",
    "  \"font.family\": \"Computer Modern Roman\",\n",
    "  \"font.size\":    14.0\n",
    "})\n",
    "import sys\n",
    "sys.path.append('..')\n",
    "\n",
    "from geminids.read_data import *"
   ]
  },
  {
   "cell_type": "code",
   "execution_count": 2,
   "metadata": {},
   "outputs": [],
   "source": [
    "fig_pth = \"../figs\""
   ]
  },
  {
   "cell_type": "code",
   "execution_count": 3,
   "metadata": {},
   "outputs": [],
   "source": [
    "def rate_at_destiny(points, KDTrees, masses, r=0.05, n=8000, norm=1e15):\n",
    "    \"\"\"\n",
    "    Takes a list of sets of points and a list of KDTrees and returns\n",
    "        a list of the rate of impacts at DESTINY+\n",
    "\n",
    "    Args:\n",
    "        points (list of ndarray): The filtered pointes\n",
    "        KDTrees (list of KDTrees): The kd tree of points\n",
    "        masses (ndarray): The unnormalized masses\n",
    "        r (float, optional): The search radius. Defaults to 0.05.\n",
    "        n (int, optional): The temporal resolution. Defaults to 8000.\n",
    "        norm (float or ndarray, optional): The mass to normalize to.\n",
    "                        If an array, must be the same length as points.\n",
    "                        Defaults to 1e15\n",
    "\n",
    "    Returns:\n",
    "        rates(list of ndarray): The rate of impact at each moment in time\n",
    "        t(ndarray): The times for which these calculations were done\n",
    "    \"\"\"\n",
    "    p_vel = 3.5e4 # 35 km/s (geminids at Earth)\n",
    "    spice.furnsh(\"data/meta.tm\")\n",
    "    dest = np.load(\"data/destiny.npy\")\n",
    "    t_d = np.load(\"data/t-dest.npy\")\n",
    "    norms = norm/np.array(masses)\n",
    "\n",
    "    n_particles = np.zeros((len(KDTrees), n))\n",
    "    rates = np.zeros((len(KDTrees), n))\n",
    "\n",
    "    t = []\n",
    "    for i in tqdm(range(int(dest.shape[0]/10))):\n",
    "        t.append(t_d[i*10])\n",
    "\n",
    "        for k in range(len(KDTrees)):\n",
    "            n_particles[k, i] = np.sum(points[k][KDTrees[k].query_ball_point(dest[i*10, :3], r), 4])\n",
    "\n",
    "        V = 4/3 * np.pi * ((r*AU_TO_M)**3)\n",
    "\n",
    "        v_dest = np.sqrt(np.sum(dest[i,3:]**2))\n",
    "        for k in range(len(KDTrees)):\n",
    "            rates[k, i] = (n_particles[k, i]/V * norms[k]\n",
    "                            * 5 * (p_vel + v_dest))\n",
    "\n",
    "\n",
    "    return rates, np.array(t)\n",
    "\n",
    "def plot_at_dest(rates, t, labels):\n",
    "    \"\"\"\n",
    "    Plots the estimated meteoriod fluxes of each model suplied in rates at\n",
    "        psp during orbit 4\n",
    "\n",
    "    Args:\n",
    "        rates (list of ndarray): The rates at earth for each model\n",
    "        t (ndarray): The times the rates were calculated for\n",
    "        labels (list of strings): The labels for each model for plotting\n",
    "\n",
    "\n",
    "    Returns:\n",
    "        None\n",
    "    \"\"\"\n",
    "    spice.furnsh(\"data/meta.tm\")\n",
    "    x2 = mdates.datestr2num(spice.et2utc(t, \"C\", 3))\n",
    "\n",
    "    beg  = 45\n",
    "    end = 60\n",
    "    for i in range(len(rates)):\n",
    "            plt.plot(x2,rates[i], label=labels[i])\n",
    "\n",
    "\n",
    "    # plt.legend(loc=4)\n",
    "    plt.yscale(\"log\")\n",
    "    plt.gca().xaxis.set_major_formatter(mdates.DateFormatter('%m/%d/%y'))\n",
    "    plt.gcf().autofmt_xdate()\n",
    "    plt.xlabel(\"Date\")\n",
    "    plt.ylabel(r\"Impact rate (s$^{-1}$)\")"
   ]
  },
  {
   "cell_type": "markdown",
   "metadata": {},
   "source": [
    "## Load Data"
   ]
  },
  {
   "cell_type": "code",
   "execution_count": 4,
   "metadata": {},
   "outputs": [
    {
     "name": "stdout",
     "output_type": "stream",
     "text": [
      "Loaded ../output/cached/points_0.npy\n",
      "Loaded ../output/cached/mass_0.npy\n",
      "Loaded ../output/cached/elements_0.npy\n",
      "Loaded ../output/cached/points_1.npy\n",
      "Loaded ../output/cached/mass_1.npy\n",
      "Loaded ../output/cached/elements_1.npy\n",
      "Loaded ../output/cached/points_2.npy\n",
      "Loaded ../output/cached/mass_2.npy\n",
      "Loaded ../output/cached/elements_2.npy\n"
     ]
    }
   ],
   "source": [
    "points, elements, masses = load_all_data()\n"
   ]
  },
  {
   "cell_type": "code",
   "execution_count": 5,
   "metadata": {},
   "outputs": [
    {
     "data": {
      "text/plain": [
       "(80000, 6)"
      ]
     },
     "execution_count": 5,
     "metadata": {},
     "output_type": "execute_result"
    }
   ],
   "source": [
    "dest = np.load(\"data/destiny.npy\")\n",
    "dest.shape"
   ]
  },
  {
   "cell_type": "code",
   "execution_count": 6,
   "metadata": {},
   "outputs": [],
   "source": [
    "dest = np.load(\"data/destiny.npy\")"
   ]
  },
  {
   "cell_type": "code",
   "execution_count": 7,
   "metadata": {},
   "outputs": [
    {
     "data": {
      "text/plain": [
       "array([0.98527066, 0.98526318, 0.9852557 , ..., 1.33040446, 1.33041668,\n",
       "       1.3304289 ])"
      ]
     },
     "execution_count": 7,
     "metadata": {},
     "output_type": "execute_result"
    }
   ],
   "source": [
    "np.sqrt(dest[:,0]**2 + dest[:,1]**2 + dest[:,2]**2)"
   ]
  },
  {
   "cell_type": "markdown",
   "metadata": {},
   "source": [
    "## PSP"
   ]
  },
  {
   "cell_type": "code",
   "execution_count": 8,
   "metadata": {},
   "outputs": [],
   "source": [
    "points_kd = []\n",
    "KDTrees = []\n",
    "for i in range(3):\n",
    "    point_kd, KDTree = generate_KDTree(points[i], 0, 0.9, 1.4)\n",
    "    points_kd.append(point_kd)\n",
    "    KDTrees.append(KDTree)\n",
    "\n",
    "# rates, t = rate_at_destiny(points, KDTrees, masses, n=8000, r =0.05, norm = 1e14)\n",
    "\n",
    "# plot_at_dest(rates, t, [\"Basic Model\", \"Violent Creation\", \"Cometary Creation\"])\n",
    "# plt.tight_layout()\n",
    "# # plt.savefig(f\"{fig_pth}/rate_at_psp.eps\")"
   ]
  },
  {
   "cell_type": "code",
   "execution_count": 9,
   "metadata": {},
   "outputs": [
    {
     "name": "stderr",
     "output_type": "stream",
     "text": [
      "  0%|          | 0/8000 [00:00<?, ?it/s]"
     ]
    },
    {
     "name": "stdout",
     "output_type": "stream",
     "text": [
      "Search Radius: 1.2562814070351759e-05 AU.\n",
      "-------------------------\n"
     ]
    },
    {
     "name": "stderr",
     "output_type": "stream",
     "text": [
      "100%|██████████| 8000/8000 [00:06<00:00, 1174.17it/s]\n",
      "  1%|          | 80/8000 [00:00<00:09, 799.28it/s]"
     ]
    },
    {
     "name": "stdout",
     "output_type": "stream",
     "text": [
      "[0.0, 0.0, 0.0]\n",
      "Search Radius: 2.5125628140703518e-05 AU.\n",
      "-------------------------\n"
     ]
    },
    {
     "name": "stderr",
     "output_type": "stream",
     "text": [
      "100%|██████████| 8000/8000 [00:06<00:00, 1258.59it/s]\n",
      "  1%|          | 96/8000 [00:00<00:08, 958.79it/s]"
     ]
    },
    {
     "name": "stdout",
     "output_type": "stream",
     "text": [
      "[0.0, 0.0, 0.0]\n",
      "Search Radius: 3.768844221105528e-05 AU.\n",
      "-------------------------\n"
     ]
    },
    {
     "name": "stderr",
     "output_type": "stream",
     "text": [
      "100%|██████████| 8000/8000 [00:06<00:00, 1243.39it/s]\n",
      "  1%|          | 94/8000 [00:00<00:08, 933.16it/s]"
     ]
    },
    {
     "name": "stdout",
     "output_type": "stream",
     "text": [
      "[0.0, 0.0, 0.0]\n",
      "Search Radius: 5.0251256281407036e-05 AU.\n",
      "-------------------------\n"
     ]
    },
    {
     "name": "stderr",
     "output_type": "stream",
     "text": [
      "100%|██████████| 8000/8000 [00:06<00:00, 1254.28it/s]\n",
      "  1%|          | 84/8000 [00:00<00:09, 839.55it/s]"
     ]
    },
    {
     "name": "stdout",
     "output_type": "stream",
     "text": [
      "[0.0, 0.0, 0.0]\n",
      "Search Radius: 6.28140703517588e-05 AU.\n",
      "-------------------------\n"
     ]
    },
    {
     "name": "stderr",
     "output_type": "stream",
     "text": [
      "100%|██████████| 8000/8000 [00:06<00:00, 1271.55it/s]\n",
      "  1%|▏         | 102/8000 [00:00<00:07, 1016.80it/s]"
     ]
    },
    {
     "name": "stdout",
     "output_type": "stream",
     "text": [
      "[0.0, 0.0, 0.0]\n",
      "Search Radius: 7.537688442211056e-05 AU.\n",
      "-------------------------\n"
     ]
    },
    {
     "name": "stderr",
     "output_type": "stream",
     "text": [
      "100%|██████████| 8000/8000 [00:06<00:00, 1265.63it/s]\n",
      "  1%|          | 96/8000 [00:00<00:08, 956.16it/s]"
     ]
    },
    {
     "name": "stdout",
     "output_type": "stream",
     "text": [
      "[0.0, 0.0, 0.0]\n",
      "Search Radius: 8.793969849246232e-05 AU.\n",
      "-------------------------\n"
     ]
    },
    {
     "name": "stderr",
     "output_type": "stream",
     "text": [
      "100%|██████████| 8000/8000 [00:06<00:00, 1254.67it/s]\n",
      "  1%|          | 96/8000 [00:00<00:08, 953.75it/s]"
     ]
    },
    {
     "name": "stdout",
     "output_type": "stream",
     "text": [
      "[0.0, 0.0, 0.0]\n",
      "Search Radius: 0.00010050251256281407 AU.\n",
      "-------------------------\n"
     ]
    },
    {
     "name": "stderr",
     "output_type": "stream",
     "text": [
      "100%|██████████| 8000/8000 [00:06<00:00, 1254.04it/s]\n",
      "  1%|▏         | 102/8000 [00:00<00:07, 1015.67it/s]"
     ]
    },
    {
     "name": "stdout",
     "output_type": "stream",
     "text": [
      "[0.0, 0.0, 0.0]\n",
      "Search Radius: 0.00011306532663316583 AU.\n",
      "-------------------------\n"
     ]
    },
    {
     "name": "stderr",
     "output_type": "stream",
     "text": [
      "100%|██████████| 8000/8000 [00:06<00:00, 1246.08it/s]\n",
      "  1%|          | 97/8000 [00:00<00:08, 964.97it/s]"
     ]
    },
    {
     "name": "stdout",
     "output_type": "stream",
     "text": [
      "[0.0, 0.0, 0.0]\n",
      "Search Radius: 0.0001256281407035176 AU.\n",
      "-------------------------\n"
     ]
    },
    {
     "name": "stderr",
     "output_type": "stream",
     "text": [
      "100%|██████████| 8000/8000 [00:06<00:00, 1255.82it/s]\n",
      "  1%|          | 98/8000 [00:00<00:08, 979.21it/s]"
     ]
    },
    {
     "name": "stdout",
     "output_type": "stream",
     "text": [
      "[0.0, 0.0, 0.0]\n",
      "Search Radius: 0.00013819095477386934 AU.\n",
      "-------------------------\n"
     ]
    },
    {
     "name": "stderr",
     "output_type": "stream",
     "text": [
      "100%|██████████| 8000/8000 [00:06<00:00, 1243.17it/s]\n",
      "  1%|          | 98/8000 [00:00<00:08, 976.56it/s]"
     ]
    },
    {
     "name": "stdout",
     "output_type": "stream",
     "text": [
      "[0.0, 0.0, 0.0]\n",
      "Search Radius: 0.00015075376884422112 AU.\n",
      "-------------------------\n"
     ]
    },
    {
     "name": "stderr",
     "output_type": "stream",
     "text": [
      "100%|██████████| 8000/8000 [00:06<00:00, 1257.41it/s]\n",
      "  1%|          | 99/8000 [00:00<00:08, 985.55it/s]"
     ]
    },
    {
     "name": "stdout",
     "output_type": "stream",
     "text": [
      "[0.0, 0.0, 0.0]\n",
      "Search Radius: 0.00016331658291457286 AU.\n",
      "-------------------------\n"
     ]
    },
    {
     "name": "stderr",
     "output_type": "stream",
     "text": [
      "100%|██████████| 8000/8000 [00:06<00:00, 1237.22it/s]\n",
      "  1%|▏         | 104/8000 [00:00<00:07, 1036.65it/s]"
     ]
    },
    {
     "name": "stdout",
     "output_type": "stream",
     "text": [
      "[0.0, 0.0, 0.0]\n",
      "Search Radius: 0.00017587939698492463 AU.\n",
      "-------------------------\n"
     ]
    },
    {
     "name": "stderr",
     "output_type": "stream",
     "text": [
      "100%|██████████| 8000/8000 [00:06<00:00, 1237.46it/s]\n",
      "  1%|▏         | 101/8000 [00:00<00:07, 1007.17it/s]"
     ]
    },
    {
     "name": "stdout",
     "output_type": "stream",
     "text": [
      "[0.0, 0.0, 0.0]\n",
      "Search Radius: 0.00018844221105527637 AU.\n",
      "-------------------------\n"
     ]
    },
    {
     "name": "stderr",
     "output_type": "stream",
     "text": [
      "100%|██████████| 8000/8000 [00:06<00:00, 1246.69it/s]\n",
      "  1%|▏         | 102/8000 [00:00<00:07, 1016.61it/s]"
     ]
    },
    {
     "name": "stdout",
     "output_type": "stream",
     "text": [
      "[0.0, 0.0, 0.0]\n",
      "Search Radius: 0.00020100502512562814 AU.\n",
      "-------------------------\n"
     ]
    },
    {
     "name": "stderr",
     "output_type": "stream",
     "text": [
      "100%|██████████| 8000/8000 [00:06<00:00, 1180.19it/s]\n",
      "  1%|          | 90/8000 [00:00<00:08, 893.75it/s]"
     ]
    },
    {
     "name": "stdout",
     "output_type": "stream",
     "text": [
      "[0.0, 0.0, 0.0]\n",
      "Search Radius: 0.00021356783919597992 AU.\n",
      "-------------------------\n"
     ]
    },
    {
     "name": "stderr",
     "output_type": "stream",
     "text": [
      "100%|██████████| 8000/8000 [00:07<00:00, 1124.83it/s]\n",
      "  1%|          | 82/8000 [00:00<00:09, 817.79it/s]"
     ]
    },
    {
     "name": "stdout",
     "output_type": "stream",
     "text": [
      "[0.0, 0.0, 0.0]\n",
      "Search Radius: 0.00022613065326633166 AU.\n",
      "-------------------------\n"
     ]
    },
    {
     "name": "stderr",
     "output_type": "stream",
     "text": [
      "100%|██████████| 8000/8000 [00:06<00:00, 1171.11it/s]\n",
      "  1%|          | 92/8000 [00:00<00:08, 915.63it/s]"
     ]
    },
    {
     "name": "stdout",
     "output_type": "stream",
     "text": [
      "[0.0, 0.0, 0.0]\n",
      "Search Radius: 0.00023869346733668343 AU.\n",
      "-------------------------\n"
     ]
    },
    {
     "name": "stderr",
     "output_type": "stream",
     "text": [
      "100%|██████████| 8000/8000 [00:06<00:00, 1198.25it/s]\n",
      "  1%|          | 68/8000 [00:00<00:11, 677.57it/s]"
     ]
    },
    {
     "name": "stdout",
     "output_type": "stream",
     "text": [
      "[0.0, 0.0, 0.0]\n",
      "Search Radius: 0.0002512562814070352 AU.\n",
      "-------------------------\n"
     ]
    },
    {
     "name": "stderr",
     "output_type": "stream",
     "text": [
      "100%|██████████| 8000/8000 [00:06<00:00, 1225.75it/s]\n",
      "  1%|          | 86/8000 [00:00<00:09, 851.27it/s]"
     ]
    },
    {
     "name": "stdout",
     "output_type": "stream",
     "text": [
      "[0.0, 0.0, 0.0]\n",
      "Search Radius: 0.00026381909547738695 AU.\n",
      "-------------------------\n"
     ]
    },
    {
     "name": "stderr",
     "output_type": "stream",
     "text": [
      "100%|██████████| 8000/8000 [00:06<00:00, 1206.33it/s]\n",
      "  1%|          | 91/8000 [00:00<00:08, 906.18it/s]"
     ]
    },
    {
     "name": "stdout",
     "output_type": "stream",
     "text": [
      "[0.0, 0.0, 0.0]\n",
      "Search Radius: 0.0002763819095477387 AU.\n",
      "-------------------------\n"
     ]
    },
    {
     "name": "stderr",
     "output_type": "stream",
     "text": [
      "100%|██████████| 8000/8000 [00:06<00:00, 1184.93it/s]\n",
      "  1%|          | 83/8000 [00:00<00:09, 825.73it/s]"
     ]
    },
    {
     "name": "stdout",
     "output_type": "stream",
     "text": [
      "[0.0, 0.0, 0.0]\n",
      "Search Radius: 0.00028894472361809043 AU.\n",
      "-------------------------\n"
     ]
    },
    {
     "name": "stderr",
     "output_type": "stream",
     "text": [
      "100%|██████████| 8000/8000 [00:06<00:00, 1230.29it/s]\n",
      "  1%|          | 91/8000 [00:00<00:08, 908.23it/s]"
     ]
    },
    {
     "name": "stdout",
     "output_type": "stream",
     "text": [
      "[0.0, 0.0, 0.0]\n",
      "Search Radius: 0.00030150753768844223 AU.\n",
      "-------------------------\n"
     ]
    },
    {
     "name": "stderr",
     "output_type": "stream",
     "text": [
      "100%|██████████| 8000/8000 [00:06<00:00, 1164.43it/s]\n",
      "  1%|          | 81/8000 [00:00<00:09, 808.76it/s]"
     ]
    },
    {
     "name": "stdout",
     "output_type": "stream",
     "text": [
      "[0.0, 0.0, 0.0]\n",
      "Search Radius: 0.000314070351758794 AU.\n",
      "-------------------------\n"
     ]
    },
    {
     "name": "stderr",
     "output_type": "stream",
     "text": [
      "100%|██████████| 8000/8000 [00:07<00:00, 1036.29it/s]\n",
      "  1%|          | 48/8000 [00:00<00:16, 472.74it/s]"
     ]
    },
    {
     "name": "stdout",
     "output_type": "stream",
     "text": [
      "[0.0, 0.0, 0.0]\n",
      "Search Radius: 0.0003266331658291457 AU.\n",
      "-------------------------\n"
     ]
    },
    {
     "name": "stderr",
     "output_type": "stream",
     "text": [
      "100%|██████████| 8000/8000 [00:07<00:00, 1094.61it/s]\n",
      "  1%|          | 85/8000 [00:00<00:09, 848.50it/s]"
     ]
    },
    {
     "name": "stdout",
     "output_type": "stream",
     "text": [
      "[0.0, 0.0, 0.0]\n",
      "Search Radius: 0.0003391959798994975 AU.\n",
      "-------------------------\n"
     ]
    },
    {
     "name": "stderr",
     "output_type": "stream",
     "text": [
      "100%|██████████| 8000/8000 [00:07<00:00, 1110.10it/s]\n",
      "  1%|          | 66/8000 [00:00<00:12, 656.49it/s]"
     ]
    },
    {
     "name": "stdout",
     "output_type": "stream",
     "text": [
      "[0.0, 0.0, 0.0]\n",
      "Search Radius: 0.00035175879396984926 AU.\n",
      "-------------------------\n"
     ]
    },
    {
     "name": "stderr",
     "output_type": "stream",
     "text": [
      "100%|██████████| 8000/8000 [00:06<00:00, 1207.23it/s]\n",
      "  1%|          | 85/8000 [00:00<00:09, 847.31it/s]"
     ]
    },
    {
     "name": "stdout",
     "output_type": "stream",
     "text": [
      "[0.0, 0.0, 0.0]\n",
      "Search Radius: 0.000364321608040201 AU.\n",
      "-------------------------\n"
     ]
    },
    {
     "name": "stderr",
     "output_type": "stream",
     "text": [
      "100%|██████████| 8000/8000 [00:06<00:00, 1215.89it/s]\n",
      "  1%|          | 95/8000 [00:00<00:08, 947.07it/s]"
     ]
    },
    {
     "name": "stdout",
     "output_type": "stream",
     "text": [
      "[0.0, 0.0, 0.0]\n",
      "Search Radius: 0.00037688442211055275 AU.\n",
      "-------------------------\n"
     ]
    },
    {
     "name": "stderr",
     "output_type": "stream",
     "text": [
      "100%|██████████| 8000/8000 [00:06<00:00, 1190.59it/s]\n",
      "  1%|          | 94/8000 [00:00<00:08, 937.19it/s]"
     ]
    },
    {
     "name": "stdout",
     "output_type": "stream",
     "text": [
      "[0.0, 0.0, 8.040086922814759e-07]\n",
      "Search Radius: 0.00038944723618090455 AU.\n",
      "-------------------------\n"
     ]
    },
    {
     "name": "stderr",
     "output_type": "stream",
     "text": [
      "100%|██████████| 8000/8000 [00:06<00:00, 1209.57it/s]\n",
      "  1%|          | 82/8000 [00:00<00:09, 818.12it/s]"
     ]
    },
    {
     "name": "stdout",
     "output_type": "stream",
     "text": [
      "[0.0, 0.0, 2.942301434202609e-06]\n",
      "Search Radius: 0.0004020100502512563 AU.\n",
      "-------------------------\n"
     ]
    },
    {
     "name": "stderr",
     "output_type": "stream",
     "text": [
      "100%|██████████| 8000/8000 [00:06<00:00, 1224.94it/s]\n",
      "  1%|          | 85/8000 [00:00<00:09, 844.71it/s]"
     ]
    },
    {
     "name": "stdout",
     "output_type": "stream",
     "text": [
      "[0.0, 0.0, 8.499213444138789e-06]\n",
      "Search Radius: 0.00041457286432160803 AU.\n",
      "-------------------------\n"
     ]
    },
    {
     "name": "stderr",
     "output_type": "stream",
     "text": [
      "100%|██████████| 8000/8000 [00:06<00:00, 1144.81it/s]\n",
      "  1%|          | 72/8000 [00:00<00:11, 716.49it/s]"
     ]
    },
    {
     "name": "stdout",
     "output_type": "stream",
     "text": [
      "[0.0, 0.0, 2.8730319493247655e-05]\n",
      "Search Radius: 0.00042713567839195983 AU.\n",
      "-------------------------\n"
     ]
    },
    {
     "name": "stderr",
     "output_type": "stream",
     "text": [
      "100%|██████████| 8000/8000 [00:06<00:00, 1155.20it/s]\n",
      "  1%|          | 88/8000 [00:00<00:09, 875.74it/s]"
     ]
    },
    {
     "name": "stdout",
     "output_type": "stream",
     "text": [
      "[0.0, 0.0, 3.195955536651547e-05]\n",
      "Search Radius: 0.0004396984924623116 AU.\n",
      "-------------------------\n"
     ]
    },
    {
     "name": "stderr",
     "output_type": "stream",
     "text": [
      "100%|██████████| 8000/8000 [00:07<00:00, 1132.72it/s]\n",
      "  1%|          | 93/8000 [00:00<00:08, 924.03it/s]"
     ]
    },
    {
     "name": "stdout",
     "output_type": "stream",
     "text": [
      "[0.0, 0.0, 2.9297687793015142e-05]\n",
      "Search Radius: 0.0004522613065326633 AU.\n",
      "-------------------------\n"
     ]
    },
    {
     "name": "stderr",
     "output_type": "stream",
     "text": [
      "100%|██████████| 8000/8000 [00:06<00:00, 1211.54it/s]\n",
      "  1%|          | 61/8000 [00:00<00:13, 609.82it/s]"
     ]
    },
    {
     "name": "stdout",
     "output_type": "stream",
     "text": [
      "[0.0, 0.0, 2.692340458087972e-05]\n",
      "Search Radius: 0.00046482412060301506 AU.\n",
      "-------------------------\n"
     ]
    },
    {
     "name": "stderr",
     "output_type": "stream",
     "text": [
      "100%|██████████| 8000/8000 [00:06<00:00, 1204.76it/s]\n",
      "  1%|          | 95/8000 [00:00<00:08, 947.22it/s]"
     ]
    },
    {
     "name": "stdout",
     "output_type": "stream",
     "text": [
      "[0.0, 0.0, 3.115001541760205e-05]\n",
      "Search Radius: 0.00047738693467336686 AU.\n",
      "-------------------------\n"
     ]
    },
    {
     "name": "stderr",
     "output_type": "stream",
     "text": [
      "100%|██████████| 8000/8000 [00:06<00:00, 1212.60it/s]\n",
      "  1%|          | 67/8000 [00:00<00:11, 669.95it/s]"
     ]
    },
    {
     "name": "stdout",
     "output_type": "stream",
     "text": [
      "[0.0, 0.0, 5.353858536699594e-05]\n",
      "Search Radius: 0.0004899497487437186 AU.\n",
      "-------------------------\n"
     ]
    },
    {
     "name": "stderr",
     "output_type": "stream",
     "text": [
      "100%|██████████| 8000/8000 [00:06<00:00, 1227.21it/s]\n",
      "  1%|          | 90/8000 [00:00<00:08, 891.72it/s]"
     ]
    },
    {
     "name": "stdout",
     "output_type": "stream",
     "text": [
      "[0.0, 0.0, 4.952492888042283e-05]\n",
      "Search Radius: 0.0005025125628140704 AU.\n",
      "-------------------------\n"
     ]
    },
    {
     "name": "stderr",
     "output_type": "stream",
     "text": [
      "100%|██████████| 8000/8000 [00:06<00:00, 1213.33it/s]\n",
      "  1%|          | 82/8000 [00:00<00:09, 815.22it/s]"
     ]
    },
    {
     "name": "stdout",
     "output_type": "stream",
     "text": [
      "[0.0, 0.0, 4.590264462902812e-05]\n",
      "Search Radius: 0.0005150753768844221 AU.\n",
      "-------------------------\n"
     ]
    },
    {
     "name": "stderr",
     "output_type": "stream",
     "text": [
      "100%|██████████| 8000/8000 [00:06<00:00, 1217.69it/s]\n",
      "  1%|          | 93/8000 [00:00<00:08, 929.90it/s]"
     ]
    },
    {
     "name": "stdout",
     "output_type": "stream",
     "text": [
      "[0.0, 0.0, 4.2625168762174095e-05]\n",
      "Search Radius: 0.0005276381909547739 AU.\n",
      "-------------------------\n"
     ]
    },
    {
     "name": "stderr",
     "output_type": "stream",
     "text": [
      "100%|██████████| 8000/8000 [00:06<00:00, 1226.10it/s]\n",
      "  1%|          | 97/8000 [00:00<00:08, 968.78it/s]"
     ]
    },
    {
     "name": "stdout",
     "output_type": "stream",
     "text": [
      "[0.0, 0.0, 3.965243030258341e-05]\n",
      "Search Radius: 0.0005402010050251256 AU.\n",
      "-------------------------\n"
     ]
    },
    {
     "name": "stderr",
     "output_type": "stream",
     "text": [
      "100%|██████████| 8000/8000 [00:06<00:00, 1208.39it/s]\n",
      "  1%|          | 83/8000 [00:00<00:09, 822.51it/s]"
     ]
    },
    {
     "name": "stdout",
     "output_type": "stream",
     "text": [
      "[0.0, 0.0, 3.694981896257941e-05]\n",
      "Search Radius: 0.0005527638190954774 AU.\n",
      "-------------------------\n"
     ]
    },
    {
     "name": "stderr",
     "output_type": "stream",
     "text": [
      "100%|██████████| 8000/8000 [00:06<00:00, 1206.93it/s]\n",
      "  1%|          | 93/8000 [00:00<00:08, 924.50it/s]"
     ]
    },
    {
     "name": "stdout",
     "output_type": "stream",
     "text": [
      "[0.0, 0.0, 3.448733631031414e-05]\n",
      "Search Radius: 0.0005653266331658291 AU.\n",
      "-------------------------\n"
     ]
    },
    {
     "name": "stderr",
     "output_type": "stream",
     "text": [
      "100%|██████████| 8000/8000 [00:06<00:00, 1209.96it/s]\n",
      "  1%|          | 93/8000 [00:00<00:08, 922.63it/s]"
     ]
    },
    {
     "name": "stdout",
     "output_type": "stream",
     "text": [
      "[0.0, 0.0, 3.223889444453006e-05]\n",
      "Search Radius: 0.0005778894472361809 AU.\n",
      "-------------------------\n"
     ]
    },
    {
     "name": "stderr",
     "output_type": "stream",
     "text": [
      "100%|██████████| 8000/8000 [00:06<00:00, 1214.08it/s]\n",
      "  1%|          | 97/8000 [00:00<00:08, 961.48it/s]"
     ]
    },
    {
     "name": "stdout",
     "output_type": "stream",
     "text": [
      "[0.0, 0.0, 3.0181733955143028e-05]\n",
      "Search Radius: 0.0005904522613065327 AU.\n",
      "-------------------------\n"
     ]
    },
    {
     "name": "stderr",
     "output_type": "stream",
     "text": [
      "100%|██████████| 8000/8000 [00:06<00:00, 1216.17it/s]\n",
      "  1%|          | 86/8000 [00:00<00:09, 858.86it/s]"
     ]
    },
    {
     "name": "stdout",
     "output_type": "stream",
     "text": [
      "[0.0, 0.0, 2.8555665834983825e-05]\n",
      "Search Radius: 0.0006030150753768845 AU.\n",
      "-------------------------\n"
     ]
    },
    {
     "name": "stderr",
     "output_type": "stream",
     "text": [
      "100%|██████████| 8000/8000 [00:06<00:00, 1216.51it/s]\n",
      "  1%|          | 88/8000 [00:00<00:09, 877.74it/s]"
     ]
    },
    {
     "name": "stdout",
     "output_type": "stream",
     "text": [
      "[0.0, 0.0, 2.788459026533174e-05]\n",
      "Search Radius: 0.0006155778894472362 AU.\n",
      "-------------------------\n"
     ]
    },
    {
     "name": "stderr",
     "output_type": "stream",
     "text": [
      "100%|██████████| 8000/8000 [00:06<00:00, 1210.85it/s]\n",
      "  1%|          | 77/8000 [00:00<00:10, 769.45it/s]"
     ]
    },
    {
     "name": "stdout",
     "output_type": "stream",
     "text": [
      "[0.0, 0.0, 2.7674992399782075e-05]\n",
      "Search Radius: 0.000628140703517588 AU.\n",
      "-------------------------\n"
     ]
    },
    {
     "name": "stderr",
     "output_type": "stream",
     "text": [
      "100%|██████████| 8000/8000 [00:06<00:00, 1217.73it/s]\n",
      "  1%|          | 90/8000 [00:00<00:08, 899.60it/s]"
     ]
    },
    {
     "name": "stdout",
     "output_type": "stream",
     "text": [
      "[0.0, 0.0, 2.7031389245018348e-05]\n",
      "Search Radius: 0.0006407035175879397 AU.\n",
      "-------------------------\n"
     ]
    },
    {
     "name": "stderr",
     "output_type": "stream",
     "text": [
      "100%|██████████| 8000/8000 [00:06<00:00, 1214.25it/s]\n",
      "  1%|          | 80/8000 [00:00<00:09, 798.04it/s]"
     ]
    },
    {
     "name": "stdout",
     "output_type": "stream",
     "text": [
      "[0.0, 0.0, 2.909003954969343e-05]\n",
      "Search Radius: 0.0006532663316582914 AU.\n",
      "-------------------------\n"
     ]
    },
    {
     "name": "stderr",
     "output_type": "stream",
     "text": [
      "100%|██████████| 8000/8000 [00:06<00:00, 1211.69it/s]\n",
      "  1%|          | 90/8000 [00:00<00:08, 891.19it/s]"
     ]
    },
    {
     "name": "stdout",
     "output_type": "stream",
     "text": [
      "[0.0, 0.0, 2.974501159777004e-05]\n",
      "Search Radius: 0.0006658291457286432 AU.\n",
      "-------------------------\n"
     ]
    },
    {
     "name": "stderr",
     "output_type": "stream",
     "text": [
      "100%|██████████| 8000/8000 [00:06<00:00, 1202.84it/s]\n",
      "  1%|          | 94/8000 [00:00<00:08, 937.86it/s]"
     ]
    },
    {
     "name": "stdout",
     "output_type": "stream",
     "text": [
      "[0.0, 0.0, 2.8205456110392902e-05]\n",
      "Search Radius: 0.000678391959798995 AU.\n",
      "-------------------------\n"
     ]
    },
    {
     "name": "stderr",
     "output_type": "stream",
     "text": [
      "100%|██████████| 8000/8000 [00:06<00:00, 1211.69it/s]\n",
      "  1%|          | 90/8000 [00:00<00:08, 895.11it/s]"
     ]
    },
    {
     "name": "stdout",
     "output_type": "stream",
     "text": [
      "[0.0, 0.0, 2.683998936854885e-05]\n",
      "Search Radius: 0.0006909547738693468 AU.\n",
      "-------------------------\n"
     ]
    },
    {
     "name": "stderr",
     "output_type": "stream",
     "text": [
      "100%|██████████| 8000/8000 [00:06<00:00, 1216.50it/s]\n",
      "  1%|          | 90/8000 [00:00<00:08, 895.42it/s]"
     ]
    },
    {
     "name": "stdout",
     "output_type": "stream",
     "text": [
      "[0.0, 0.0, 2.5854631466831244e-05]\n",
      "Search Radius: 0.0007035175879396985 AU.\n",
      "-------------------------\n"
     ]
    },
    {
     "name": "stderr",
     "output_type": "stream",
     "text": [
      "100%|██████████| 8000/8000 [00:06<00:00, 1206.57it/s]\n",
      "  1%|          | 90/8000 [00:00<00:08, 894.59it/s]"
     ]
    },
    {
     "name": "stdout",
     "output_type": "stream",
     "text": [
      "[0.0, 0.0, 2.4494148086131376e-05]\n",
      "Search Radius: 0.0007160804020100503 AU.\n",
      "-------------------------\n"
     ]
    },
    {
     "name": "stderr",
     "output_type": "stream",
     "text": [
      "100%|██████████| 8000/8000 [00:06<00:00, 1215.00it/s]\n",
      "  1%|          | 94/8000 [00:00<00:08, 933.55it/s]"
     ]
    },
    {
     "name": "stdout",
     "output_type": "stream",
     "text": [
      "[0.0, 0.0, 2.3227467076477237e-05]\n",
      "Search Radius: 0.000728643216080402 AU.\n",
      "-------------------------\n"
     ]
    },
    {
     "name": "stderr",
     "output_type": "stream",
     "text": [
      "100%|██████████| 8000/8000 [00:06<00:00, 1204.59it/s]\n",
      "  1%|          | 76/8000 [00:00<00:10, 756.11it/s]"
     ]
    },
    {
     "name": "stdout",
     "output_type": "stream",
     "text": [
      "[0.0, 0.0, 2.595593082361266e-05]\n",
      "Search Radius: 0.0007412060301507538 AU.\n",
      "-------------------------\n"
     ]
    },
    {
     "name": "stderr",
     "output_type": "stream",
     "text": [
      "100%|██████████| 8000/8000 [00:06<00:00, 1202.35it/s]\n",
      "  1%|          | 96/8000 [00:00<00:08, 944.11it/s]"
     ]
    },
    {
     "name": "stdout",
     "output_type": "stream",
     "text": [
      "[0.0, 0.008463357895537295, 2.685212435195841e-05]\n",
      "Search Radius: 0.0007537688442211055 AU.\n",
      "-------------------------\n"
     ]
    },
    {
     "name": "stderr",
     "output_type": "stream",
     "text": [
      "100%|██████████| 8000/8000 [00:06<00:00, 1210.75it/s]\n",
      "  1%|          | 79/8000 [00:00<00:10, 784.97it/s]"
     ]
    },
    {
     "name": "stdout",
     "output_type": "stream",
     "text": [
      "[0.0, 0.00804720361679423, 2.8906509026930216e-05]\n",
      "Search Radius: 0.0007663316582914573 AU.\n",
      "-------------------------\n"
     ]
    },
    {
     "name": "stderr",
     "output_type": "stream",
     "text": [
      "100%|██████████| 8000/8000 [00:06<00:00, 1204.39it/s]\n",
      "  1%|          | 93/8000 [00:00<00:08, 929.02it/s]"
     ]
    },
    {
     "name": "stdout",
     "output_type": "stream",
     "text": [
      "[0.0, 0.007657891987556463, 2.861721228478073e-05]\n",
      "Search Radius: 0.0007788944723618091 AU.\n",
      "-------------------------\n"
     ]
    },
    {
     "name": "stderr",
     "output_type": "stream",
     "text": [
      "100%|██████████| 8000/8000 [00:06<00:00, 1160.31it/s]\n",
      "  0%|          | 16/8000 [00:00<00:51, 155.24it/s]"
     ]
    },
    {
     "name": "stdout",
     "output_type": "stream",
     "text": [
      "[0.0, 0.007293293197725626, 2.8481893769000908e-05]\n",
      "Search Radius: 0.0007914572864321608 AU.\n",
      "-------------------------\n"
     ]
    },
    {
     "name": "stderr",
     "output_type": "stream",
     "text": [
      "100%|██████████| 8000/8000 [00:07<00:00, 1097.61it/s]\n",
      "  1%|          | 80/8000 [00:00<00:09, 792.06it/s]"
     ]
    },
    {
     "name": "stdout",
     "output_type": "stream",
     "text": [
      "[0.0, 0.006951477047225335, 2.8467591993025385e-05]\n",
      "Search Radius: 0.0008040201005025126 AU.\n",
      "-------------------------\n"
     ]
    },
    {
     "name": "stderr",
     "output_type": "stream",
     "text": [
      "100%|██████████| 8000/8000 [00:06<00:00, 1155.34it/s]\n",
      "  1%|          | 88/8000 [00:00<00:09, 876.39it/s]"
     ]
    },
    {
     "name": "stdout",
     "output_type": "stream",
     "text": [
      "[0.0, 0.006630691456709113, 2.938027515594356e-05]\n",
      "Search Radius: 0.0008165829145728643 AU.\n",
      "-------------------------\n"
     ]
    },
    {
     "name": "stderr",
     "output_type": "stream",
     "text": [
      "100%|██████████| 8000/8000 [00:07<00:00, 1133.53it/s]\n",
      "  1%|          | 89/8000 [00:00<00:08, 886.94it/s]"
     ]
    },
    {
     "name": "stdout",
     "output_type": "stream",
     "text": [
      "[0.0, 0.006329343582075753, 3.0039529182867537e-05]\n",
      "Search Radius: 0.0008291457286432161 AU.\n",
      "-------------------------\n"
     ]
    },
    {
     "name": "stderr",
     "output_type": "stream",
     "text": [
      "100%|██████████| 8000/8000 [00:07<00:00, 1039.76it/s]\n",
      "  1%|          | 99/8000 [00:00<00:08, 985.39it/s]"
     ]
    },
    {
     "name": "stdout",
     "output_type": "stream",
     "text": [
      "[0.0, 0.006045983183166215, 3.315926800920851e-05]\n",
      "Search Radius: 0.0008417085427135678 AU.\n",
      "-------------------------\n"
     ]
    },
    {
     "name": "stderr",
     "output_type": "stream",
     "text": [
      "100%|██████████| 8000/8000 [00:06<00:00, 1235.43it/s]\n",
      "  1%|▏         | 109/8000 [00:00<00:07, 1083.06it/s]"
     ]
    },
    {
     "name": "stdout",
     "output_type": "stream",
     "text": [
      "[0.0, 0.005779287948409724, 3.215558357328026e-05]\n",
      "Search Radius: 0.0008542713567839197 AU.\n",
      "-------------------------\n"
     ]
    },
    {
     "name": "stderr",
     "output_type": "stream",
     "text": [
      "100%|██████████| 8000/8000 [00:05<00:00, 1341.61it/s]\n",
      "  1%|▏         | 105/8000 [00:00<00:07, 1049.27it/s]"
     ]
    },
    {
     "name": "stdout",
     "output_type": "stream",
     "text": [
      "[0.0, 0.005528050520390907, 3.157102780079042e-05]\n",
      "Search Radius: 0.0008668341708542714 AU.\n",
      "-------------------------\n"
     ]
    },
    {
     "name": "stderr",
     "output_type": "stream",
     "text": [
      "100%|██████████| 8000/8000 [00:05<00:00, 1340.81it/s]\n",
      "  1%|▏         | 110/8000 [00:00<00:07, 1093.33it/s]"
     ]
    },
    {
     "name": "stdout",
     "output_type": "stream",
     "text": [
      "[0.0, 0.005291167003727609, 3.059058087795724e-05]\n",
      "Search Radius: 0.0008793969849246232 AU.\n",
      "-------------------------\n"
     ]
    },
    {
     "name": "stderr",
     "output_type": "stream",
     "text": [
      "100%|██████████| 8000/8000 [00:06<00:00, 1331.72it/s]\n",
      "  1%|▏         | 111/8000 [00:00<00:07, 1109.74it/s]"
     ]
    },
    {
     "name": "stdout",
     "output_type": "stream",
     "text": [
      "[0.0, 0.006431027108231495, 2.94998640742854e-05]\n",
      "Search Radius: 0.0008919597989949749 AU.\n",
      "-------------------------\n"
     ]
    },
    {
     "name": "stderr",
     "output_type": "stream",
     "text": [
      "100%|██████████| 8000/8000 [00:05<00:00, 1336.99it/s]\n",
      "  1%|▏         | 110/8000 [00:00<00:07, 1098.12it/s]"
     ]
    },
    {
     "name": "stdout",
     "output_type": "stream",
     "text": [
      "[0.0, 0.00616310283317194, 2.9106542620391635e-05]\n",
      "Search Radius: 0.0009045226130653266 AU.\n",
      "-------------------------\n"
     ]
    },
    {
     "name": "stderr",
     "output_type": "stream",
     "text": [
      "100%|██████████| 8000/8000 [00:06<00:00, 1301.59it/s]\n",
      "  1%|▏         | 110/8000 [00:00<00:07, 1095.29it/s]"
     ]
    },
    {
     "name": "stdout",
     "output_type": "stream",
     "text": [
      "[0.0, 0.00590985698014029, 3.1905808463599113e-05]\n",
      "Search Radius: 0.0009170854271356784 AU.\n",
      "-------------------------\n"
     ]
    },
    {
     "name": "stderr",
     "output_type": "stream",
     "text": [
      "100%|██████████| 8000/8000 [00:06<00:00, 1326.04it/s]\n",
      "  1%|▏         | 110/8000 [00:00<00:07, 1098.20it/s]"
     ]
    },
    {
     "name": "stdout",
     "output_type": "stream",
     "text": [
      "[0.0, 0.010138472815714885, 3.167332556868652e-05]\n",
      "Search Radius: 0.0009296482412060301 AU.\n",
      "-------------------------\n"
     ]
    },
    {
     "name": "stderr",
     "output_type": "stream",
     "text": [
      "100%|██████████| 8000/8000 [00:06<00:00, 1328.03it/s]\n",
      "  1%|▏         | 106/8000 [00:00<00:07, 1055.89it/s]"
     ]
    },
    {
     "name": "stdout",
     "output_type": "stream",
     "text": [
      "[0.0, 0.009732982941165771, 3.125981141737785e-05]\n",
      "Search Radius: 0.000942211055276382 AU.\n",
      "-------------------------\n"
     ]
    },
    {
     "name": "stderr",
     "output_type": "stream",
     "text": [
      "100%|██████████| 8000/8000 [00:06<00:00, 1329.19it/s]\n",
      "  1%|          | 95/8000 [00:00<00:08, 941.55it/s]"
     ]
    },
    {
     "name": "stdout",
     "output_type": "stream",
     "text": [
      "[0.0, 0.012488053325278614, 3.3714143146051615e-05]\n",
      "Search Radius: 0.0009547738693467337 AU.\n",
      "-------------------------\n"
     ]
    },
    {
     "name": "stderr",
     "output_type": "stream",
     "text": [
      "100%|██████████| 8000/8000 [00:05<00:00, 1336.70it/s]\n",
      "  1%|          | 92/8000 [00:00<00:08, 914.89it/s]"
     ]
    },
    {
     "name": "stdout",
     "output_type": "stream",
     "text": [
      "[0.0, 0.012971511946913272, 3.627593426807124e-05]\n",
      "Search Radius: 0.0009673366834170855 AU.\n",
      "-------------------------\n"
     ]
    },
    {
     "name": "stderr",
     "output_type": "stream",
     "text": [
      "100%|██████████| 8000/8000 [00:06<00:00, 1318.63it/s]\n",
      "  1%|▏         | 108/8000 [00:00<00:07, 1073.55it/s]"
     ]
    },
    {
     "name": "stdout",
     "output_type": "stream",
     "text": [
      "[0.0, 0.014805340547261417, 3.986131824611103e-05]\n",
      "Search Radius: 0.000979899497487437 AU.\n",
      "-------------------------\n"
     ]
    },
    {
     "name": "stderr",
     "output_type": "stream",
     "text": [
      "100%|██████████| 8000/8000 [00:05<00:00, 1339.11it/s]\n",
      "  1%|▏         | 109/8000 [00:00<00:07, 1086.96it/s]"
     ]
    },
    {
     "name": "stdout",
     "output_type": "stream",
     "text": [
      "[0.0, 0.014243173637584292, 3.8659315609920235e-05]\n",
      "Search Radius: 0.000992462311557789 AU.\n",
      "-------------------------\n"
     ]
    },
    {
     "name": "stderr",
     "output_type": "stream",
     "text": [
      "100%|██████████| 8000/8000 [00:05<00:00, 1346.60it/s]\n",
      "  1%|▏         | 105/8000 [00:00<00:07, 1045.90it/s]"
     ]
    },
    {
     "name": "stdout",
     "output_type": "stream",
     "text": [
      "[0.0, 0.014201089263418686, 3.7209745154681166e-05]\n",
      "Search Radius: 0.0010050251256281408 AU.\n",
      "-------------------------\n"
     ]
    },
    {
     "name": "stderr",
     "output_type": "stream",
     "text": [
      "100%|██████████| 8000/8000 [00:06<00:00, 1322.60it/s]\n",
      "  1%|▏         | 111/8000 [00:00<00:07, 1107.35it/s]"
     ]
    },
    {
     "name": "stdout",
     "output_type": "stream",
     "text": [
      "[0.0, 0.013675177440130247, 3.5868191458214106e-05]\n",
      "Search Radius: 0.0010175879396984925 AU.\n",
      "-------------------------\n"
     ]
    },
    {
     "name": "stderr",
     "output_type": "stream",
     "text": [
      "100%|██████████| 8000/8000 [00:05<00:00, 1335.69it/s]\n",
      "  1%|▏         | 103/8000 [00:00<00:07, 1025.02it/s]"
     ]
    },
    {
     "name": "stdout",
     "output_type": "stream",
     "text": [
      "[0.0, 0.013174916593463221, 3.6093165512636015e-05]\n",
      "Search Radius: 0.0010301507537688443 AU.\n",
      "-------------------------\n"
     ]
    },
    {
     "name": "stderr",
     "output_type": "stream",
     "text": [
      "100%|██████████| 8000/8000 [00:05<00:00, 1335.93it/s]\n",
      "  1%|▏         | 109/8000 [00:00<00:07, 1086.26it/s]"
     ]
    },
    {
     "name": "stdout",
     "output_type": "stream",
     "text": [
      "[0.0, 0.013071289540734717, 3.5111520586279044e-05]\n",
      "Search Radius: 0.001042713567839196 AU.\n",
      "-------------------------\n"
     ]
    },
    {
     "name": "stderr",
     "output_type": "stream",
     "text": [
      "100%|██████████| 8000/8000 [00:05<00:00, 1337.93it/s]\n",
      "  1%|▏         | 107/8000 [00:00<00:07, 1069.85it/s]"
     ]
    },
    {
     "name": "stdout",
     "output_type": "stream",
     "text": [
      "[0.0, 0.01260450267581428, 3.5359818246812766e-05]\n",
      "Search Radius: 0.0010552763819095478 AU.\n",
      "-------------------------\n"
     ]
    },
    {
     "name": "stderr",
     "output_type": "stream",
     "text": [
      "100%|██████████| 8000/8000 [00:06<00:00, 1332.34it/s]\n",
      "  1%|▏         | 106/8000 [00:00<00:07, 1059.12it/s]"
     ]
    },
    {
     "name": "stdout",
     "output_type": "stream",
     "text": [
      "[0.0, 0.012159679657123652, 3.558756913695239e-05]\n",
      "Search Radius: 0.0010678391959798995 AU.\n",
      "-------------------------\n"
     ]
    },
    {
     "name": "stderr",
     "output_type": "stream",
     "text": [
      "100%|██████████| 8000/8000 [00:05<00:00, 1340.94it/s]\n",
      "  1%|▏         | 111/8000 [00:00<00:07, 1100.79it/s]"
     ]
    },
    {
     "name": "stdout",
     "output_type": "stream",
     "text": [
      "[0.0, 0.013469627322044398, 3.57275759916355e-05]\n",
      "Search Radius: 0.0010804020100502513 AU.\n",
      "-------------------------\n"
     ]
    },
    {
     "name": "stderr",
     "output_type": "stream",
     "text": [
      "100%|██████████| 8000/8000 [00:05<00:00, 1335.69it/s]\n",
      "  1%|▏         | 107/8000 [00:00<00:07, 1067.59it/s]"
     ]
    },
    {
     "name": "stdout",
     "output_type": "stream",
     "text": [
      "[0.0, 0.013005199037742773, 3.614022373662306e-05]\n",
      "Search Radius: 0.001092964824120603 AU.\n",
      "-------------------------\n"
     ]
    },
    {
     "name": "stderr",
     "output_type": "stream",
     "text": [
      "100%|██████████| 8000/8000 [00:06<00:00, 1326.77it/s]\n",
      "  1%|▏         | 116/8000 [00:00<00:06, 1159.34it/s]"
     ]
    },
    {
     "name": "stdout",
     "output_type": "stream",
     "text": [
      "[0.0, 0.012561878805640248, 3.525062350441023e-05]\n",
      "Search Radius: 0.0011055276381909548 AU.\n",
      "-------------------------\n"
     ]
    },
    {
     "name": "stderr",
     "output_type": "stream",
     "text": [
      "100%|██████████| 8000/8000 [00:06<00:00, 1324.99it/s]\n",
      "  1%|▏         | 113/8000 [00:00<00:07, 1123.17it/s]"
     ]
    },
    {
     "name": "stdout",
     "output_type": "stream",
     "text": [
      "[0.0, 0.012138480934140383, 3.549861902937121e-05]\n",
      "Search Radius: 0.0011180904522613065 AU.\n",
      "-------------------------\n"
     ]
    },
    {
     "name": "stderr",
     "output_type": "stream",
     "text": [
      "100%|██████████| 8000/8000 [00:05<00:00, 1346.04it/s]\n",
      "  1%|▏         | 109/8000 [00:00<00:07, 1088.70it/s]"
     ]
    },
    {
     "name": "stdout",
     "output_type": "stream",
     "text": [
      "[0.0, 0.013719543640344284, 3.556160565467277e-05]\n",
      "Search Radius: 0.0011306532663316582 AU.\n",
      "-------------------------\n"
     ]
    },
    {
     "name": "stderr",
     "output_type": "stream",
     "text": [
      "100%|██████████| 8000/8000 [00:06<00:00, 1329.71it/s]\n",
      "  1%|          | 96/8000 [00:00<00:08, 955.39it/s]"
     ]
    },
    {
     "name": "stdout",
     "output_type": "stream",
     "text": [
      "[0.0, 0.014690403130583288, 3.8707227066943855e-05]\n",
      "Search Radius: 0.00114321608040201 AU.\n",
      "-------------------------\n"
     ]
    },
    {
     "name": "stderr",
     "output_type": "stream",
     "text": [
      "100%|██████████| 8000/8000 [00:05<00:00, 1333.94it/s]\n",
      "  1%|          | 92/8000 [00:00<00:08, 919.79it/s]"
     ]
    },
    {
     "name": "stdout",
     "output_type": "stream",
     "text": [
      "[0.0, 0.01483198026342716, 3.852756675385361e-05]\n",
      "Search Radius: 0.0011557788944723617 AU.\n",
      "-------------------------\n"
     ]
    },
    {
     "name": "stderr",
     "output_type": "stream",
     "text": [
      "100%|██████████| 8000/8000 [00:06<00:00, 1330.36it/s]\n",
      "  1%|          | 96/8000 [00:00<00:08, 957.71it/s]"
     ]
    },
    {
     "name": "stdout",
     "output_type": "stream",
     "text": [
      "[0.0, 0.014353566767551403, 3.9674526246786775e-05]\n",
      "Search Radius: 0.0011683417085427137 AU.\n",
      "-------------------------\n"
     ]
    },
    {
     "name": "stderr",
     "output_type": "stream",
     "text": [
      "100%|██████████| 8000/8000 [00:06<00:00, 1217.43it/s]\n",
      "  1%|▏         | 107/8000 [00:00<00:07, 1066.42it/s]"
     ]
    },
    {
     "name": "stdout",
     "output_type": "stream",
     "text": [
      "[0.0, 0.013895509331168943, 3.8541361315683694e-05]\n",
      "Search Radius: 0.0011809045226130654 AU.\n",
      "-------------------------\n"
     ]
    },
    {
     "name": "stderr",
     "output_type": "stream",
     "text": [
      "100%|██████████| 8000/8000 [00:06<00:00, 1294.82it/s]\n",
      "  1%|          | 98/8000 [00:00<00:08, 977.87it/s]"
     ]
    },
    {
     "name": "stdout",
     "output_type": "stream",
     "text": [
      "[0.0, 0.013456736704645237, 3.8987873020542486e-05]\n",
      "Search Radius: 0.0011934673366834172 AU.\n",
      "-------------------------\n"
     ]
    },
    {
     "name": "stderr",
     "output_type": "stream",
     "text": [
      "100%|██████████| 8000/8000 [00:06<00:00, 1296.35it/s]\n",
      "  1%|          | 99/8000 [00:00<00:07, 989.30it/s]"
     ]
    },
    {
     "name": "stdout",
     "output_type": "stream",
     "text": [
      "[0.0, 0.013036244582698427, 3.937205999617568e-05]\n",
      "Search Radius: 0.001206030150753769 AU.\n",
      "-------------------------\n"
     ]
    },
    {
     "name": "stderr",
     "output_type": "stream",
     "text": [
      "100%|██████████| 8000/8000 [00:06<00:00, 1310.29it/s]\n",
      "  1%|          | 97/8000 [00:00<00:08, 969.30it/s]"
     ]
    },
    {
     "name": "stdout",
     "output_type": "stream",
     "text": [
      "[0.0, 0.01263309077407392, 3.870101111720761e-05]\n",
      "Search Radius: 0.0012185929648241207 AU.\n",
      "-------------------------\n"
     ]
    },
    {
     "name": "stderr",
     "output_type": "stream",
     "text": [
      "100%|██████████| 8000/8000 [00:07<00:00, 1130.34it/s]\n",
      "  1%|          | 91/8000 [00:00<00:08, 895.68it/s]"
     ]
    },
    {
     "name": "stdout",
     "output_type": "stream",
     "text": [
      "[0.0, 0.012595888543266898, 3.787735123645927e-05]\n",
      "Search Radius: 0.0012311557788944724 AU.\n",
      "-------------------------\n"
     ]
    },
    {
     "name": "stderr",
     "output_type": "stream",
     "text": [
      "100%|██████████| 8000/8000 [00:08<00:00, 944.93it/s] \n",
      "  1%|          | 85/8000 [00:00<00:09, 841.59it/s]"
     ]
    },
    {
     "name": "stdout",
     "output_type": "stream",
     "text": [
      "[0.0, 0.01221422131132546, 3.877776567947207e-05]\n",
      "Search Radius: 0.0012437185929648242 AU.\n",
      "-------------------------\n"
     ]
    },
    {
     "name": "stderr",
     "output_type": "stream",
     "text": [
      "100%|██████████| 8000/8000 [00:07<00:00, 1095.36it/s]\n",
      "  1%|          | 90/8000 [00:00<00:08, 896.00it/s]"
     ]
    },
    {
     "name": "stdout",
     "output_type": "stream",
     "text": [
      "[0.0, 0.011847819470543652, 4.010686170023796e-05]\n",
      "Search Radius: 0.001256281407035176 AU.\n",
      "-------------------------\n"
     ]
    },
    {
     "name": "stderr",
     "output_type": "stream",
     "text": [
      "100%|██████████| 8000/8000 [00:11<00:00, 678.65it/s] \n",
      "  1%|          | 57/8000 [00:00<00:13, 568.21it/s]"
     ]
    },
    {
     "name": "stdout",
     "output_type": "stream",
     "text": [
      "[0.0, 0.01291463655681864, 4.027691210667837e-05]\n",
      "Search Radius: 0.0012688442211055276 AU.\n",
      "-------------------------\n"
     ]
    },
    {
     "name": "stderr",
     "output_type": "stream",
     "text": [
      "100%|██████████| 8000/8000 [00:08<00:00, 891.18it/s] \n",
      "  1%|          | 65/8000 [00:00<00:12, 645.28it/s]"
     ]
    },
    {
     "name": "stdout",
     "output_type": "stream",
     "text": [
      "[0.0, 0.012752424432011026, 4.04283805604315e-05]\n",
      "Search Radius: 0.0012814070351758794 AU.\n",
      "-------------------------\n"
     ]
    },
    {
     "name": "stderr",
     "output_type": "stream",
     "text": [
      "100%|██████████| 8000/8000 [00:10<00:00, 796.04it/s] \n",
      "  1%|          | 55/8000 [00:00<00:14, 544.05it/s]"
     ]
    },
    {
     "name": "stdout",
     "output_type": "stream",
     "text": [
      "[0.0, 0.01238101827796755, 4.069518619697988e-05]\n",
      "Search Radius: 0.0012939698492462311 AU.\n",
      "-------------------------\n"
     ]
    },
    {
     "name": "stderr",
     "output_type": "stream",
     "text": [
      "100%|██████████| 8000/8000 [00:09<00:00, 851.09it/s] \n",
      "  1%|          | 65/8000 [00:00<00:12, 648.94it/s]"
     ]
    },
    {
     "name": "stdout",
     "output_type": "stream",
     "text": [
      "[0.0, 0.012023895853882433, 4.0245056150594264e-05]\n",
      "Search Radius: 0.0013065326633165829 AU.\n",
      "-------------------------\n"
     ]
    },
    {
     "name": "stderr",
     "output_type": "stream",
     "text": [
      "100%|██████████| 8000/8000 [00:09<00:00, 801.82it/s] \n",
      "  1%|          | 58/8000 [00:00<00:13, 576.49it/s]"
     ]
    },
    {
     "name": "stdout",
     "output_type": "stream",
     "text": [
      "[0.0, 0.011680377045336497, 3.922555904597773e-05]\n",
      "Search Radius: 0.0013190954773869346 AU.\n",
      "-------------------------\n"
     ]
    },
    {
     "name": "stderr",
     "output_type": "stream",
     "text": [
      "100%|██████████| 8000/8000 [00:09<00:00, 835.63it/s] \n",
      "  1%|          | 62/8000 [00:00<00:13, 610.35it/s]"
     ]
    },
    {
     "name": "stdout",
     "output_type": "stream",
     "text": [
      "[0.0, 0.012652124375768356, 3.8747518697323564e-05]\n",
      "Search Radius: 0.0013316582914572864 AU.\n",
      "-------------------------\n"
     ]
    },
    {
     "name": "stderr",
     "output_type": "stream",
     "text": [
      "100%|██████████| 8000/8000 [00:09<00:00, 867.52it/s] \n",
      "  1%|          | 71/8000 [00:00<00:11, 709.27it/s]"
     ]
    },
    {
     "name": "stdout",
     "output_type": "stream",
     "text": [
      "[0.0, 0.012297412864729648, 3.8307215306369404e-05]\n",
      "Search Radius: 0.0013442211055276383 AU.\n",
      "-------------------------\n"
     ]
    },
    {
     "name": "stderr",
     "output_type": "stream",
     "text": [
      "100%|██████████| 8000/8000 [00:09<00:00, 878.57it/s] \n",
      "  1%|          | 67/8000 [00:00<00:11, 663.97it/s]"
     ]
    },
    {
     "name": "stdout",
     "output_type": "stream",
     "text": [
      "[0.0, 0.012415981730830639, 3.843955146754447e-05]\n",
      "Search Radius: 0.00135678391959799 AU.\n",
      "-------------------------\n"
     ]
    },
    {
     "name": "stderr",
     "output_type": "stream",
     "text": [
      "100%|██████████| 8000/8000 [00:09<00:00, 827.80it/s] \n",
      "  1%|          | 51/8000 [00:00<00:15, 507.61it/s]"
     ]
    },
    {
     "name": "stdout",
     "output_type": "stream",
     "text": [
      "[0.0, 0.012249441923352285, 3.8848477948454216e-05]\n",
      "Search Radius: 0.0013693467336683418 AU.\n",
      "-------------------------\n"
     ]
    },
    {
     "name": "stderr",
     "output_type": "stream",
     "text": [
      "100%|██████████| 8000/8000 [00:09<00:00, 833.01it/s] \n",
      "  1%|          | 63/8000 [00:00<00:12, 624.96it/s]"
     ]
    },
    {
     "name": "stdout",
     "output_type": "stream",
     "text": [
      "[0.0, 0.011915384894199245, 4.001974845732704e-05]\n",
      "Search Radius: 0.0013819095477386936 AU.\n",
      "-------------------------\n"
     ]
    },
    {
     "name": "stderr",
     "output_type": "stream",
     "text": [
      "100%|██████████| 8000/8000 [00:09<00:00, 865.17it/s] \n",
      "  1%|          | 58/8000 [00:00<00:13, 571.76it/s]"
     ]
    },
    {
     "name": "stdout",
     "output_type": "stream",
     "text": [
      "[0.0, 0.011593365127084865, 3.9756560430928414e-05]\n",
      "Search Radius: 0.0013944723618090453 AU.\n",
      "-------------------------\n"
     ]
    },
    {
     "name": "stderr",
     "output_type": "stream",
     "text": [
      "100%|██████████| 8000/8000 [00:08<00:00, 928.16it/s] \n",
      "  1%|          | 71/8000 [00:00<00:11, 709.31it/s]"
     ]
    },
    {
     "name": "stdout",
     "output_type": "stream",
     "text": [
      "[0.0, 0.012706160868572822, 3.9578114436407866e-05]\n",
      "Search Radius: 0.001407035175879397 AU.\n",
      "-------------------------\n"
     ]
    },
    {
     "name": "stderr",
     "output_type": "stream",
     "text": [
      "100%|██████████| 8000/8000 [00:09<00:00, 849.40it/s] \n",
      "  1%|          | 69/8000 [00:00<00:11, 686.22it/s]"
     ]
    },
    {
     "name": "stdout",
     "output_type": "stream",
     "text": [
      "[0.0, 0.012368847011980058, 3.9848456157974615e-05]\n",
      "Search Radius: 0.0014195979899497488 AU.\n",
      "-------------------------\n"
     ]
    },
    {
     "name": "stderr",
     "output_type": "stream",
     "text": [
      "100%|██████████| 8000/8000 [00:08<00:00, 916.10it/s] \n",
      "  1%|          | 62/8000 [00:00<00:12, 614.17it/s]"
     ]
    },
    {
     "name": "stdout",
     "output_type": "stream",
     "text": [
      "[0.0, 0.0120433679568584, 4.105481746088991e-05]\n",
      "Search Radius: 0.0014321608040201005 AU.\n",
      "-------------------------\n"
     ]
    },
    {
     "name": "stderr",
     "output_type": "stream",
     "text": [
      "100%|██████████| 8000/8000 [00:10<00:00, 776.80it/s] \n",
      "  1%|          | 57/8000 [00:00<00:14, 566.61it/s]"
     ]
    },
    {
     "name": "stdout",
     "output_type": "stream",
     "text": [
      "[0.0, 0.01172920918639414, 4.0939035529019216e-05]\n",
      "Search Radius: 0.0014447236180904523 AU.\n",
      "-------------------------\n"
     ]
    },
    {
     "name": "stderr",
     "output_type": "stream",
     "text": [
      "100%|██████████| 8000/8000 [00:09<00:00, 810.65it/s] \n",
      "  1%|          | 59/8000 [00:00<00:13, 583.76it/s]"
     ]
    },
    {
     "name": "stdout",
     "output_type": "stream",
     "text": [
      "[0.0, 0.011425882794343464, 4.0756571961920325e-05]\n",
      "Search Radius: 0.001457286432160804 AU.\n",
      "-------------------------\n"
     ]
    },
    {
     "name": "stderr",
     "output_type": "stream",
     "text": [
      "100%|██████████| 8000/8000 [00:09<00:00, 867.66it/s] \n",
      "  1%|          | 58/8000 [00:00<00:13, 577.91it/s]"
     ]
    },
    {
     "name": "stdout",
     "output_type": "stream",
     "text": [
      "[0.0, 0.011264516929376616, 4.058591397012822e-05]\n",
      "Search Radius: 0.0014698492462311558 AU.\n",
      "-------------------------\n"
     ]
    },
    {
     "name": "stderr",
     "output_type": "stream",
     "text": [
      "100%|██████████| 8000/8000 [00:09<00:00, 801.60it/s] \n",
      "  1%|          | 61/8000 [00:00<00:13, 603.66it/s]"
     ]
    },
    {
     "name": "stdout",
     "output_type": "stream",
     "text": [
      "[0.0, 0.012399402605639605, 4.074984612953116e-05]\n",
      "Search Radius: 0.0014824120603015075 AU.\n",
      "-------------------------\n"
     ]
    },
    {
     "name": "stderr",
     "output_type": "stream",
     "text": [
      "100%|██████████| 8000/8000 [00:09<00:00, 814.92it/s] \n",
      "  1%|          | 51/8000 [00:00<00:15, 507.57it/s]"
     ]
    },
    {
     "name": "stdout",
     "output_type": "stream",
     "text": [
      "[0.0, 0.012086827527051371, 4.1177213262522695e-05]\n",
      "Search Radius: 0.0014949748743718592 AU.\n",
      "-------------------------\n"
     ]
    },
    {
     "name": "stderr",
     "output_type": "stream",
     "text": [
      "100%|██████████| 8000/8000 [00:09<00:00, 815.28it/s] \n",
      "  1%|          | 71/8000 [00:00<00:11, 703.49it/s]"
     ]
    },
    {
     "name": "stdout",
     "output_type": "stream",
     "text": [
      "[0.0, 0.011784671004591421, 4.1216203901386396e-05]\n",
      "Search Radius: 0.001507537688442211 AU.\n",
      "-------------------------\n"
     ]
    },
    {
     "name": "stderr",
     "output_type": "stream",
     "text": [
      "100%|██████████| 8000/8000 [00:09<00:00, 813.59it/s] \n",
      "  1%|          | 71/8000 [00:00<00:11, 704.98it/s]"
     ]
    },
    {
     "name": "stdout",
     "output_type": "stream",
     "text": [
      "[0.0, 0.012092879240180331, 4.129941350105758e-05]\n",
      "Search Radius: 0.001520100502512563 AU.\n",
      "-------------------------\n"
     ]
    },
    {
     "name": "stderr",
     "output_type": "stream",
     "text": [
      "100%|██████████| 8000/8000 [00:09<00:00, 873.79it/s] \n",
      "  1%|          | 63/8000 [00:00<00:12, 619.45it/s]"
     ]
    },
    {
     "name": "stdout",
     "output_type": "stream",
     "text": [
      "[0.0, 0.011931482129331417, 4.115942235765447e-05]\n",
      "Search Radius: 0.0015326633165829147 AU.\n",
      "-------------------------\n"
     ]
    },
    {
     "name": "stderr",
     "output_type": "stream",
     "text": [
      "100%|██████████| 8000/8000 [00:09<00:00, 874.22it/s] \n",
      "  1%|          | 54/8000 [00:00<00:14, 533.72it/s]"
     ]
    },
    {
     "name": "stdout",
     "output_type": "stream",
     "text": [
      "[0.0, 0.011640483351316021, 4.122507857470246e-05]\n",
      "Search Radius: 0.0015452261306532664 AU.\n",
      "-------------------------\n"
     ]
    },
    {
     "name": "stderr",
     "output_type": "stream",
     "text": [
      "100%|██████████| 8000/8000 [00:09<00:00, 883.17it/s] \n",
      "  1%|          | 71/8000 [00:00<00:11, 700.34it/s]"
     ]
    },
    {
     "name": "stdout",
     "output_type": "stream",
     "text": [
      "[0.0, 0.012111110839173272, 4.086018349548271e-05]\n",
      "Search Radius: 0.0015577889447236182 AU.\n",
      "-------------------------\n"
     ]
    },
    {
     "name": "stderr",
     "output_type": "stream",
     "text": [
      "100%|██████████| 8000/8000 [00:08<00:00, 901.05it/s] \n",
      "  1%|          | 65/8000 [00:00<00:12, 645.00it/s]"
     ]
    },
    {
     "name": "stdout",
     "output_type": "stream",
     "text": [
      "[0.0, 0.01182045673082886, 4.0641143668834715e-05]\n",
      "Search Radius: 0.00157035175879397 AU.\n",
      "-------------------------\n"
     ]
    },
    {
     "name": "stderr",
     "output_type": "stream",
     "text": [
      "100%|██████████| 8000/8000 [00:09<00:00, 822.42it/s] \n",
      "  1%|          | 53/8000 [00:00<00:15, 527.32it/s]"
     ]
    },
    {
     "name": "stdout",
     "output_type": "stream",
     "text": [
      "[0.0, 0.011539029244907439, 4.037361799061737e-05]\n",
      "Search Radius: 0.0015829145728643217 AU.\n",
      "-------------------------\n"
     ]
    },
    {
     "name": "stderr",
     "output_type": "stream",
     "text": [
      "100%|██████████| 8000/8000 [00:08<00:00, 895.05it/s] \n",
      "  1%|          | 55/8000 [00:00<00:14, 545.06it/s]"
     ]
    },
    {
     "name": "stdout",
     "output_type": "stream",
     "text": [
      "[0.0, 0.011388801573096755, 3.9673126988342765e-05]\n",
      "Search Radius: 0.0015954773869346734 AU.\n",
      "-------------------------\n"
     ]
    },
    {
     "name": "stderr",
     "output_type": "stream",
     "text": [
      "100%|██████████| 8000/8000 [00:10<00:00, 791.75it/s] \n",
      "  1%|          | 69/8000 [00:00<00:11, 682.74it/s]"
     ]
    },
    {
     "name": "stdout",
     "output_type": "stream",
     "text": [
      "[0.0, 0.011450135357996964, 3.904726778063534e-05]\n",
      "Search Radius: 0.0016080402010050252 AU.\n",
      "-------------------------\n"
     ]
    },
    {
     "name": "stderr",
     "output_type": "stream",
     "text": [
      "100%|██████████| 8000/8000 [00:08<00:00, 920.52it/s] \n",
      "  1%|          | 70/8000 [00:00<00:11, 698.00it/s]"
     ]
    },
    {
     "name": "stdout",
     "output_type": "stream",
     "text": [
      "[0.0, 0.011183863933095886, 3.8838208426135085e-05]\n",
      "Search Radius: 0.001620603015075377 AU.\n",
      "-------------------------\n"
     ]
    },
    {
     "name": "stderr",
     "output_type": "stream",
     "text": [
      "100%|██████████| 8000/8000 [00:08<00:00, 940.71it/s] \n",
      "  1%|          | 48/8000 [00:00<00:17, 466.52it/s]"
     ]
    },
    {
     "name": "stdout",
     "output_type": "stream",
     "text": [
      "[0.0, 0.012757292560412815, 3.832784315525766e-05]\n",
      "Search Radius: 0.0016331658291457286 AU.\n",
      "-------------------------\n"
     ]
    },
    {
     "name": "stderr",
     "output_type": "stream",
     "text": [
      "100%|██████████| 8000/8000 [00:09<00:00, 853.69it/s] \n",
      "  1%|          | 70/8000 [00:00<00:11, 698.20it/s]"
     ]
    },
    {
     "name": "stdout",
     "output_type": "stream",
     "text": [
      "[0.0, 0.012465152302785628, 3.850583883663028e-05]\n",
      "Search Radius: 0.0016457286432160804 AU.\n",
      "-------------------------\n"
     ]
    },
    {
     "name": "stderr",
     "output_type": "stream",
     "text": [
      "100%|██████████| 8000/8000 [00:08<00:00, 964.38it/s] \n",
      "  1%|          | 78/8000 [00:00<00:10, 777.06it/s]"
     ]
    },
    {
     "name": "stdout",
     "output_type": "stream",
     "text": [
      "[0.0, 0.012181864350339926, 3.866211857812069e-05]\n",
      "Search Radius: 0.0016582914572864321 AU.\n",
      "-------------------------\n"
     ]
    },
    {
     "name": "stderr",
     "output_type": "stream",
     "text": [
      "100%|██████████| 8000/8000 [00:08<00:00, 924.08it/s] \n",
      "  1%|          | 60/8000 [00:00<00:13, 593.94it/s]"
     ]
    },
    {
     "name": "stdout",
     "output_type": "stream",
     "text": [
      "[0.0, 0.012264006249100814, 3.8407623950476864e-05]\n",
      "Search Radius: 0.0016708542713567839 AU.\n",
      "-------------------------\n"
     ]
    },
    {
     "name": "stderr",
     "output_type": "stream",
     "text": [
      "100%|██████████| 8000/8000 [00:08<00:00, 926.63it/s] \n",
      "  1%|          | 62/8000 [00:00<00:12, 614.22it/s]"
     ]
    },
    {
     "name": "stdout",
     "output_type": "stream",
     "text": [
      "[0.0, 0.011989449254063372, 3.816275596071808e-05]\n",
      "Search Radius: 0.0016834170854271356 AU.\n",
      "-------------------------\n"
     ]
    },
    {
     "name": "stderr",
     "output_type": "stream",
     "text": [
      "100%|██████████| 8000/8000 [00:08<00:00, 929.52it/s] \n",
      "  1%|          | 72/8000 [00:00<00:11, 718.51it/s]"
     ]
    },
    {
     "name": "stdout",
     "output_type": "stream",
     "text": [
      "[0.0, 0.012560156381916796, 3.900687344257455e-05]\n",
      "Search Radius: 0.0016959798994974874 AU.\n",
      "-------------------------\n"
     ]
    },
    {
     "name": "stderr",
     "output_type": "stream",
     "text": [
      "100%|██████████| 8000/8000 [00:09<00:00, 883.77it/s] \n",
      "  1%|          | 74/8000 [00:00<00:10, 734.96it/s]"
     ]
    },
    {
     "name": "stdout",
     "output_type": "stream",
     "text": [
      "[0.0, 0.01228310420612936, 3.9362871902259234e-05]\n",
      "Search Radius: 0.0017085427135678393 AU.\n",
      "-------------------------\n"
     ]
    },
    {
     "name": "stderr",
     "output_type": "stream",
     "text": [
      "100%|██████████| 8000/8000 [00:08<00:00, 897.03it/s] \n",
      "  1%|          | 58/8000 [00:00<00:13, 571.56it/s]"
     ]
    },
    {
     "name": "stdout",
     "output_type": "stream",
     "text": [
      "[0.0, 0.01201414078050084, 3.904607941531079e-05]\n",
      "Search Radius: 0.001721105527638191 AU.\n",
      "-------------------------\n"
     ]
    },
    {
     "name": "stderr",
     "output_type": "stream",
     "text": [
      "100%|██████████| 8000/8000 [00:08<00:00, 927.08it/s] \n",
      "  1%|          | 65/8000 [00:00<00:12, 644.31it/s]"
     ]
    },
    {
     "name": "stdout",
     "output_type": "stream",
     "text": [
      "[0.0, 0.012260797994012921, 3.872225145644338e-05]\n",
      "Search Radius: 0.0017336683417085428 AU.\n",
      "-------------------------\n"
     ]
    },
    {
     "name": "stderr",
     "output_type": "stream",
     "text": [
      "100%|██████████| 8000/8000 [00:08<00:00, 953.68it/s] \n",
      "  1%|          | 69/8000 [00:00<00:11, 687.96it/s]"
     ]
    },
    {
     "name": "stdout",
     "output_type": "stream",
     "text": [
      "[0.0, 0.011996185684524286, 3.824514112577999e-05]\n",
      "Search Radius: 0.0017462311557788946 AU.\n",
      "-------------------------\n"
     ]
    },
    {
     "name": "stderr",
     "output_type": "stream",
     "text": [
      "100%|██████████| 8000/8000 [00:08<00:00, 924.61it/s] \n",
      "  1%|          | 67/8000 [00:00<00:11, 665.22it/s]"
     ]
    },
    {
     "name": "stdout",
     "output_type": "stream",
     "text": [
      "[0.0, 0.011739133400642126, 3.7936916814416144e-05]\n",
      "Search Radius: 0.0017587939698492463 AU.\n",
      "-------------------------\n"
     ]
    },
    {
     "name": "stderr",
     "output_type": "stream",
     "text": [
      "100%|██████████| 8000/8000 [00:08<00:00, 942.84it/s] \n",
      "  1%|          | 54/8000 [00:00<00:14, 534.19it/s]"
     ]
    },
    {
     "name": "stdout",
     "output_type": "stream",
     "text": [
      "[0.0, 0.01156978760239326, 3.804158961962211e-05]\n",
      "Search Radius: 0.001771356783919598 AU.\n",
      "-------------------------\n"
     ]
    },
    {
     "name": "stderr",
     "output_type": "stream",
     "text": [
      "100%|██████████| 8000/8000 [00:12<00:00, 660.34it/s] \n",
      "  1%|          | 59/8000 [00:00<00:13, 585.85it/s]"
     ]
    },
    {
     "name": "stdout",
     "output_type": "stream",
     "text": [
      "[0.0, 0.01132536363738967, 3.867636688809013e-05]\n",
      "Search Radius: 0.0017839195979899498 AU.\n",
      "-------------------------\n"
     ]
    },
    {
     "name": "stderr",
     "output_type": "stream",
     "text": [
      "100%|██████████| 8000/8000 [00:10<00:00, 792.37it/s] \n",
      "  1%|          | 59/8000 [00:00<00:13, 588.25it/s]"
     ]
    },
    {
     "name": "stdout",
     "output_type": "stream",
     "text": [
      "[0.0, 0.011166077694201162, 3.844325841841373e-05]\n",
      "Search Radius: 0.0017964824120603015 AU.\n",
      "-------------------------\n"
     ]
    },
    {
     "name": "stderr",
     "output_type": "stream",
     "text": [
      "100%|██████████| 8000/8000 [00:08<00:00, 902.57it/s] \n",
      "  0%|          | 37/8000 [00:00<00:21, 369.18it/s]"
     ]
    },
    {
     "name": "stdout",
     "output_type": "stream",
     "text": [
      "[0.0, 0.011214178265897632, 3.8300632194980775e-05]\n",
      "Search Radius: 0.0018090452261306533 AU.\n",
      "-------------------------\n"
     ]
    },
    {
     "name": "stderr",
     "output_type": "stream",
     "text": [
      "100%|██████████| 8000/8000 [00:10<00:00, 754.11it/s] \n",
      "  1%|          | 46/8000 [00:00<00:17, 454.97it/s]"
     ]
    },
    {
     "name": "stdout",
     "output_type": "stream",
     "text": [
      "[0.0, 0.010982168218043275, 3.804235010473012e-05]\n",
      "Search Radius: 0.001821608040201005 AU.\n",
      "-------------------------\n"
     ]
    },
    {
     "name": "stderr",
     "output_type": "stream",
     "text": [
      "100%|██████████| 8000/8000 [00:09<00:00, 833.53it/s] \n",
      "  1%|          | 63/8000 [00:00<00:12, 619.37it/s]"
     ]
    },
    {
     "name": "stdout",
     "output_type": "stream",
     "text": [
      "[0.0, 0.010756514357910774, 3.8372649424710404e-05]\n",
      "Search Radius: 0.0018341708542713568 AU.\n",
      "-------------------------\n"
     ]
    },
    {
     "name": "stderr",
     "output_type": "stream",
     "text": [
      "100%|██████████| 8000/8000 [00:09<00:00, 840.78it/s] \n",
      "  1%|          | 74/8000 [00:00<00:10, 735.42it/s]"
     ]
    },
    {
     "name": "stdout",
     "output_type": "stream",
     "text": [
      "[0.0, 0.011306164892622558, 3.852758558952447e-05]\n",
      "Search Radius: 0.0018467336683417085 AU.\n",
      "-------------------------\n"
     ]
    },
    {
     "name": "stderr",
     "output_type": "stream",
     "text": [
      "100%|██████████| 8000/8000 [00:09<00:00, 832.17it/s] \n",
      "  1%|          | 51/8000 [00:00<00:15, 505.59it/s]"
     ]
    },
    {
     "name": "stdout",
     "output_type": "stream",
     "text": [
      "[0.0, 0.011076992920960054, 3.918590675865343e-05]\n",
      "Search Radius: 0.0018592964824120603 AU.\n",
      "-------------------------\n"
     ]
    },
    {
     "name": "stderr",
     "output_type": "stream",
     "text": [
      "100%|██████████| 8000/8000 [00:09<00:00, 857.52it/s] \n",
      "  1%|          | 48/8000 [00:00<00:16, 473.84it/s]"
     ]
    },
    {
     "name": "stdout",
     "output_type": "stream",
     "text": [
      "[0.0, 0.010952368310374253, 3.945435845818526e-05]\n",
      "Search Radius: 0.001871859296482412 AU.\n",
      "-------------------------\n"
     ]
    },
    {
     "name": "stderr",
     "output_type": "stream",
     "text": [
      "100%|██████████| 8000/8000 [00:09<00:00, 832.41it/s] \n",
      "  1%|          | 71/8000 [00:00<00:11, 707.15it/s]"
     ]
    },
    {
     "name": "stdout",
     "output_type": "stream",
     "text": [
      "[0.0, 0.010939043292685843, 3.9163627191204236e-05]\n",
      "Search Radius: 0.001884422110552764 AU.\n",
      "-------------------------\n"
     ]
    },
    {
     "name": "stderr",
     "output_type": "stream",
     "text": [
      "100%|██████████| 8000/8000 [00:09<00:00, 885.48it/s] \n",
      "  1%|          | 48/8000 [00:00<00:16, 478.58it/s]"
     ]
    },
    {
     "name": "stdout",
     "output_type": "stream",
     "text": [
      "[0.0, 0.010721717724739805, 3.950495329477486e-05]\n",
      "Search Radius: 0.0018969849246231157 AU.\n",
      "-------------------------\n"
     ]
    },
    {
     "name": "stderr",
     "output_type": "stream",
     "text": [
      "100%|██████████| 8000/8000 [00:09<00:00, 823.81it/s] \n",
      "  1%|          | 71/8000 [00:00<00:11, 709.91it/s]"
     ]
    },
    {
     "name": "stdout",
     "output_type": "stream",
     "text": [
      "[0.0, 0.010510111041660726, 3.9304150458275676e-05]\n",
      "Search Radius: 0.0019095477386934674 AU.\n",
      "-------------------------\n"
     ]
    },
    {
     "name": "stderr",
     "output_type": "stream",
     "text": [
      "100%|██████████| 8000/8000 [00:08<00:00, 931.75it/s] \n",
      "  1%|          | 71/8000 [00:00<00:11, 702.26it/s]"
     ]
    },
    {
     "name": "stdout",
     "output_type": "stream",
     "text": [
      "[0.0, 0.010304036359902607, 3.920634064357465e-05]\n",
      "Search Radius: 0.0019221105527638192 AU.\n",
      "-------------------------\n"
     ]
    },
    {
     "name": "stderr",
     "output_type": "stream",
     "text": [
      "100%|██████████| 8000/8000 [00:09<00:00, 871.93it/s] \n",
      "  1%|          | 62/8000 [00:00<00:13, 609.35it/s]"
     ]
    },
    {
     "name": "stdout",
     "output_type": "stream",
     "text": [
      "[0.0, 0.010103314076731235, 3.9031767134873637e-05]\n",
      "Search Radius: 0.001934673366834171 AU.\n",
      "-------------------------\n"
     ]
    },
    {
     "name": "stderr",
     "output_type": "stream",
     "text": [
      "100%|██████████| 8000/8000 [00:08<00:00, 950.82it/s] \n",
      "  1%|          | 53/8000 [00:00<00:15, 526.96it/s]"
     ]
    },
    {
     "name": "stdout",
     "output_type": "stream",
     "text": [
      "[0.0, 0.009907771541432063, 3.892232435226899e-05]\n",
      "Search Radius: 0.0019472361809045227 AU.\n",
      "-------------------------\n"
     ]
    },
    {
     "name": "stderr",
     "output_type": "stream",
     "text": [
      "100%|██████████| 8000/8000 [00:08<00:00, 918.52it/s] \n",
      "  1%|          | 74/8000 [00:00<00:10, 729.71it/s]"
     ]
    },
    {
     "name": "stdout",
     "output_type": "stream",
     "text": [
      "[0.0, 0.009717242743378022, 3.889127174814495e-05]\n",
      "Search Radius: 0.001959798994974874 AU.\n",
      "-------------------------\n"
     ]
    },
    {
     "name": "stderr",
     "output_type": "stream",
     "text": [
      "100%|██████████| 8000/8000 [00:08<00:00, 895.53it/s] \n",
      "  1%|          | 62/8000 [00:00<00:12, 616.07it/s]"
     ]
    },
    {
     "name": "stdout",
     "output_type": "stream",
     "text": [
      "[0.0, 0.009531568015991098, 3.942677653719536e-05]\n",
      "Search Radius: 0.0019723618090452264 AU.\n",
      "-------------------------\n"
     ]
    },
    {
     "name": "stderr",
     "output_type": "stream",
     "text": [
      "100%|██████████| 8000/8000 [00:08<00:00, 898.02it/s] \n",
      "  1%|          | 63/8000 [00:00<00:12, 626.56it/s]"
     ]
    },
    {
     "name": "stdout",
     "output_type": "stream",
     "text": [
      "[0.0, 0.00985359745907548, 3.943846114629575e-05]\n",
      "Search Radius: 0.001984924623115578 AU.\n",
      "-------------------------\n"
     ]
    },
    {
     "name": "stderr",
     "output_type": "stream",
     "text": [
      "100%|██████████| 8000/8000 [00:09<00:00, 886.88it/s] \n",
      "  1%|          | 64/8000 [00:00<00:12, 639.83it/s]"
     ]
    },
    {
     "name": "stdout",
     "output_type": "stream",
     "text": [
      "[0.0, 0.009667685475107948, 3.9085454364144734e-05]\n",
      "Search Radius: 0.00199748743718593 AU.\n",
      "-------------------------\n"
     ]
    },
    {
     "name": "stderr",
     "output_type": "stream",
     "text": [
      "100%|██████████| 8000/8000 [00:09<00:00, 825.87it/s] \n",
      "  1%|          | 50/8000 [00:00<00:16, 495.97it/s]"
     ]
    },
    {
     "name": "stdout",
     "output_type": "stream",
     "text": [
      "[0.0, 0.009486421137532121, 3.9035761365064854e-05]\n",
      "Search Radius: 0.0020100502512562816 AU.\n",
      "-------------------------\n"
     ]
    },
    {
     "name": "stderr",
     "output_type": "stream",
     "text": [
      "100%|██████████| 8000/8000 [00:10<00:00, 756.74it/s] \n",
      "  1%|          | 44/8000 [00:00<00:18, 438.73it/s]"
     ]
    },
    {
     "name": "stdout",
     "output_type": "stream",
     "text": [
      "[0.0, 0.009368879918207465, 3.886062171298123e-05]\n",
      "Search Radius: 0.0020226130653266334 AU.\n",
      "-------------------------\n"
     ]
    },
    {
     "name": "stderr",
     "output_type": "stream",
     "text": [
      "100%|██████████| 8000/8000 [00:09<00:00, 807.03it/s] \n",
      "  1%|          | 55/8000 [00:00<00:14, 547.04it/s]"
     ]
    },
    {
     "name": "stdout",
     "output_type": "stream",
     "text": [
      "[0.0, 0.009271819781686341, 3.848790344367179e-05]\n",
      "Search Radius: 0.002035175879396985 AU.\n",
      "-------------------------\n"
     ]
    },
    {
     "name": "stderr",
     "output_type": "stream",
     "text": [
      "100%|██████████| 8000/8000 [00:09<00:00, 840.99it/s] \n",
      "  1%|          | 61/8000 [00:00<00:13, 608.77it/s]"
     ]
    },
    {
     "name": "stdout",
     "output_type": "stream",
     "text": [
      "[0.0, 0.009101177113342723, 3.85473408784813e-05]\n",
      "Search Radius: 0.002047738693467337 AU.\n",
      "-------------------------\n"
     ]
    },
    {
     "name": "stderr",
     "output_type": "stream",
     "text": [
      "100%|██████████| 8000/8000 [00:09<00:00, 826.95it/s] \n",
      "  1%|          | 47/8000 [00:00<00:17, 454.86it/s]"
     ]
    },
    {
     "name": "stdout",
     "output_type": "stream",
     "text": [
      "[0.0, 0.009008350410609009, 3.838427415991105e-05]\n",
      "Search Radius: 0.0020603015075376886 AU.\n",
      "-------------------------\n"
     ]
    },
    {
     "name": "stderr",
     "output_type": "stream",
     "text": [
      "100%|██████████| 8000/8000 [00:09<00:00, 840.75it/s] \n",
      "  1%|          | 57/8000 [00:00<00:14, 562.61it/s]"
     ]
    },
    {
     "name": "stdout",
     "output_type": "stream",
     "text": [
      "[0.0, 0.008971921196558088, 3.799591482810584e-05]\n",
      "Search Radius: 0.0020728643216080403 AU.\n",
      "-------------------------\n"
     ]
    },
    {
     "name": "stderr",
     "output_type": "stream",
     "text": [
      "100%|██████████| 8000/8000 [00:09<00:00, 847.35it/s] \n",
      "  1%|          | 62/8000 [00:00<00:12, 619.13it/s]"
     ]
    },
    {
     "name": "stdout",
     "output_type": "stream",
     "text": [
      "[0.0, 0.00885661168543646, 3.7646239952122826e-05]\n",
      "Search Radius: 0.002085427135678392 AU.\n",
      "-------------------------\n"
     ]
    },
    {
     "name": "stderr",
     "output_type": "stream",
     "text": [
      "100%|██████████| 8000/8000 [00:09<00:00, 808.68it/s] \n",
      "  1%|          | 54/8000 [00:00<00:14, 535.86it/s]"
     ]
    },
    {
     "name": "stdout",
     "output_type": "stream",
     "text": [
      "[0.0, 0.008697514714273246, 3.730266314855811e-05]\n",
      "Search Radius: 0.002097989949748744 AU.\n",
      "-------------------------\n"
     ]
    },
    {
     "name": "stderr",
     "output_type": "stream",
     "text": [
      "100%|██████████| 8000/8000 [00:09<00:00, 825.11it/s] \n",
      "  1%|          | 65/8000 [00:00<00:12, 645.78it/s]"
     ]
    },
    {
     "name": "stdout",
     "output_type": "stream",
     "text": [
      "[0.0, 0.008542205653043566, 3.714392278250663e-05]\n",
      "Search Radius: 0.0021105527638190956 AU.\n",
      "-------------------------\n"
     ]
    },
    {
     "name": "stderr",
     "output_type": "stream",
     "text": [
      "100%|██████████| 8000/8000 [00:09<00:00, 872.83it/s] \n",
      "  1%|          | 66/8000 [00:00<00:12, 652.91it/s]"
     ]
    },
    {
     "name": "stdout",
     "output_type": "stream",
     "text": [
      "[0.0, 0.008390572437388907, 3.7255027826376066e-05]\n",
      "Search Radius: 0.0021231155778894473 AU.\n",
      "-------------------------\n"
     ]
    },
    {
     "name": "stderr",
     "output_type": "stream",
     "text": [
      "100%|██████████| 8000/8000 [00:09<00:00, 810.37it/s] \n",
      "  1%|          | 51/8000 [00:00<00:15, 501.80it/s]"
     ]
    },
    {
     "name": "stdout",
     "output_type": "stream",
     "text": [
      "[0.0, 0.008550857954897687, 3.738149361390953e-05]\n",
      "Search Radius: 0.002135678391959799 AU.\n",
      "-------------------------\n"
     ]
    },
    {
     "name": "stderr",
     "output_type": "stream",
     "text": [
      "100%|██████████| 8000/8000 [00:10<00:00, 773.01it/s] \n",
      "  1%|          | 66/8000 [00:00<00:12, 657.31it/s]"
     ]
    },
    {
     "name": "stdout",
     "output_type": "stream",
     "text": [
      "[0.0, 0.008789425247216256, 3.7711694796841045e-05]\n",
      "Search Radius: 0.002148241206030151 AU.\n",
      "-------------------------\n"
     ]
    },
    {
     "name": "stderr",
     "output_type": "stream",
     "text": [
      "100%|██████████| 8000/8000 [00:09<00:00, 865.21it/s] \n",
      "  1%|          | 52/8000 [00:00<00:15, 513.71it/s]"
     ]
    },
    {
     "name": "stdout",
     "output_type": "stream",
     "text": [
      "[0.0, 0.008947014405746311, 3.857052411571462e-05]\n",
      "Search Radius: 0.0021608040201005025 AU.\n",
      "-------------------------\n"
     ]
    },
    {
     "name": "stderr",
     "output_type": "stream",
     "text": [
      "100%|██████████| 8000/8000 [00:09<00:00, 863.47it/s] \n",
      "  1%|          | 52/8000 [00:00<00:15, 516.71it/s]"
     ]
    },
    {
     "name": "stdout",
     "output_type": "stream",
     "text": [
      "[0.0, 0.00938370097662844, 3.8894245778529924e-05]\n",
      "Search Radius: 0.0021733668341708543 AU.\n",
      "-------------------------\n"
     ]
    },
    {
     "name": "stderr",
     "output_type": "stream",
     "text": [
      "100%|██████████| 8000/8000 [00:09<00:00, 861.07it/s] \n",
      "  1%|          | 59/8000 [00:00<00:13, 584.77it/s]"
     ]
    },
    {
     "name": "stdout",
     "output_type": "stream",
     "text": [
      "[0.0, 0.009301256579187565, 3.863174666989535e-05]\n",
      "Search Radius: 0.002185929648241206 AU.\n",
      "-------------------------\n"
     ]
    },
    {
     "name": "stderr",
     "output_type": "stream",
     "text": [
      "100%|██████████| 8000/8000 [00:09<00:00, 857.20it/s] \n",
      "  1%|          | 65/8000 [00:00<00:12, 649.84it/s]"
     ]
    },
    {
     "name": "stdout",
     "output_type": "stream",
     "text": [
      "[0.0, 0.009736263790092993, 3.825207440072536e-05]\n",
      "Search Radius: 0.0021984924623115578 AU.\n",
      "-------------------------\n"
     ]
    },
    {
     "name": "stderr",
     "output_type": "stream",
     "text": [
      "100%|██████████| 8000/8000 [00:09<00:00, 850.15it/s] \n",
      "  1%|          | 58/8000 [00:00<00:13, 577.27it/s]"
     ]
    },
    {
     "name": "stdout",
     "output_type": "stream",
     "text": [
      "[0.0, 0.009613152594841618, 3.80567910039459e-05]\n",
      "Search Radius: 0.0022110552763819095 AU.\n",
      "-------------------------\n"
     ]
    },
    {
     "name": "stderr",
     "output_type": "stream",
     "text": [
      "100%|██████████| 8000/8000 [00:09<00:00, 813.25it/s] \n",
      "  1%|          | 53/8000 [00:00<00:15, 517.83it/s]"
     ]
    },
    {
     "name": "stdout",
     "output_type": "stream",
     "text": [
      "[0.0, 0.009450221301825178, 3.79709070739817e-05]\n",
      "Search Radius: 0.0022236180904522613 AU.\n",
      "-------------------------\n"
     ]
    },
    {
     "name": "stderr",
     "output_type": "stream",
     "text": [
      "100%|██████████| 8000/8000 [00:09<00:00, 806.91it/s] \n",
      "  1%|          | 57/8000 [00:00<00:14, 565.14it/s]"
     ]
    },
    {
     "name": "stdout",
     "output_type": "stream",
     "text": [
      "[0.0, 0.009688742021498945, 3.825379457489529e-05]\n",
      "Search Radius: 0.002236180904522613 AU.\n",
      "-------------------------\n"
     ]
    },
    {
     "name": "stderr",
     "output_type": "stream",
     "text": [
      "100%|██████████| 8000/8000 [00:09<00:00, 817.10it/s] \n",
      "  1%|          | 60/8000 [00:00<00:13, 597.35it/s]"
     ]
    },
    {
     "name": "stdout",
     "output_type": "stream",
     "text": [
      "[0.0, 0.010256292759289123, 3.85185023158031e-05]\n",
      "Search Radius: 0.0022487437185929647 AU.\n",
      "-------------------------\n"
     ]
    },
    {
     "name": "stderr",
     "output_type": "stream",
     "text": [
      "100%|██████████| 8000/8000 [00:08<00:00, 901.11it/s] \n",
      "  1%|          | 71/8000 [00:00<00:11, 705.05it/s]"
     ]
    },
    {
     "name": "stdout",
     "output_type": "stream",
     "text": [
      "[0.0, 0.010244996760162484, 3.853481924446085e-05]\n",
      "Search Radius: 0.0022613065326633165 AU.\n",
      "-------------------------\n"
     ]
    },
    {
     "name": "stderr",
     "output_type": "stream",
     "text": [
      "100%|██████████| 8000/8000 [00:09<00:00, 837.42it/s] \n",
      "  1%|          | 57/8000 [00:00<00:13, 569.55it/s]"
     ]
    },
    {
     "name": "stdout",
     "output_type": "stream",
     "text": [
      "[0.0, 0.010075193668284216, 3.8665798130775395e-05]\n",
      "Search Radius: 0.0022738693467336682 AU.\n",
      "-------------------------\n"
     ]
    },
    {
     "name": "stderr",
     "output_type": "stream",
     "text": [
      "100%|██████████| 8000/8000 [00:09<00:00, 805.26it/s] \n",
      "  1%|          | 59/8000 [00:00<00:13, 589.39it/s]"
     ]
    },
    {
     "name": "stdout",
     "output_type": "stream",
     "text": [
      "[0.0, 0.010231073765040542, 3.869668451106839e-05]\n",
      "Search Radius: 0.00228643216080402 AU.\n",
      "-------------------------\n"
     ]
    },
    {
     "name": "stderr",
     "output_type": "stream",
     "text": [
      "100%|██████████| 8000/8000 [00:10<00:00, 794.25it/s] \n",
      "  1%|          | 58/8000 [00:00<00:13, 573.07it/s]"
     ]
    },
    {
     "name": "stdout",
     "output_type": "stream",
     "text": [
      "[0.0, 0.010063354610677904, 3.8599305946301484e-05]\n",
      "Search Radius: 0.0022989949748743717 AU.\n",
      "-------------------------\n"
     ]
    },
    {
     "name": "stderr",
     "output_type": "stream",
     "text": [
      "100%|██████████| 8000/8000 [00:09<00:00, 805.29it/s] \n",
      "  1%|          | 60/8000 [00:00<00:13, 592.94it/s]"
     ]
    },
    {
     "name": "stdout",
     "output_type": "stream",
     "text": [
      "[0.0, 0.010530074082387505, 3.870461888479799e-05]\n",
      "Search Radius: 0.0023115577889447235 AU.\n",
      "-------------------------\n"
     ]
    },
    {
     "name": "stderr",
     "output_type": "stream",
     "text": [
      "100%|██████████| 8000/8000 [00:10<00:00, 794.58it/s] \n",
      "  1%|          | 61/8000 [00:00<00:13, 605.39it/s]"
     ]
    },
    {
     "name": "stdout",
     "output_type": "stream",
     "text": [
      "[0.0, 0.010639680992865552, 3.9243109132591e-05]\n",
      "Search Radius: 0.0023241206030150756 AU.\n",
      "-------------------------\n"
     ]
    },
    {
     "name": "stderr",
     "output_type": "stream",
     "text": [
      "100%|██████████| 8000/8000 [00:09<00:00, 863.14it/s] \n",
      "  1%|          | 72/8000 [00:00<00:11, 719.43it/s]"
     ]
    },
    {
     "name": "stdout",
     "output_type": "stream",
     "text": [
      "[0.0, 0.010468076568618622, 3.923367224377647e-05]\n",
      "Search Radius: 0.0023366834170854274 AU.\n",
      "-------------------------\n"
     ]
    },
    {
     "name": "stderr",
     "output_type": "stream",
     "text": [
      "100%|██████████| 8000/8000 [00:09<00:00, 825.19it/s] \n",
      "  1%|          | 58/8000 [00:00<00:13, 579.84it/s]"
     ]
    },
    {
     "name": "stdout",
     "output_type": "stream",
     "text": [
      "[0.0, 0.010767002363121838, 3.907835185461535e-05]\n",
      "Search Radius: 0.002349246231155779 AU.\n",
      "-------------------------\n"
     ]
    },
    {
     "name": "stderr",
     "output_type": "stream",
     "text": [
      "100%|██████████| 8000/8000 [00:09<00:00, 866.01it/s] \n",
      "  1%|          | 72/8000 [00:00<00:11, 714.79it/s]"
     ]
    },
    {
     "name": "stdout",
     "output_type": "stream",
     "text": [
      "[0.0, 0.010990060098381965, 3.86356693870958e-05]\n",
      "Search Radius: 0.002361809045226131 AU.\n",
      "-------------------------\n"
     ]
    },
    {
     "name": "stderr",
     "output_type": "stream",
     "text": [
      "100%|██████████| 8000/8000 [00:09<00:00, 844.76it/s] \n",
      "  1%|          | 55/8000 [00:00<00:14, 545.89it/s]"
     ]
    },
    {
     "name": "stdout",
     "output_type": "stream",
     "text": [
      "[0.0, 0.011026285728920705, 3.866835861201832e-05]\n",
      "Search Radius: 0.0023743718592964826 AU.\n",
      "-------------------------\n"
     ]
    },
    {
     "name": "stderr",
     "output_type": "stream",
     "text": [
      "100%|██████████| 8000/8000 [00:09<00:00, 811.27it/s] \n",
      "  1%|          | 49/8000 [00:00<00:16, 482.57it/s]"
     ]
    },
    {
     "name": "stdout",
     "output_type": "stream",
     "text": [
      "[0.0, 0.011243051898945623, 3.8958263308032986e-05]\n",
      "Search Radius: 0.0023869346733668344 AU.\n",
      "-------------------------\n"
     ]
    },
    {
     "name": "stderr",
     "output_type": "stream",
     "text": [
      "100%|██████████| 8000/8000 [00:09<00:00, 858.44it/s] \n",
      "  1%|          | 65/8000 [00:00<00:12, 646.82it/s]"
     ]
    },
    {
     "name": "stdout",
     "output_type": "stream",
     "text": [
      "[0.0, 0.011434142041636342, 3.912790688393691e-05]\n",
      "Search Radius: 0.002399497487437186 AU.\n",
      "-------------------------\n"
     ]
    },
    {
     "name": "stderr",
     "output_type": "stream",
     "text": [
      "100%|██████████| 8000/8000 [00:09<00:00, 848.79it/s] \n",
      "  1%|          | 59/8000 [00:00<00:13, 588.90it/s]"
     ]
    },
    {
     "name": "stdout",
     "output_type": "stream",
     "text": [
      "[0.0, 0.01149496350521139, 3.942141621987236e-05]\n",
      "Search Radius: 0.002412060301507538 AU.\n",
      "-------------------------\n"
     ]
    },
    {
     "name": "stderr",
     "output_type": "stream",
     "text": [
      "100%|██████████| 8000/8000 [00:08<00:00, 903.68it/s] \n",
      "  1%|          | 70/8000 [00:00<00:11, 693.80it/s]"
     ]
    },
    {
     "name": "stdout",
     "output_type": "stream",
     "text": [
      "[0.0, 0.011561869703963716, 3.9393868141914524e-05]\n",
      "Search Radius: 0.0024246231155778896 AU.\n",
      "-------------------------\n"
     ]
    },
    {
     "name": "stderr",
     "output_type": "stream",
     "text": [
      "100%|██████████| 8000/8000 [00:08<00:00, 905.00it/s] \n",
      "  1%|          | 66/8000 [00:00<00:12, 642.42it/s]"
     ]
    },
    {
     "name": "stdout",
     "output_type": "stream",
     "text": [
      "[0.0, 0.011531215143085256, 3.96454261858109e-05]\n",
      "Search Radius: 0.0024371859296482413 AU.\n",
      "-------------------------\n"
     ]
    },
    {
     "name": "stderr",
     "output_type": "stream",
     "text": [
      "100%|██████████| 8000/8000 [00:08<00:00, 902.30it/s] \n",
      "  1%|          | 57/8000 [00:00<00:13, 569.40it/s]"
     ]
    },
    {
     "name": "stdout",
     "output_type": "stream",
     "text": [
      "[0.0, 0.01138526357665087, 3.94551217494628e-05]\n",
      "Search Radius: 0.002449748743718593 AU.\n",
      "-------------------------\n"
     ]
    },
    {
     "name": "stderr",
     "output_type": "stream",
     "text": [
      "100%|██████████| 8000/8000 [00:09<00:00, 857.57it/s] \n",
      "  1%|          | 62/8000 [00:00<00:12, 612.30it/s]"
     ]
    },
    {
     "name": "stdout",
     "output_type": "stream",
     "text": [
      "[0.0, 0.011211002385656059, 3.9180140648233106e-05]\n",
      "Search Radius: 0.002462311557788945 AU.\n",
      "-------------------------\n"
     ]
    },
    {
     "name": "stderr",
     "output_type": "stream",
     "text": [
      "100%|██████████| 8000/8000 [00:09<00:00, 864.43it/s] \n",
      "  1%|          | 61/8000 [00:00<00:13, 603.74it/s]"
     ]
    },
    {
     "name": "stdout",
     "output_type": "stream",
     "text": [
      "[0.0, 0.011181714971811828, 3.905731515857596e-05]\n",
      "Search Radius: 0.0024748743718592966 AU.\n",
      "-------------------------\n"
     ]
    },
    {
     "name": "stderr",
     "output_type": "stream",
     "text": [
      "100%|██████████| 8000/8000 [00:09<00:00, 816.20it/s] \n",
      "  1%|          | 56/8000 [00:00<00:14, 556.67it/s]"
     ]
    },
    {
     "name": "stdout",
     "output_type": "stream",
     "text": [
      "[0.0, 0.011039595068490764, 3.8903997944030746e-05]\n",
      "Search Radius: 0.0024874371859296483 AU.\n",
      "-------------------------\n"
     ]
    },
    {
     "name": "stderr",
     "output_type": "stream",
     "text": [
      "100%|██████████| 8000/8000 [00:10<00:00, 778.40it/s] \n",
      "  1%|          | 64/8000 [00:00<00:12, 633.48it/s]"
     ]
    },
    {
     "name": "stdout",
     "output_type": "stream",
     "text": [
      "[0.0, 0.011222518708785342, 3.8851320641358975e-05]\n",
      "Search Radius: 0.0025 AU.\n",
      "-------------------------\n"
     ]
    },
    {
     "name": "stderr",
     "output_type": "stream",
     "text": [
      "100%|██████████| 8000/8000 [00:09<00:00, 856.10it/s] "
     ]
    },
    {
     "name": "stdout",
     "output_type": "stream",
     "text": [
      "[0.0, 0.011140534722842486, 3.907776244573209e-05]\n"
     ]
    },
    {
     "name": "stderr",
     "output_type": "stream",
     "text": [
      "\n"
     ]
    }
   ],
   "source": [
    "for i in np.linspace(0,0.0025,200)[1:]:\n",
    "    print(f\"Search Radius: {i} AU.\")\n",
    "    print(\"-------------------------\")\n",
    "    rates, t = rate_at_destiny(points, KDTrees, masses, n=8000, r =i, norm = 1e14)\n",
    "\n",
    "    dt=t[2] - t[1]\n",
    "\n",
    "    print([np.sum(dt*j) for j in rates])"
   ]
  },
  {
   "cell_type": "code",
   "execution_count": 22,
   "metadata": {},
   "outputs": [
    {
     "name": "stdout",
     "output_type": "stream",
     "text": [
      "3.2005616053593815e-05\n",
      "0.005081355951344263\n",
      "3.2119094674204425e-05\n"
     ]
    }
   ],
   "source": []
  },
  {
   "cell_type": "code",
   "execution_count": 12,
   "metadata": {},
   "outputs": [
    {
     "data": {
      "text/plain": [
       "(3, 8000)"
      ]
     },
     "execution_count": 12,
     "metadata": {},
     "output_type": "execute_result"
    }
   ],
   "source": [
    "rates.shape"
   ]
  },
  {
   "cell_type": "code",
   "execution_count": 14,
   "metadata": {},
   "outputs": [
    {
     "data": {
      "text/plain": [
       "(800,)"
      ]
     },
     "execution_count": 14,
     "metadata": {},
     "output_type": "execute_result"
    }
   ],
   "source": [
    "t.shape"
   ]
  },
  {
   "cell_type": "code",
   "execution_count": 16,
   "metadata": {},
   "outputs": [
    {
     "name": "stderr",
     "output_type": "stream",
     "text": [
      "No artists with labels found to put in legend.  Note that artists whose label start with an underscore are ignored when legend() is called with no argument.\n"
     ]
    },
    {
     "data": {
      "text/plain": [
       "<matplotlib.legend.Legend at 0x7f87e12fd8e0>"
      ]
     },
     "execution_count": 16,
     "metadata": {},
     "output_type": "execute_result"
    },
    {
     "data": {
      "image/png": "[encoded data removed]",
      "text/plain": [
       "<Figure size 432x288 with 1 Axes>"
      ]
     },
     "metadata": {
      "needs_background": "light"
     },
     "output_type": "display_data"
    }
   ],
   "source": [
    "plt.legend(loc=3)"
   ]
  },
  {
   "cell_type": "code",
   "execution_count": 2,
   "metadata": {},
   "outputs": [
    {
     "data": {
      "text/plain": [
       "7.141790511357606"
      ]
     },
     "execution_count": 2,
     "metadata": {},
     "output_type": "execute_result"
    }
   ],
   "source": []
  },
  {
   "cell_type": "code",
   "execution_count": null,
   "metadata": {},
   "outputs": [],
   "source": []
  }
 ],
 "metadata": {
  "kernelspec": {
   "display_name": "Python 3.8.3 ('base')",
   "language": "python",
   "name": "python3"
  },
  "language_info": {
   "codemirror_mode": {
    "name": "ipython",
    "version": 3
   },
   "file_extension": ".py",
   "mimetype": "text/x-python",
   "name": "python",
   "nbconvert_exporter": "python",
   "pygments_lexer": "ipython3",
   "version": "3.8.3"
  },
  "orig_nbformat": 4,
  "vscode": {
   "interpreter": {
    "hash": "aaead61585ffbfa77ad988ca8cedcffcb67b4f54f12412d1ad3b769248fed130"
   }
  }
 },
 "nbformat": 4,
 "nbformat_minor": 2
}
