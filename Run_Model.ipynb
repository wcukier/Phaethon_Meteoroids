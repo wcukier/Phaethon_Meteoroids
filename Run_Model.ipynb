{
 "cells": [
  {
   "cell_type": "code",
   "execution_count": 5,
   "metadata": {},
   "outputs": [
    {
     "name": "stdout",
     "output_type": "stream",
     "text": [
      "1\n",
      "Added Jupiter...\n",
      "Added Earth...\n",
      "Added Mars...\n",
      "Added Venus...\n",
      "Added Mercury...\n",
      "adding particles...\n",
      "time arrays...\n",
      "simulating...\n",
      "100%|████████████████████████████████| 460000/460000 [00:12<00:00, 38049.91it/s]\n",
      "100%|██████████████████████████████| 1051200/1051200 [01:04<00:00, 16224.94it/s]\n",
      "100%|██████████████████████████████████████| 1998/1998 [00:15<00:00, 128.18it/s]\n",
      "100%|██████████████████████████████████| 20000/20000 [00:00<00:00, 25406.40it/s]\n"
     ]
    }
   ],
   "source": [
    "!python3 main.py 1 4 1 2000"
   ]
  }
 ],
 "metadata": {
  "kernelspec": {
   "display_name": "Python 3",
   "language": "python",
   "name": "python3"
  },
  "language_info": {
   "codemirror_mode": {
    "name": "ipython",
    "version": 3
   },
   "file_extension": ".py",
   "mimetype": "text/x-python",
   "name": "python",
   "nbconvert_exporter": "python",
   "pygments_lexer": "ipython3",
   "version": "3.8.3"
  }
 },
 "nbformat": 4,
 "nbformat_minor": 4
}
